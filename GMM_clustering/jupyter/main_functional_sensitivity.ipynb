{
 "cells": [
  {
   "cell_type": "code",
   "execution_count": 1,
   "metadata": {},
   "outputs": [
    {
     "name": "stderr",
     "output_type": "stream",
     "text": [
      "/accounts/grad/runjing_liu/.conda/envs/bnp_sensitivity_jax/lib/python3.9/site-packages/jax/lib/xla_bridge.py:130: UserWarning: No GPU/TPU found, falling back to CPU.\n",
      "  warnings.warn('No GPU/TPU found, falling back to CPU.')\n"
     ]
    }
   ],
   "source": [
    "import jax\n",
    "from jax import numpy as np\n",
    "from jax import scipy as sp\n",
    "from jax import random\n",
    "\n",
    "import numpy as onp\n",
    "from numpy.polynomial.hermite import hermgauss\n",
    "\n",
    "import paragami\n",
    "\n",
    "# GMM libraries\n",
    "import bnpgmm_runjingdev.gmm_clustering_lib as gmm_lib\n",
    "import bnpgmm_runjingdev.utils_lib as utils_lib\n",
    "import bnpgmm_runjingdev.gmm_optimization_lib as gmm_optim_lib\n",
    "from bnpgmm_runjingdev import gmm_posterior_quantities_lib\n",
    "\n",
    "# BNP libraries\n",
    "from bnpmodeling_runjingdev.sensitivity_lib import HyperparameterSensitivityLinearApproximation, get_cross_hess\n",
    "from bnpmodeling_runjingdev import result_loading_utils, influence_lib\n",
    "import bnpmodeling_runjingdev.functional_sensitivity_lib as func_sens_lib\n",
    "\n",
    "import matplotlib.pyplot as plt\n",
    "%matplotlib inline\n",
    "import matplotlib.cm as cm\n",
    "\n",
    "from sklearn.decomposition import PCA\n",
    "\n",
    "from copy import deepcopy\n",
    "\n",
    "import time"
   ]
  },
  {
   "cell_type": "code",
   "execution_count": 2,
   "metadata": {},
   "outputs": [],
   "source": [
    "import influence_function_utils\n",
    "import gmm_loading_utils"
   ]
  },
  {
   "cell_type": "code",
   "execution_count": null,
   "metadata": {},
   "outputs": [],
   "source": []
  },
  {
   "cell_type": "markdown",
   "metadata": {},
   "source": [
    "# Load data"
   ]
  },
  {
   "cell_type": "markdown",
   "metadata": {},
   "source": [
    "We load and plot the iris dataset"
   ]
  },
  {
   "cell_type": "code",
   "execution_count": 3,
   "metadata": {},
   "outputs": [],
   "source": [
    "# load iris data\n",
    "dataset_name = 'iris'\n",
    "iris_obs, iris_species = utils_lib.load_iris_data()\n",
    "dim = iris_obs.shape[1]\n",
    "n_obs = len(iris_species)\n",
    "\n",
    "iris_obs = np.array(iris_obs)"
   ]
  },
  {
   "cell_type": "code",
   "execution_count": 4,
   "metadata": {},
   "outputs": [
    {
     "data": {
      "text/plain": [
       "Text(0, 0.5, 'PC2')"
      ]
     },
     "execution_count": 4,
     "metadata": {},
     "output_type": "execute_result"
    },
    {
     "data": {
      "image/png": "[encoded data removed]",
      "text/plain": [
       "<Figure size 432x288 with 1 Axes>"
      ]
     },
     "metadata": {
      "needs_background": "light"
     },
     "output_type": "display_data"
    }
   ],
   "source": [
    "# run PCA\n",
    "pca_fit = PCA()\n",
    "pca_fit.fit(iris_obs)\n",
    "pc_iris_obs = pca_fit.transform(iris_obs)\n",
    "\n",
    "# plot\n",
    "cmap = cm.get_cmap(name='gist_rainbow')\n",
    "colors1 = [cmap(k * 50) for k in range(30)]\n",
    "\n",
    "fig1 = plt.figure(1)\n",
    "fig = fig1.add_subplot(111)\n",
    "utils_lib.plot_clusters(pc_iris_obs[:, 0], pc_iris_obs[:, 1], iris_species, colors1, fig)\n",
    "fig.set_xlabel('PC1')\n",
    "fig.set_ylabel('PC2')\n"
   ]
  },
  {
   "cell_type": "code",
   "execution_count": null,
   "metadata": {},
   "outputs": [],
   "source": []
  },
  {
   "cell_type": "markdown",
   "metadata": {},
   "source": [
    "# file paths"
   ]
  },
  {
   "cell_type": "code",
   "execution_count": 5,
   "metadata": {},
   "outputs": [],
   "source": [
    "out_folder = '../fits_20210327/'\n",
    "out_filename = 'iris_fit'"
   ]
  },
  {
   "cell_type": "code",
   "execution_count": 6,
   "metadata": {},
   "outputs": [],
   "source": [
    "alpha0 = 6.0"
   ]
  },
  {
   "cell_type": "markdown",
   "metadata": {},
   "source": [
    "# Load initial fit"
   ]
  },
  {
   "cell_type": "code",
   "execution_count": 7,
   "metadata": {},
   "outputs": [
    {
     "name": "stdout",
     "output_type": "stream",
     "text": [
      "../fits_20210327/iris_fit_alpha6.0.npz\n"
     ]
    }
   ],
   "source": [
    "init_fit_file = out_folder + out_filename + '_alpha' + str(alpha0) + '.npz'\n",
    "print(init_fit_file)"
   ]
  },
  {
   "cell_type": "code",
   "execution_count": 8,
   "metadata": {},
   "outputs": [],
   "source": [
    "vb_opt, vb_opt_dict, e_z_opt, \\\n",
    "     vb_params_paragami, \\\n",
    "        prior_params_dict, \\\n",
    "            gh_loc, gh_weights = gmm_loading_utils.load_initial_fit(init_fit_file, iris_obs)"
   ]
  },
  {
   "cell_type": "code",
   "execution_count": 9,
   "metadata": {},
   "outputs": [],
   "source": [
    "assert prior_params_dict['dp_prior_alpha'] == alpha0"
   ]
  },
  {
   "cell_type": "code",
   "execution_count": null,
   "metadata": {},
   "outputs": [],
   "source": []
  },
  {
   "cell_type": "code",
   "execution_count": null,
   "metadata": {},
   "outputs": [],
   "source": []
  },
  {
   "cell_type": "markdown",
   "metadata": {},
   "source": [
    "### Check results"
   ]
  },
  {
   "cell_type": "code",
   "execution_count": 10,
   "metadata": {},
   "outputs": [],
   "source": [
    "def plot_results_from_vb_params_dict(pca_fit, vb_params_dict, e_z, fig): \n",
    "    # we plot in PCA space\n",
    "    bnp_centroids_pc, bnp_cluster_covs_pc = \\\n",
    "        utils_lib.transform_params_to_pc_space(pca_fit, vb_params_dict['cluster_params']['centroids'], \n",
    "                                               np.linalg.inv(vb_params_dict['cluster_params']['cluster_info']))\n",
    "    \n",
    "    bnp_clusters = np.argmax(e_z, axis = 1)\n",
    "    \n",
    "    cmap = cm.get_cmap(name='gist_rainbow')\n",
    "    colors1 = [cmap(k * 50) for k in range(30)]\n",
    "    \n",
    "    utils_lib.plot_clusters(pc_iris_obs[:, 0], pc_iris_obs[:, 1], bnp_clusters, \\\n",
    "                  colors1, fig, \\\n",
    "                  centroids = bnp_centroids_pc[np.unique(bnp_clusters), :], \n",
    "                cov = bnp_cluster_covs_pc[np.unique(bnp_clusters), :, :])\n"
   ]
  },
  {
   "cell_type": "code",
   "execution_count": 11,
   "metadata": {},
   "outputs": [],
   "source": [
    "bnp_centroids_pc, bnp_cluster_covs_pc = \\\n",
    "        utils_lib.transform_params_to_pc_space(pca_fit, vb_opt_dict['cluster_params']['centroids'], \n",
    "                                               np.linalg.inv(vb_opt_dict['cluster_params']['cluster_info']))"
   ]
  },
  {
   "cell_type": "code",
   "execution_count": null,
   "metadata": {},
   "outputs": [],
   "source": []
  },
  {
   "cell_type": "markdown",
   "metadata": {},
   "source": [
    "### Plot centroids"
   ]
  },
  {
   "cell_type": "code",
   "execution_count": 12,
   "metadata": {},
   "outputs": [
    {
     "data": {
      "text/plain": [
       "Text(0, 0.5, 'PC2')"
      ]
     },
     "execution_count": 12,
     "metadata": {},
     "output_type": "execute_result"
    },
    {
     "data": {
      "image/png": "[encoded data removed]",
      "text/plain": [
       "<Figure size 432x288 with 1 Axes>"
      ]
     },
     "metadata": {
      "needs_background": "light"
     },
     "output_type": "display_data"
    }
   ],
   "source": [
    "fig1 = plt.figure(1)\n",
    "fig = fig1.add_subplot(111)\n",
    "\n",
    "plot_results_from_vb_params_dict(pca_fit, vb_opt_dict, e_z_opt, fig)\n",
    "fig.set_xlabel('PC1', fontsize = 18)\n",
    "fig.set_ylabel('PC2', fontsize = 18)\n"
   ]
  },
  {
   "cell_type": "code",
   "execution_count": null,
   "metadata": {},
   "outputs": [],
   "source": []
  },
  {
   "cell_type": "markdown",
   "metadata": {},
   "source": [
    "# Some wrappers to compute the influence function and posterior statistics"
   ]
  },
  {
   "cell_type": "code",
   "execution_count": 13,
   "metadata": {},
   "outputs": [
    {
     "name": "stdout",
     "output_type": "stream",
     "text": [
      "Compiling hessian solver ...\n",
      "Hessian solver compile time: 58.1028sec\n",
      "\n",
      "Compiling cross hessian...\n",
      "Cross-hessian compile time: 0.673216sec\n",
      "\n",
      "LR sensitivity time: 0.0188355sec\n",
      "\n"
     ]
    }
   ],
   "source": [
    "# contains methods to compute influence functions. \n",
    "# this compiles the hessian solver, so takes about a minute\n",
    "infl_funs = influence_function_utils.InfluenceFunctions(iris_obs, \n",
    "                                                       vb_opt, \n",
    "                                                       vb_params_paragami, \n",
    "                                                       prior_params_dict, \n",
    "                                                       gh_loc, gh_weights)"
   ]
  },
  {
   "cell_type": "code",
   "execution_count": null,
   "metadata": {},
   "outputs": [],
   "source": [
    "vb_sens = infl_funs.vb_sens"
   ]
  },
  {
   "cell_type": "code",
   "execution_count": 14,
   "metadata": {},
   "outputs": [],
   "source": [
    "# contains the posterior statistics\n",
    "post_stats = influence_function_utils.PosteriorStatistics(iris_obs, \n",
    "                                                          vb_params_paragami, \n",
    "                                                          gh_loc, \n",
    "                                                          gh_weights)"
   ]
  },
  {
   "cell_type": "code",
   "execution_count": null,
   "metadata": {},
   "outputs": [],
   "source": []
  },
  {
   "cell_type": "markdown",
   "metadata": {},
   "source": [
    "# Influence functions"
   ]
  },
  {
   "cell_type": "code",
   "execution_count": 15,
   "metadata": {},
   "outputs": [],
   "source": [
    "logit_v_grid = np.linspace(-8, 8, 500)"
   ]
  },
  {
   "cell_type": "code",
   "execution_count": 16,
   "metadata": {},
   "outputs": [],
   "source": [
    "def plot_influence_grid(influence_grid, influence_grid_x_prior, ax): \n",
    "    \n",
    "    # plot y = 0 line\n",
    "    for i in range(3): \n",
    "        ax[i].axhline(0, color = 'black')\n",
    "    \n",
    "    # plot influence function\n",
    "    ax[0].plot(logit_v_grid, influence_grid, color = '#43a2ca')\n",
    "    \n",
    "    # plot prior\n",
    "    ax[1].plot(logit_v_grid,\n",
    "               influence_function_utils.p0(logit_v_grid, alpha0), \n",
    "               color = '#7bccc4')\n",
    "    \n",
    "    # plot influence x prior\n",
    "    ax[2].plot(logit_v_grid, influence_grid_x_prior, color = '#0868ac')\n",
    "        \n",
    "    ax[0].set_ylabel('influence')\n",
    "    ax[1].set_ylabel('prior')\n",
    "    ax[2].set_ylabel('influence x prior')"
   ]
  },
  {
   "cell_type": "code",
   "execution_count": null,
   "metadata": {},
   "outputs": [],
   "source": []
  },
  {
   "cell_type": "markdown",
   "metadata": {},
   "source": [
    "### Influence function on expected number of clusters"
   ]
  },
  {
   "cell_type": "code",
   "execution_count": 17,
   "metadata": {},
   "outputs": [
    {
     "name": "stdout",
     "output_type": "stream",
     "text": [
      "computing gradient ...\n",
      "Elapsed: 7.339sec\n",
      "inverting Hessian (twice) ...\n",
      "Elapsed: 5.852sec\n"
     ]
    }
   ],
   "source": [
    "# in sample\n",
    "infl_num_clust, infl_x_prior_num_clust, ghess_num_clust = \\\n",
    "    infl_funs.get_influence(post_stats.get_n_clusters_insample, \n",
    "                            logit_v_grid)"
   ]
  },
  {
   "cell_type": "code",
   "execution_count": null,
   "metadata": {},
   "outputs": [],
   "source": []
  },
  {
   "cell_type": "code",
   "execution_count": 18,
   "metadata": {},
   "outputs": [
    {
     "data": {
      "image/png": "[encoded data removed]",
      "text/plain": [
       "<Figure size 864x180 with 3 Axes>"
      ]
     },
     "metadata": {
      "needs_background": "light"
     },
     "output_type": "display_data"
    }
   ],
   "source": [
    "fig, axarr = plt.subplots(1, 3, figsize = (12, 2.5),  sharex = True) \n",
    "\n",
    "plot_influence_grid(infl_num_clust,\n",
    "                    infl_x_prior_num_clust,\n",
    "                    axarr)\n",
    "\n",
    "\n",
    "fig.tight_layout()"
   ]
  },
  {
   "cell_type": "code",
   "execution_count": 19,
   "metadata": {},
   "outputs": [],
   "source": [
    "worst_case = influence_lib.WorstCasePerturbation(influence_fun = None, \n",
    "                                                    logit_v_grid = logit_v_grid, \n",
    "                                                    delta = 1.,\n",
    "                                                    cached_influence_grid = infl_num_clust)"
   ]
  },
  {
   "cell_type": "code",
   "execution_count": 20,
   "metadata": {},
   "outputs": [
    {
     "data": {
      "text/plain": [
       "DeviceArray([-3.15831663, -0.30460922,  1.04208417,  2.22845691], dtype=float64)"
      ]
     },
     "execution_count": 20,
     "metadata": {},
     "output_type": "execute_result"
    }
   ],
   "source": [
    "worst_case.change_points"
   ]
  },
  {
   "cell_type": "code",
   "execution_count": null,
   "metadata": {},
   "outputs": [],
   "source": []
  },
  {
   "cell_type": "code",
   "execution_count": null,
   "metadata": {},
   "outputs": [],
   "source": []
  },
  {
   "cell_type": "markdown",
   "metadata": {},
   "source": [
    "# Functions to run experiments for different perturbations"
   ]
  },
  {
   "cell_type": "code",
   "execution_count": null,
   "metadata": {},
   "outputs": [],
   "source": [
    "def get_lr_derivatives(f_obj, epsilon_vec): \n",
    "    # g is the posterior statistic\n",
    "    # g-hess is the gradient of g times the hessian inverse\n",
    "    # f_obj contains the perturbation\n",
    "    \n",
    "    # set derivative \n",
    "    vb_sens._set_cross\n",
    "    \n",
    "    return lr_g_array"
   ]
  },
  {
   "cell_type": "code",
   "execution_count": null,
   "metadata": {},
   "outputs": [],
   "source": [
    "def get_refit_results(f_obj, epsilon_vec): \n",
    "    \n",
    "    # f_obj contains the perturbation \n",
    "    \n",
    "    # this function refits \n",
    "    # refits for all epsilon in epsilon_vec\n",
    "    \n",
    "    # define objective \n",
    "    def _f(vb_free, epsilon): \n",
    "        \n",
    "        vb_params_dict = vb_params_paragami.fold(vb_free, \n",
    "                                                 free = True)\n",
    "\n",
    "        return gmm_lib.get_kl(iris_obs, \n",
    "                              vb_params_dict,\n",
    "                              prior_params_dict,\n",
    "                              gh_loc, gh_weights, \n",
    "                              e_log_phi = lambda x, y : f_obj.e_log_phi_epsilon(x, y, epsilon))\n",
    "    \n",
    "    \n",
    "    # jit functions and gradients\n",
    "    f = jax.jit(_f)\n",
    "    get_grad = jax.jit(jax.grad(_f, 0))\n",
    "    \n",
    "    def _get_hvp(x, epsilon, v):\n",
    "        return jax.jvp(jax.grad(_f, argnums = 0), (x, epsilon), (v, 0.))[1]\n",
    "\n",
    "    get_hvp = jax.jit(_get_hvp)\n",
    "    \n",
    "    # optimize\n",
    "    vb_refit_list = []\n",
    "    for epsilon in epsilon_vec: \n",
    "        print('\\n################')\n",
    "        print('re-optimzing with epsilon = ', epsilon)\n",
    "        print('################')\n",
    "\n",
    "        vb_opt_pert = optimize_kl(lambda x : f(x, epsilon),\n",
    "                                 deepcopy(vb_opt_dict), \n",
    "                                 vb_params_paragami, \n",
    "                                 get_grad = lambda x : get_grad(x, epsilon),\n",
    "                                 get_hvp = lambda x, v: get_hvp(x, epsilon, v),\n",
    "                                 run_lbfgs = False,\n",
    "                                 run_newton = True)[1]                             \n",
    "        \n",
    "        vb_refit_list.append(vb_opt_pert)\n",
    "        \n",
    "    return vb_refit_list"
   ]
  },
  {
   "cell_type": "code",
   "execution_count": null,
   "metadata": {},
   "outputs": [],
   "source": []
  },
  {
   "cell_type": "code",
   "execution_count": null,
   "metadata": {},
   "outputs": [],
   "source": []
  },
  {
   "cell_type": "code",
   "execution_count": null,
   "metadata": {},
   "outputs": [],
   "source": []
  }
 ],
 "metadata": {
  "kernelspec": {
   "display_name": "bnp_sensitivity_jax",
   "language": "python",
   "name": "bnp_sensitivity_jax"
  },
  "language_info": {
   "codemirror_mode": {
    "name": "ipython",
    "version": 3
   },
   "file_extension": ".py",
   "mimetype": "text/x-python",
   "name": "python",
   "nbconvert_exporter": "python",
   "pygments_lexer": "ipython3",
   "version": "3.9.1"
  }
 },
 "nbformat": 4,
 "nbformat_minor": 4
}
