{
 "cells": [
  {
   "cell_type": "code",
   "execution_count": 1,
   "metadata": {},
   "outputs": [
    {
     "name": "stderr",
     "output_type": "stream",
     "text": [
      "/accounts/grad/runjing_liu/.conda/envs/bnp_sensitivity_jax/lib/python3.9/site-packages/jax/lib/xla_bridge.py:130: UserWarning: No GPU/TPU found, falling back to CPU.\n",
      "  warnings.warn('No GPU/TPU found, falling back to CPU.')\n"
     ]
    }
   ],
   "source": [
    "import jax\n",
    "from jax import numpy as np\n",
    "from jax import scipy as sp\n",
    "from jax import random\n",
    "\n",
    "import numpy as onp\n",
    "from numpy.polynomial.hermite import hermgauss\n",
    "\n",
    "import paragami\n",
    "\n",
    "# GMM libraries\n",
    "import bnpgmm_runjingdev.gmm_clustering_lib as gmm_lib\n",
    "import bnpgmm_runjingdev.utils_lib as utils_lib\n",
    "import bnpgmm_runjingdev.gmm_optimization_lib as gmm_optim_lib\n",
    "from bnpgmm_runjingdev import gmm_posterior_quantities_lib\n",
    "\n",
    "# BNP libraries\n",
    "from bnpmodeling_runjingdev.sensitivity_lib import HyperparameterSensitivityLinearApproximation, get_cross_hess\n",
    "from bnpmodeling_runjingdev import result_loading_utils, influence_lib\n",
    "from bnpmodeling_runjingdev.bnp_optimization_lib import optimize_kl\n",
    "import bnpmodeling_runjingdev.functional_sensitivity_lib as func_sens_lib\n",
    "\n",
    "import matplotlib.pyplot as plt\n",
    "%matplotlib inline\n",
    "import matplotlib.cm as cm\n",
    "\n",
    "from sklearn.decomposition import PCA\n",
    "\n",
    "from copy import deepcopy\n",
    "\n",
    "import time"
   ]
  },
  {
   "cell_type": "code",
   "execution_count": 2,
   "metadata": {},
   "outputs": [],
   "source": [
    "# folder to save npz files to produce our paper figures\n",
    "save_data = True\n",
    "out_datadir = '/scratch/users/genomic_times_series_bnp/bnp_sensitivity_paper_data/iris/'"
   ]
  },
  {
   "cell_type": "markdown",
   "metadata": {},
   "source": [
    "# Load data"
   ]
  },
  {
   "cell_type": "markdown",
   "metadata": {},
   "source": [
    "We load and plot the iris dataset"
   ]
  },
  {
   "cell_type": "code",
   "execution_count": 3,
   "metadata": {},
   "outputs": [],
   "source": [
    "# load iris data\n",
    "dataset_name = 'iris'\n",
    "iris_obs, iris_species = utils_lib.load_iris_data()\n",
    "dim = iris_obs.shape[1]\n",
    "n_obs = len(iris_species)\n",
    "\n",
    "iris_obs = np.array(iris_obs)"
   ]
  },
  {
   "cell_type": "code",
   "execution_count": 4,
   "metadata": {},
   "outputs": [
    {
     "data": {
      "text/plain": [
       "Text(0, 0.5, 'PC2')"
      ]
     },
     "execution_count": 4,
     "metadata": {},
     "output_type": "execute_result"
    },
    {
     "data": {
      "image/png": "[encoded data removed]",
      "text/plain": [
       "<Figure size 432x288 with 1 Axes>"
      ]
     },
     "metadata": {
      "needs_background": "light"
     },
     "output_type": "display_data"
    }
   ],
   "source": [
    "# run pca and plot\n",
    "pca_fit, pc_iris_obs, colors1, colors2 = utils_lib.get_plotting_data(iris_obs)\n",
    "\n",
    "fig1 = plt.figure(1)\n",
    "fig = fig1.add_subplot(111)\n",
    "utils_lib.plot_clusters(pc_iris_obs[:, 0], pc_iris_obs[:, 1], iris_species, colors1, fig)\n",
    "fig.set_xlabel('PC1')\n",
    "fig.set_ylabel('PC2')\n"
   ]
  },
  {
   "cell_type": "code",
   "execution_count": null,
   "metadata": {},
   "outputs": [],
   "source": []
  },
  {
   "cell_type": "markdown",
   "metadata": {},
   "source": [
    "# Set up model"
   ]
  },
  {
   "cell_type": "code",
   "execution_count": 5,
   "metadata": {},
   "outputs": [
    {
     "name": "stdout",
     "output_type": "stream",
     "text": [
      "{'dp_prior_alpha': 2.0, 'prior_centroid_mean': DeviceArray([0.], dtype=float64), 'prior_lambda': DeviceArray([1.], dtype=float64), 'prior_wishart_df': DeviceArray([10.], dtype=float64), 'prior_wishart_rate': DeviceArray([[1., 0., 0., 0.],\n",
      "             [0., 1., 0., 0.],\n",
      "             [0., 0., 1., 0.],\n",
      "             [0., 0., 0., 1.]], dtype=float64)}\n"
     ]
    }
   ],
   "source": [
    "# Get priors\n",
    "prior_params_dict, prior_params_paragami = gmm_lib.get_default_prior_params(dim)\n",
    "\n",
    "# set initial alpha\n",
    "alpha0 = 2.0\n",
    "prior_params_dict['dp_prior_alpha'] = alpha0\n",
    "print(prior_params_dict)"
   ]
  },
  {
   "cell_type": "markdown",
   "metadata": {},
   "source": [
    "## Variational parameters"
   ]
  },
  {
   "cell_type": "code",
   "execution_count": 6,
   "metadata": {},
   "outputs": [],
   "source": [
    "# number of clusters in variational distribution \n",
    "k_approx = 15"
   ]
  },
  {
   "cell_type": "code",
   "execution_count": 7,
   "metadata": {},
   "outputs": [],
   "source": [
    "# Gauss-Hermite points for integrating logitnormal stick-breaking prior\n",
    "gh_deg = 8\n",
    "gh_loc, gh_weights = hermgauss(gh_deg)\n",
    "\n",
    "# convert to jax arrays\n",
    "gh_loc, gh_weights = np.array(gh_loc), np.array(gh_weights)"
   ]
  },
  {
   "cell_type": "code",
   "execution_count": 8,
   "metadata": {},
   "outputs": [],
   "source": [
    "# get vb parameters\n",
    "vb_params_dict, vb_params_paragami = gmm_lib.get_vb_params_paragami_object(dim, k_approx)"
   ]
  },
  {
   "cell_type": "code",
   "execution_count": 9,
   "metadata": {},
   "outputs": [
    {
     "data": {
      "text/plain": [
       "DeviceArray(4495.75192152, dtype=float64)"
      ]
     },
     "execution_count": 9,
     "metadata": {},
     "output_type": "execute_result"
    }
   ],
   "source": [
    "# the objective \n",
    "gmm_lib.get_kl(iris_obs, vb_params_dict, prior_params_dict, gh_loc, gh_weights)"
   ]
  },
  {
   "cell_type": "code",
   "execution_count": null,
   "metadata": {},
   "outputs": [],
   "source": []
  },
  {
   "cell_type": "markdown",
   "metadata": {},
   "source": [
    "# Optimize"
   ]
  },
  {
   "cell_type": "code",
   "execution_count": 10,
   "metadata": {},
   "outputs": [],
   "source": [
    "# if `use_presaved_fit = True`, run `main_parametric_sensitivity.ipynb` first. \n",
    "# this load the same model fitted in that notebook. \n",
    "\n",
    "use_presaved_fit = True"
   ]
  },
  {
   "cell_type": "code",
   "execution_count": 11,
   "metadata": {},
   "outputs": [],
   "source": [
    "if use_presaved_fit: \n",
    "    vb_opt_dict, _, meta_data = paragami.load_folded('./initial_fit.npz')\n",
    "\n",
    "    kl = gmm_lib.get_kl(iris_obs, vb_opt_dict, prior_params_dict, gh_loc, gh_weights)\n",
    "    \n",
    "    # chec kmodel matches \n",
    "    assert meta_data['alpha0'] == alpha0\n",
    "    assert np.abs(meta_data['final_kl'] - kl) < 1e-10\n",
    "    \n",
    "    # get other parameters\n",
    "    vb_opt = vb_params_paragami.flatten(vb_opt_dict, free = True)\n",
    "    e_z_opt = gmm_posterior_quantities_lib.get_optimal_z_from_vb_dict(iris_obs,\n",
    "                               vb_opt_dict,\n",
    "                               gh_loc,\n",
    "                               gh_weights,\n",
    "                               use_bnp_prior = True)\n",
    "else: \n",
    "    \n",
    "    # run k-means init \n",
    "    n_kmeans_init = 10\n",
    "    init_vb_free_params, init_vb_params_dict, init_ez = \\\n",
    "        gmm_optim_lib.cluster_and_get_k_means_inits(iris_obs,\n",
    "                                                vb_params_paragami, \n",
    "                                                n_kmeans_init = n_kmeans_init, \n",
    "                                                seed = 789970)\n",
    "\n",
    "    # then optimize \n",
    "    vb_opt_dict, vb_opt, e_z_opt, _, _ = \\\n",
    "        gmm_optim_lib.optimize_gmm(iris_obs,\n",
    "                                     init_vb_params_dict,\n",
    "                                     vb_params_paragami,\n",
    "                                     prior_params_dict, \n",
    "                                     gh_loc, gh_weights, \n",
    "                                     run_newton = True)"
   ]
  },
  {
   "cell_type": "code",
   "execution_count": null,
   "metadata": {},
   "outputs": [],
   "source": []
  },
  {
   "cell_type": "markdown",
   "metadata": {},
   "source": [
    "### Check results"
   ]
  },
  {
   "cell_type": "code",
   "execution_count": 12,
   "metadata": {},
   "outputs": [],
   "source": [
    "def plot_results_from_vb_params_dict(pca_fit, vb_params_dict, e_z, fig): \n",
    "    \n",
    "    means = vb_params_dict['centroid_params']['means']\n",
    "    infos = np.einsum('k, kij -> kij', \n",
    "                      vb_params_dict['centroid_params']['wishart_df'], \n",
    "                      vb_params_dict['centroid_params']['wishart_scale'])\n",
    "    \n",
    "    # we plot in PCA space\n",
    "    bnp_centroids_pc, bnp_cluster_covs_pc = \\\n",
    "        utils_lib.transform_params_to_pc_space(pca_fit, means, np.linalg.inv(infos))\n",
    "    \n",
    "    bnp_clusters = np.argmax(e_z, axis = 1)\n",
    "    \n",
    "    cmap = cm.get_cmap(name='gist_rainbow')\n",
    "    colors1 = [cmap(k * 50) for k in range(30)]\n",
    "    \n",
    "    utils_lib.plot_clusters(pc_iris_obs[:, 0], pc_iris_obs[:, 1], bnp_clusters, \\\n",
    "                  colors1, fig, \\\n",
    "                  centroids = bnp_centroids_pc[np.unique(bnp_clusters), :], \n",
    "                cov = bnp_cluster_covs_pc[np.unique(bnp_clusters), :, :])\n",
    "    \n",
    "    return bnp_centroids_pc, bnp_cluster_covs_pc"
   ]
  },
  {
   "cell_type": "markdown",
   "metadata": {},
   "source": [
    "### Plot centroids"
   ]
  },
  {
   "cell_type": "code",
   "execution_count": 13,
   "metadata": {},
   "outputs": [
    {
     "data": {
      "text/plain": [
       "Text(0, 0.5, 'PC2')"
      ]
     },
     "execution_count": 13,
     "metadata": {},
     "output_type": "execute_result"
    },
    {
     "data": {
      "image/png": "[encoded data removed]",
      "text/plain": [
       "<Figure size 432x288 with 1 Axes>"
      ]
     },
     "metadata": {
      "needs_background": "light"
     },
     "output_type": "display_data"
    }
   ],
   "source": [
    "fig1 = plt.figure(1)\n",
    "fig = fig1.add_subplot(111)\n",
    "\n",
    "plot_results_from_vb_params_dict(pca_fit, vb_opt_dict, e_z_opt, fig)\n",
    "fig.set_xlabel('PC1', fontsize = 18)\n",
    "fig.set_ylabel('PC2', fontsize = 18)\n"
   ]
  },
  {
   "cell_type": "code",
   "execution_count": null,
   "metadata": {},
   "outputs": [],
   "source": []
  },
  {
   "cell_type": "markdown",
   "metadata": {},
   "source": [
    "# Define sensitivity class"
   ]
  },
  {
   "cell_type": "markdown",
   "metadata": {},
   "source": [
    "### this is just a wrapper to compile the hessian solver. \n",
    "\n",
    "We will set the perturbation later"
   ]
  },
  {
   "cell_type": "code",
   "execution_count": 14,
   "metadata": {},
   "outputs": [],
   "source": [
    "def objective_fun(vb_params_free, epsilon): \n",
    "\n",
    "    # NOTE! epsilon doesn't actual enter \n",
    "    # into this function. \n",
    "\n",
    "    # since the initial fit is at epsilon = 0, \n",
    "    # we just return the actual KL\n",
    "\n",
    "    # we really just need the hessian wrt to vb free parameters ... \n",
    "\n",
    "    vb_params_dict = vb_params_paragami.fold(vb_params_free, \n",
    "                                             free = True)\n",
    "\n",
    "    return gmm_lib.get_kl(iris_obs, \n",
    "                          vb_params_dict,\n",
    "                          prior_params_dict,\n",
    "                          gh_loc,\n",
    "                          gh_weights).squeeze()"
   ]
  },
  {
   "cell_type": "code",
   "execution_count": 15,
   "metadata": {},
   "outputs": [
    {
     "name": "stdout",
     "output_type": "stream",
     "text": [
      "Compiling hessian solver ...\n",
      "Hessian solver compile time: 78.54sec\n",
      "\n",
      "Compiling cross hessian...\n",
      "Cross-hessian compile time: 0.05141sec\n",
      "\n",
      "LR sensitivity time: 0.0187941sec\n",
      "\n"
     ]
    }
   ],
   "source": [
    "vb_sens = HyperparameterSensitivityLinearApproximation(objective_fun,\n",
    "                                                    vb_opt,\n",
    "                                                    hyper_par_value0 = 0., \n",
    "                                                    # this is null for now. \n",
    "                                                    # will set appropriately later\n",
    "                                                    hyper_par_objective_fun = lambda x, y : 0.)"
   ]
  },
  {
   "cell_type": "code",
   "execution_count": null,
   "metadata": {},
   "outputs": [],
   "source": []
  },
  {
   "cell_type": "markdown",
   "metadata": {},
   "source": [
    "# Compute influence function\n"
   ]
  },
  {
   "cell_type": "code",
   "execution_count": 16,
   "metadata": {},
   "outputs": [],
   "source": [
    "# this contains methods to compute the influence function\n",
    "influence_operator = influence_lib.InfluenceOperator(vb_opt, \n",
    "                                                     vb_params_paragami, \n",
    "                                                     vb_sens.hessian_solver,\n",
    "                                                     prior_params_dict['dp_prior_alpha'],\n",
    "                                                     stick_key = 'stick_params')"
   ]
  },
  {
   "cell_type": "markdown",
   "metadata": {},
   "source": [
    "### Define the posterior statistic"
   ]
  },
  {
   "cell_type": "code",
   "execution_count": 17,
   "metadata": {},
   "outputs": [],
   "source": [
    "prng_key = jax.random.PRNGKey(223)\n",
    "\n",
    "def _g(vb_free):\n",
    "    \n",
    "    vb_params_dict = vb_params_paragami.fold(vb_free, free = True)\n",
    "    \n",
    "    return gmm_posterior_quantities_lib.get_e_num_clusters_from_vb_dict(iris_obs,\n",
    "                                                    vb_params_dict,\n",
    "                                                    gh_loc, gh_weights,\n",
    "                                                    threshold = 0,\n",
    "                                                    n_samples = 10000, \n",
    "                                                    prng_key = prng_key)\n",
    "\n",
    "g = jax.jit(_g)"
   ]
  },
  {
   "cell_type": "code",
   "execution_count": null,
   "metadata": {},
   "outputs": [],
   "source": []
  },
  {
   "cell_type": "code",
   "execution_count": null,
   "metadata": {},
   "outputs": [],
   "source": []
  },
  {
   "cell_type": "markdown",
   "metadata": {},
   "source": [
    "### Get gradient of posterior statistic"
   ]
  },
  {
   "cell_type": "code",
   "execution_count": 18,
   "metadata": {},
   "outputs": [],
   "source": [
    "# get gradient of g and compile\n",
    "get_grad_g = jax.jit(jax.jacobian(_g, argnums = 0))\n",
    "_ = get_grad_g(vb_opt).block_until_ready()"
   ]
  },
  {
   "cell_type": "code",
   "execution_count": 19,
   "metadata": {},
   "outputs": [],
   "source": [
    "def time_function(fun, args, n_trials = 10):\n",
    "    \n",
    "    t_vec = onp.zeros(n_trials)\n",
    "    \n",
    "    for n in range(n_trials): \n",
    "        t0 = time.time() \n",
    "        _ = fun(args).block_until_ready()\n",
    "        t_vec[n] = time.time() - t0\n",
    "        \n",
    "    return t_vec"
   ]
  },
  {
   "cell_type": "code",
   "execution_count": 20,
   "metadata": {},
   "outputs": [],
   "source": [
    "# check the timing\n",
    "_grad_time = time_function(get_grad_g, vb_opt)\n",
    "\n",
    "grad_time = np.median(_grad_time)"
   ]
  },
  {
   "cell_type": "code",
   "execution_count": 21,
   "metadata": {},
   "outputs": [],
   "source": [
    "grad_g = get_grad_g(vb_opt)"
   ]
  },
  {
   "cell_type": "code",
   "execution_count": null,
   "metadata": {},
   "outputs": [],
   "source": []
  },
  {
   "cell_type": "markdown",
   "metadata": {},
   "source": [
    "### Finally, invert the hessian and compute the influence"
   ]
  },
  {
   "cell_type": "code",
   "execution_count": 22,
   "metadata": {},
   "outputs": [],
   "source": [
    "logit_v_grid = np.linspace(-8, 8, 1000)"
   ]
  },
  {
   "cell_type": "code",
   "execution_count": 23,
   "metadata": {},
   "outputs": [],
   "source": [
    "# the influence function as defined\n",
    "influence_grid, grad_g_hess_inv = influence_operator.get_influence(logit_v_grid, grad_g)\n",
    "\n",
    "\n",
    "# this is influence times the prior\n",
    "influence_grid_x_prior, _ = \\\n",
    "    influence_operator.get_influence(logit_v_grid, \n",
    "                                     grad_g, \n",
    "                                     weight_by_inv_prior = False)"
   ]
  },
  {
   "cell_type": "code",
   "execution_count": 24,
   "metadata": {},
   "outputs": [
    {
     "name": "stdout",
     "output_type": "stream",
     "text": [
      "[0.16548514 0.08704472 0.0878408  0.09114075 0.0939033  0.09207177\n",
      " 0.07890701 0.08894849 0.08535719 0.09042954]\n"
     ]
    }
   ],
   "source": [
    "# check the timing\n",
    "_infl_time = time_function(lambda x : influence_operator.get_influence(*x)[0], \n",
    "                           (logit_v_grid, grad_g))\n",
    "print(_infl_time)\n",
    "\n",
    "infl_time = np.median(_infl_time)"
   ]
  },
  {
   "cell_type": "code",
   "execution_count": null,
   "metadata": {},
   "outputs": [],
   "source": []
  },
  {
   "cell_type": "markdown",
   "metadata": {},
   "source": [
    "# plot the influence"
   ]
  },
  {
   "cell_type": "code",
   "execution_count": 25,
   "metadata": {},
   "outputs": [],
   "source": [
    "# the prior (for plotting)\n",
    "def p0(logit_v, alpha0): \n",
    "    return np.exp(influence_lib._get_log_logitstick_prior(logit_v, alpha0))"
   ]
  },
  {
   "cell_type": "code",
   "execution_count": 26,
   "metadata": {},
   "outputs": [
    {
     "data": {
      "image/png": "[encoded data removed]",
      "text/plain": [
       "<Figure size 864x180 with 3 Axes>"
      ]
     },
     "metadata": {
      "needs_background": "light"
     },
     "output_type": "display_data"
    }
   ],
   "source": [
    "fig, ax = plt.subplots(1, 3, figsize = (12, 2.5),  sharex = True) \n",
    "\n",
    "# plot y = 0 line\n",
    "for i in range(3): \n",
    "    ax[i].axhline(0, color = 'black')\n",
    "\n",
    "# plot influence function\n",
    "ax[0].plot(logit_v_grid, influence_grid, color = '#43a2ca')\n",
    "\n",
    "# plot prior\n",
    "ax[1].plot(logit_v_grid,\n",
    "           p0(logit_v_grid, alpha0), \n",
    "           color = '#7bccc4')\n",
    "\n",
    "# plot influence x prior\n",
    "ax[2].plot(logit_v_grid, influence_grid_x_prior, color = '#0868ac')\n",
    "\n",
    "ax[0].set_ylabel('influence')\n",
    "ax[1].set_ylabel('prior')\n",
    "ax[2].set_ylabel('influence x prior')\n",
    "\n",
    "fig.tight_layout()"
   ]
  },
  {
   "cell_type": "code",
   "execution_count": null,
   "metadata": {},
   "outputs": [],
   "source": []
  },
  {
   "cell_type": "code",
   "execution_count": 27,
   "metadata": {},
   "outputs": [
    {
     "name": "stdout",
     "output_type": "stream",
     "text": [
      "saving influence data\n"
     ]
    }
   ],
   "source": [
    "if save_data: \n",
    "    print('saving influence data')\n",
    "    np.savez(out_datadir + 'iris_influence_fun', \n",
    "             logit_v_grid = logit_v_grid, \n",
    "             influence_grid = influence_grid, \n",
    "             influence_grid_x_prior = influence_grid_x_prior, \n",
    "             grad_g_time = grad_time, \n",
    "             infl_time = infl_time)"
   ]
  },
  {
   "cell_type": "code",
   "execution_count": null,
   "metadata": {},
   "outputs": [],
   "source": []
  },
  {
   "cell_type": "markdown",
   "metadata": {},
   "source": [
    "# Function to run experiments for different perturbations"
   ]
  },
  {
   "cell_type": "code",
   "execution_count": 28,
   "metadata": {},
   "outputs": [],
   "source": [
    "def get_lr_derivatives(f_obj, epsilon_vec, fully_linearize = False): \n",
    "    # f_obj contains the perturbation\n",
    "    \n",
    "    # set derivative \n",
    "    vb_sens._set_cross_hess_and_solve(f_obj.hyper_par_objective_fun)\n",
    "    \n",
    "    # save lr time\n",
    "    hess_solve_time = vb_sens.lr_time\n",
    "    \n",
    "    # get lr predictions \n",
    "    lr_list = []\n",
    "    lr_time_vec = []\n",
    "    \n",
    "    if fully_linearize: \n",
    "        t0 = time.time() \n",
    "        lr_g_vec = np.dot(grad_g, vb_sens.dinput_dhyper) * epsilon_vec + g(vb_sens.opt_par_value)\n",
    "        lr_g_vec = lr_g_vec.block_until_ready()\n",
    "        lr_time_vec.append(time.time() - t0)\n",
    "    \n",
    "    else: \n",
    "        for epsilon in epsilon_vec: \n",
    "            t0 = time.time()\n",
    "        \n",
    "            # get linear response\n",
    "            lr_free_params = vb_sens.predict_opt_par_from_hyper_par(np.array([epsilon])).block_until_ready()\n",
    "            elapsed = time.time() - t0\n",
    "            \n",
    "            lr_list.append(lr_free_params)\n",
    "            lr_time_vec.append(elapsed)\n",
    "        \n",
    "        lr_g_vec = result_loading_utils.get_post_stat_vec(g, lr_list)\n",
    "        \n",
    "    return lr_g_vec, hess_solve_time, lr_time_vec"
   ]
  },
  {
   "cell_type": "code",
   "execution_count": 29,
   "metadata": {},
   "outputs": [],
   "source": [
    "def get_refit_results(f_obj, epsilon_vec): \n",
    "    \n",
    "    # f_obj contains the perturbation \n",
    "    \n",
    "    # this function refits \n",
    "    # for all epsilon in epsilon_vec\n",
    "    \n",
    "    # define objective \n",
    "    def _f(vb_free, epsilon): \n",
    "        \n",
    "        vb_params_dict = vb_params_paragami.fold(vb_free, \n",
    "                                                 free = True)\n",
    "\n",
    "        return gmm_lib.get_kl(iris_obs, \n",
    "                              vb_params_dict,\n",
    "                              prior_params_dict,\n",
    "                              gh_loc, gh_weights, \n",
    "                              e_log_phi = lambda x, y : f_obj.e_log_phi_epsilon(x, y, epsilon))\n",
    "    \n",
    "    \n",
    "    # jit functions and gradients\n",
    "    f = jax.jit(_f)\n",
    "    get_grad = jax.jit(jax.grad(_f, 0))\n",
    "    \n",
    "    def _get_hvp(x, epsilon, v):\n",
    "        return jax.jvp(jax.grad(_f, argnums = 0), (x, epsilon), (v, 0.))[1]\n",
    "\n",
    "    get_hvp = jax.jit(_get_hvp)\n",
    "    \n",
    "    # optimize\n",
    "    vb_refit_list = []\n",
    "    refit_time_vec = []\n",
    "    for epsilon in epsilon_vec: \n",
    "        print('\\n################')\n",
    "        print('re-optimzing with epsilon = ', epsilon)\n",
    "        print('################')\n",
    "\n",
    "        _, vb_opt_pert, _, refit_time = \\\n",
    "            optimize_kl(lambda x : f(x, epsilon),\n",
    "                         deepcopy(vb_opt_dict), \n",
    "                         vb_params_paragami, \n",
    "                         get_grad = lambda x : get_grad(x, epsilon),\n",
    "                         get_hvp = lambda x, v: get_hvp(x, epsilon, v),\n",
    "                         run_lbfgs = False,\n",
    "                         run_newton = True)                          \n",
    "        \n",
    "        vb_refit_list.append(vb_opt_pert)\n",
    "        refit_time_vec.append(refit_time)\n",
    "        \n",
    "    return vb_refit_list, refit_time_vec"
   ]
  },
  {
   "cell_type": "code",
   "execution_count": 30,
   "metadata": {},
   "outputs": [],
   "source": [
    "def run_analysis(f_obj):    \n",
    "    \n",
    "    epsilon_vec = np.linspace(0, 1, 6)\n",
    "    \n",
    "    ###################\n",
    "    # get refit results\n",
    "    ###################\n",
    "    vb_refit_list, refit_time_vec = get_refit_results(f_obj, epsilon_vec)\n",
    "    \n",
    "    # get posterior statistic\n",
    "    refit_g_vec = result_loading_utils.get_post_stat_vec(g, vb_refit_list)\n",
    "\n",
    "    ###################\n",
    "    # get lr results\n",
    "    ###################\n",
    "    lr_g_vec, hess_solve_time, lr_time_vec = get_lr_derivatives(f_obj, epsilon_vec, False)\n",
    "        \n",
    "    return refit_g_vec, refit_time_vec, lr_g_vec, hess_solve_time, lr_time_vec, epsilon_vec"
   ]
  },
  {
   "cell_type": "code",
   "execution_count": 31,
   "metadata": {},
   "outputs": [],
   "source": [
    "def plot_results(refit_g_vec, lr_g_vec, epsilon_vec, f_obj): \n",
    "    \n",
    "    ###################\n",
    "    # plot prior x influence function \n",
    "    ###################\n",
    "    fig, ax = plt.subplots(1, 4, figsize = (14, 3.5))\n",
    "    \n",
    "    log_phi_grid = f_obj.log_phi(logit_v_grid)\n",
    "    \n",
    "    # scale influence so it has l-inf norm 1\n",
    "    infl_norm = np.abs(influence_grid_x_prior).max()\n",
    "    scale = np.abs(log_phi_grid).max() / infl_norm\n",
    "    \n",
    "    ax[0].plot(logit_v_grid, influence_grid_x_prior * scale)\n",
    "    # plot y = 0\n",
    "    ax[0].axhline(0, color = 'black')\n",
    "\n",
    "    # overlay bump\n",
    "    ax[0].plot(logit_v_grid, \n",
    "               log_phi_grid,\n",
    "               color = 'grey')\n",
    "\n",
    "    ax[0].fill_between(logit_v_grid, \n",
    "                       0,\n",
    "                       log_phi_grid,\n",
    "                       color = 'grey',\n",
    "                       alpha = 0.5)\n",
    "    ax[0].set_xlabel('influence x prior')\n",
    "\n",
    "    ###################\n",
    "    # plot perturbed prior \n",
    "    ###################\n",
    "    # compute perturbed prior\n",
    "    prior_perturbation = func_sens_lib.PriorPerturbation(\n",
    "                                alpha0 = alpha0,\n",
    "                                log_phi = f_obj.log_phi, \n",
    "                                logit_v_ub = 10, \n",
    "                                logit_v_lb = -10)\n",
    "\n",
    "    prior_perturbation._plot_priors(ax[1])\n",
    "    prior_perturbation._plot_priors_constrained(ax[2])\n",
    "    ax[2].legend()\n",
    "\n",
    "    for j in range(3): \n",
    "        ax[j].set_xlabel('logit-sticks')\n",
    "\n",
    "    ###################\n",
    "    # plot posterior statistic \n",
    "    ###################                        \n",
    "    # plot refit results\n",
    "    ax[3].plot(epsilon_vec,\n",
    "                  refit_g_vec - refit_g_vec[0], \n",
    "                  '-o', \n",
    "                  label = 'refit')\n",
    "\n",
    "    # plot lr results\n",
    "    ax[3].plot(epsilon_vec, \n",
    "                  lr_g_vec - lr_g_vec[0], \n",
    "                  '-o', \n",
    "                  label = 'lr')\n",
    "\n",
    "    ax[3].set_xlabel('epsilon')\n",
    "    ax[3].axhline(0, color = 'black')\n",
    "\n",
    "    ax[3].legend()\n",
    "    ax[3].set_ylabel('g(pert) - g(init)')\n",
    "\n",
    "    fig.tight_layout()\n",
    "    \n",
    "    # stuff to save\n",
    "    p0_logit = np.exp(prior_perturbation.get_log_p0_logit(logit_v_grid))\n",
    "    p1_logit = np.exp(prior_perturbation.get_log_pc_logit(logit_v_grid))\n",
    "    \n",
    "    v_grid = sp.special.expit(logit_v_grid)\n",
    "    p0_constr = np.exp(prior_perturbation.get_log_p0(v_grid))\n",
    "    p1_constr = np.exp(prior_perturbation.get_log_pc(v_grid))\n",
    "    \n",
    "    return dict(logit_v_grid = logit_v_grid, \n",
    "                v_grid = v_grid,\n",
    "                log_phi_grid = log_phi_grid,\n",
    "                p0_logit = p0_logit, \n",
    "                p1_logit = p1_logit,\n",
    "                p0_constr = p0_constr, \n",
    "                p1_constr = p1_constr)"
   ]
  },
  {
   "cell_type": "code",
   "execution_count": 32,
   "metadata": {},
   "outputs": [],
   "source": [
    "def run_all_and_save(f_obj, outfile): \n",
    "    refit_g_vec, refit_time_vec, lr_g_vec, hess_solve_time, lr_time_vec, epsilon_vec = \\\n",
    "        run_analysis(f_obj)\n",
    "    \n",
    "    prior_results_dict = plot_results(refit_g_vec, lr_g_vec, epsilon_vec, f_obj)\n",
    "    \n",
    "    if save_data: \n",
    "        print('saving sensitivity data')\n",
    "        np.savez(outfile, \n",
    "                 epsilon_vec = epsilon_vec, \n",
    "                 refit_g_vec = refit_g_vec, \n",
    "                 lr_g_vec = lr_g_vec, \n",
    "                 refit_time_vec = refit_time_vec, \n",
    "                 hess_solve_time = hess_solve_time, \n",
    "                 lr_time_vec = lr_time_vec,\n",
    "                 **prior_results_dict)"
   ]
  },
  {
   "cell_type": "markdown",
   "metadata": {},
   "source": [
    "# Get results!"
   ]
  },
  {
   "cell_type": "markdown",
   "metadata": {},
   "source": [
    "### Worst-case perturbation"
   ]
  },
  {
   "cell_type": "code",
   "execution_count": 33,
   "metadata": {},
   "outputs": [],
   "source": [
    "worst_case = influence_lib.WorstCasePerturbation(influence_fun = None, \n",
    "                                                    logit_v_grid = logit_v_grid, \n",
    "                                                    delta = 1.,\n",
    "                                                    cached_influence_grid = influence_grid)\n",
    "\n",
    "f_obj_wc = func_sens_lib.FunctionalPerturbationObjective(worst_case.log_phi, \n",
    "                                                          vb_params_paragami, \n",
    "                                                          e_log_phi = lambda x,y : worst_case.get_e_log_linf_perturbation(x,y), \n",
    "                                                          gh_loc = gh_loc, \n",
    "                                                          gh_weights = gh_weights, \n",
    "                                                          stick_key = 'stick_params')"
   ]
  },
  {
   "cell_type": "code",
   "execution_count": 34,
   "metadata": {},
   "outputs": [
    {
     "name": "stdout",
     "output_type": "stream",
     "text": [
      "\n",
      "################\n",
      "re-optimzing with epsilon =  0.0\n",
      "################\n",
      "compiling objective and derivatives ... \n",
      "done. Compile time: 42.068sec\n",
      "Running trust-ncg ... \n",
      "Newton time: 0.004sec\n",
      "Newton out:  Optimization terminated successfully.\n",
      "done. \n",
      "\n",
      "################\n",
      "re-optimzing with epsilon =  0.2\n",
      "################\n",
      "compiling objective and derivatives ... \n",
      "done. Compile time: 2.269sec\n",
      "Running trust-ncg ... \n",
      "Newton time: 0.463sec\n",
      "Newton out:  Optimization terminated successfully.\n",
      "done. \n",
      "\n",
      "################\n",
      "re-optimzing with epsilon =  0.4\n",
      "################\n",
      "compiling objective and derivatives ... \n",
      "done. Compile time: 2.274sec\n",
      "Running trust-ncg ... \n",
      "Newton time: 0.506sec\n",
      "Newton out:  Optimization terminated successfully.\n",
      "done. \n",
      "\n",
      "################\n",
      "re-optimzing with epsilon =  0.6\n",
      "################\n",
      "compiling objective and derivatives ... \n",
      "done. Compile time: 2.278sec\n",
      "Running trust-ncg ... \n",
      "Newton time: 0.745sec\n",
      "Newton out:  Optimization terminated successfully.\n",
      "done. \n",
      "\n",
      "################\n",
      "re-optimzing with epsilon =  0.8\n",
      "################\n",
      "compiling objective and derivatives ... \n",
      "done. Compile time: 2.274sec\n",
      "Running trust-ncg ... \n",
      "Newton time: 0.744sec\n",
      "Newton out:  Optimization terminated successfully.\n",
      "done. \n",
      "\n",
      "################\n",
      "re-optimzing with epsilon =  1.0\n",
      "################\n",
      "compiling objective and derivatives ... \n",
      "done. Compile time: 2.278sec\n",
      "Running trust-ncg ... \n",
      "Newton time: 0.607sec\n",
      "Newton out:  Optimization terminated successfully.\n",
      "done. \n",
      "Compiling cross hessian...\n",
      "Cross-hessian compile time: 0.561793sec\n",
      "\n",
      "LR sensitivity time: 0.0246224sec\n",
      "\n"
     ]
    },
    {
     "name": "stderr",
     "output_type": "stream",
     "text": [
      "/accounts/grad/runjing_liu/.conda/envs/bnp_sensitivity_jax/lib/python3.9/site-packages/scipy/integrate/_quadrature.py:259: AccuracyWarning: maxiter (50) exceeded. Latest difference = 7.108081e-03\n",
      "  warnings.warn(\n",
      "/accounts/grad/runjing_liu/.conda/envs/bnp_sensitivity_jax/lib/python3.9/site-packages/scipy/integrate/_quadrature.py:259: AccuracyWarning: maxiter (50) exceeded. Latest difference = 1.088925e-01\n",
      "  warnings.warn(\n"
     ]
    },
    {
     "name": "stdout",
     "output_type": "stream",
     "text": [
      "saving sensitivity data\n"
     ]
    },
    {
     "data": {
      "image/png": "[encoded data removed]",
      "text/plain": [
       "<Figure size 1008x252 with 4 Axes>"
      ]
     },
     "metadata": {
      "needs_background": "light"
     },
     "output_type": "display_data"
    }
   ],
   "source": [
    "run_all_and_save(f_obj_wc, out_datadir + 'iris_worst_case')"
   ]
  },
  {
   "cell_type": "markdown",
   "metadata": {},
   "source": [
    "### Gaussian perturbations"
   ]
  },
  {
   "cell_type": "code",
   "execution_count": 35,
   "metadata": {},
   "outputs": [],
   "source": [
    "def gaussian_pert(x, loc, scale): \n",
    "    return sp.stats.norm.pdf(x, loc, scale) * np.sqrt(2 * np.pi) * scale"
   ]
  },
  {
   "cell_type": "code",
   "execution_count": 36,
   "metadata": {},
   "outputs": [
    {
     "name": "stdout",
     "output_type": "stream",
     "text": [
      "\n",
      "################\n",
      "re-optimzing with epsilon =  0.0\n",
      "################\n",
      "compiling objective and derivatives ... \n",
      "done. Compile time: 41.230sec\n",
      "Running trust-ncg ... \n",
      "Newton time: 0.003sec\n",
      "Newton out:  Optimization terminated successfully.\n",
      "done. \n",
      "\n",
      "################\n",
      "re-optimzing with epsilon =  0.2\n",
      "################\n",
      "compiling objective and derivatives ... \n",
      "done. Compile time: 2.135sec\n",
      "Running trust-ncg ... \n",
      "Newton time: 0.277sec\n",
      "Newton out:  Optimization terminated successfully.\n",
      "done. \n",
      "\n",
      "################\n",
      "re-optimzing with epsilon =  0.4\n",
      "################\n",
      "compiling objective and derivatives ... \n",
      "done. Compile time: 2.139sec\n",
      "Running trust-ncg ... \n",
      "Newton time: 0.282sec\n",
      "Newton out:  Optimization terminated successfully.\n",
      "done. \n",
      "\n",
      "################\n",
      "re-optimzing with epsilon =  0.6\n",
      "################\n",
      "compiling objective and derivatives ... \n",
      "done. Compile time: 2.143sec\n",
      "Running trust-ncg ... \n",
      "Newton time: 0.268sec\n",
      "Newton out:  Optimization terminated successfully.\n",
      "done. \n",
      "\n",
      "################\n",
      "re-optimzing with epsilon =  0.8\n",
      "################\n",
      "compiling objective and derivatives ... \n",
      "done. Compile time: 2.139sec\n",
      "Running trust-ncg ... \n",
      "Newton time: 0.238sec\n",
      "Newton out:  Optimization terminated successfully.\n",
      "done. \n",
      "\n",
      "################\n",
      "re-optimzing with epsilon =  1.0\n",
      "################\n",
      "compiling objective and derivatives ... \n",
      "done. Compile time: 2.146sec\n",
      "Running trust-ncg ... \n",
      "Newton time: 0.282sec\n",
      "Newton out:  Optimization terminated successfully.\n",
      "done. \n",
      "Compiling cross hessian...\n",
      "Cross-hessian compile time: 0.49562sec\n",
      "\n",
      "LR sensitivity time: 0.0128644sec\n",
      "\n"
     ]
    },
    {
     "name": "stderr",
     "output_type": "stream",
     "text": [
      "/accounts/grad/runjing_liu/.conda/envs/bnp_sensitivity_jax/lib/python3.9/site-packages/scipy/integrate/_quadrature.py:259: AccuracyWarning: maxiter (50) exceeded. Latest difference = 4.784903e-07\n",
      "  warnings.warn(\n",
      "/accounts/grad/runjing_liu/.conda/envs/bnp_sensitivity_jax/lib/python3.9/site-packages/scipy/integrate/_quadrature.py:259: AccuracyWarning: maxiter (50) exceeded. Latest difference = 1.954449e-07\n",
      "  warnings.warn(\n"
     ]
    },
    {
     "name": "stdout",
     "output_type": "stream",
     "text": [
      "saving sensitivity data\n"
     ]
    },
    {
     "data": {
      "image/png": "[encoded data removed]",
      "text/plain": [
       "<Figure size 1008x252 with 4 Axes>"
      ]
     },
     "metadata": {
      "needs_background": "light"
     },
     "output_type": "display_data"
    }
   ],
   "source": [
    "log_phi_gauss1 = lambda x : gaussian_pert(x, loc = -4, scale = 0.75)\n",
    "\n",
    "f_obj_gauss1 = func_sens_lib.FunctionalPerturbationObjective(log_phi_gauss1, \n",
    "                                                          vb_params_paragami, \n",
    "                                                          gh_loc = gh_loc, \n",
    "                                                          gh_weights = gh_weights, \n",
    "                                                          stick_key = 'stick_params')\n",
    "\n",
    "run_all_and_save(f_obj_gauss1, out_datadir + 'iris_fpert1')"
   ]
  },
  {
   "cell_type": "code",
   "execution_count": 37,
   "metadata": {},
   "outputs": [
    {
     "name": "stdout",
     "output_type": "stream",
     "text": [
      "\n",
      "################\n",
      "re-optimzing with epsilon =  0.0\n",
      "################\n",
      "compiling objective and derivatives ... \n",
      "done. Compile time: 41.129sec\n",
      "Running trust-ncg ... \n",
      "Newton time: 0.003sec\n",
      "Newton out:  Optimization terminated successfully.\n",
      "done. \n",
      "\n",
      "################\n",
      "re-optimzing with epsilon =  0.2\n",
      "################\n",
      "compiling objective and derivatives ... \n",
      "done. Compile time: 2.146sec\n",
      "Running trust-ncg ... \n",
      "Newton time: 0.369sec\n",
      "Newton out:  Optimization terminated successfully.\n",
      "done. \n",
      "\n",
      "################\n",
      "re-optimzing with epsilon =  0.4\n",
      "################\n",
      "compiling objective and derivatives ... \n",
      "done. Compile time: 2.147sec\n",
      "Running trust-ncg ... \n",
      "Newton time: 0.316sec\n",
      "Newton out:  Optimization terminated successfully.\n",
      "done. \n",
      "\n",
      "################\n",
      "re-optimzing with epsilon =  0.6\n",
      "################\n",
      "compiling objective and derivatives ... \n",
      "done. Compile time: 2.156sec\n",
      "Running trust-ncg ... \n",
      "Newton time: 0.359sec\n",
      "Newton out:  Optimization terminated successfully.\n",
      "done. \n",
      "\n",
      "################\n",
      "re-optimzing with epsilon =  0.8\n",
      "################\n",
      "compiling objective and derivatives ... \n",
      "done. Compile time: 2.151sec\n",
      "Running trust-ncg ... \n",
      "Newton time: 0.352sec\n",
      "Newton out:  Optimization terminated successfully.\n",
      "done. \n",
      "\n",
      "################\n",
      "re-optimzing with epsilon =  1.0\n",
      "################\n",
      "compiling objective and derivatives ... \n",
      "done. Compile time: 2.158sec\n",
      "Running trust-ncg ... \n",
      "Newton time: 0.507sec\n",
      "Newton out:  Optimization terminated successfully.\n",
      "done. \n",
      "Compiling cross hessian...\n",
      "Cross-hessian compile time: 0.409378sec\n",
      "\n",
      "LR sensitivity time: 0.0170205sec\n",
      "\n"
     ]
    },
    {
     "name": "stderr",
     "output_type": "stream",
     "text": [
      "/accounts/grad/runjing_liu/.conda/envs/bnp_sensitivity_jax/lib/python3.9/site-packages/scipy/integrate/_quadrature.py:259: AccuracyWarning: maxiter (50) exceeded. Latest difference = 6.763920e-05\n",
      "  warnings.warn(\n"
     ]
    },
    {
     "name": "stdout",
     "output_type": "stream",
     "text": [
      "saving sensitivity data\n"
     ]
    },
    {
     "data": {
      "image/png": "[encoded data removed]",
      "text/plain": [
       "<Figure size 1008x252 with 4 Axes>"
      ]
     },
     "metadata": {
      "needs_background": "light"
     },
     "output_type": "display_data"
    }
   ],
   "source": [
    "log_phi_gauss2 = lambda x : gaussian_pert(x, loc = -2., scale = 0.75)\n",
    "\n",
    "f_obj_gauss2 = func_sens_lib.FunctionalPerturbationObjective(log_phi_gauss2, \n",
    "                                                          vb_params_paragami, \n",
    "                                                          gh_loc = gh_loc, \n",
    "                                                          gh_weights = gh_weights, \n",
    "                                                          stick_key = 'stick_params')\n",
    "\n",
    "run_all_and_save(f_obj_gauss2, out_datadir + 'iris_fpert2')"
   ]
  },
  {
   "cell_type": "code",
   "execution_count": null,
   "metadata": {},
   "outputs": [],
   "source": []
  },
  {
   "cell_type": "code",
   "execution_count": 38,
   "metadata": {},
   "outputs": [
    {
     "name": "stdout",
     "output_type": "stream",
     "text": [
      "\n",
      "################\n",
      "re-optimzing with epsilon =  0.0\n",
      "################\n",
      "compiling objective and derivatives ... \n",
      "done. Compile time: 41.537sec\n",
      "Running trust-ncg ... \n",
      "Newton time: 0.003sec\n",
      "Newton out:  Optimization terminated successfully.\n",
      "done. \n",
      "\n",
      "################\n",
      "re-optimzing with epsilon =  0.2\n",
      "################\n",
      "compiling objective and derivatives ... \n",
      "done. Compile time: 2.182sec\n",
      "Running trust-ncg ... \n",
      "Newton time: 0.309sec\n",
      "Newton out:  Optimization terminated successfully.\n",
      "done. \n",
      "\n",
      "################\n",
      "re-optimzing with epsilon =  0.4\n",
      "################\n",
      "compiling objective and derivatives ... \n",
      "done. Compile time: 2.175sec\n",
      "Running trust-ncg ... \n",
      "Newton time: 0.443sec\n",
      "Newton out:  Optimization terminated successfully.\n",
      "done. \n",
      "\n",
      "################\n",
      "re-optimzing with epsilon =  0.6\n",
      "################\n",
      "compiling objective and derivatives ... \n",
      "done. Compile time: 2.176sec\n",
      "Running trust-ncg ... \n",
      "Newton time: 0.460sec\n",
      "Newton out:  Optimization terminated successfully.\n",
      "done. \n",
      "\n",
      "################\n",
      "re-optimzing with epsilon =  0.8\n",
      "################\n",
      "compiling objective and derivatives ... \n",
      "done. Compile time: 2.182sec\n",
      "Running trust-ncg ... \n",
      "Newton time: 0.465sec\n",
      "Newton out:  Optimization terminated successfully.\n",
      "done. \n",
      "\n",
      "################\n",
      "re-optimzing with epsilon =  1.0\n",
      "################\n",
      "compiling objective and derivatives ... \n",
      "done. Compile time: 2.180sec\n",
      "Running trust-ncg ... \n",
      "Newton time: 0.525sec\n",
      "Newton out:  Optimization terminated successfully.\n",
      "done. \n",
      "Compiling cross hessian...\n",
      "Cross-hessian compile time: 0.409556sec\n",
      "\n",
      "LR sensitivity time: 0.0167418sec\n",
      "\n"
     ]
    },
    {
     "name": "stderr",
     "output_type": "stream",
     "text": [
      "/accounts/grad/runjing_liu/.conda/envs/bnp_sensitivity_jax/lib/python3.9/site-packages/scipy/integrate/_quadrature.py:259: AccuracyWarning: maxiter (50) exceeded. Latest difference = 6.871913e-05\n",
      "  warnings.warn(\n"
     ]
    },
    {
     "name": "stdout",
     "output_type": "stream",
     "text": [
      "saving sensitivity data\n"
     ]
    },
    {
     "data": {
      "image/png": "[encoded data removed]",
      "text/plain": [
       "<Figure size 1008x252 with 4 Axes>"
      ]
     },
     "metadata": {
      "needs_background": "light"
     },
     "output_type": "display_data"
    }
   ],
   "source": [
    "log_phi_gauss3 = lambda x : gaussian_pert(x, loc = -0.5, scale = 0.75) # log_phi_gauss1(x) + log_phi_gauss2(x)\n",
    "\n",
    "f_obj_gauss3 = func_sens_lib.FunctionalPerturbationObjective(log_phi_gauss3, \n",
    "                                                          vb_params_paragami, \n",
    "                                                          gh_loc = gh_loc, \n",
    "                                                          gh_weights = gh_weights, \n",
    "                                                          stick_key = 'stick_params')\n",
    "\n",
    "run_all_and_save(f_obj_gauss3, out_datadir + 'iris_fpert3')"
   ]
  },
  {
   "cell_type": "code",
   "execution_count": null,
   "metadata": {},
   "outputs": [],
   "source": []
  },
  {
   "cell_type": "code",
   "execution_count": null,
   "metadata": {},
   "outputs": [],
   "source": []
  },
  {
   "cell_type": "code",
   "execution_count": null,
   "metadata": {},
   "outputs": [],
   "source": []
  },
  {
   "cell_type": "code",
   "execution_count": null,
   "metadata": {},
   "outputs": [],
   "source": []
  },
  {
   "cell_type": "code",
   "execution_count": null,
   "metadata": {},
   "outputs": [],
   "source": []
  },
  {
   "cell_type": "code",
   "execution_count": null,
   "metadata": {},
   "outputs": [],
   "source": []
  },
  {
   "cell_type": "code",
   "execution_count": null,
   "metadata": {},
   "outputs": [],
   "source": []
  },
  {
   "cell_type": "code",
   "execution_count": null,
   "metadata": {},
   "outputs": [],
   "source": []
  },
  {
   "cell_type": "code",
   "execution_count": null,
   "metadata": {},
   "outputs": [],
   "source": []
  },
  {
   "cell_type": "code",
   "execution_count": null,
   "metadata": {},
   "outputs": [],
   "source": []
  },
  {
   "cell_type": "code",
   "execution_count": null,
   "metadata": {},
   "outputs": [],
   "source": []
  },
  {
   "cell_type": "raw",
   "metadata": {
    "jupyter": {
     "source_hidden": true
    }
   },
   "source": []
  },
  {
   "cell_type": "raw",
   "metadata": {},
   "source": [
    "log_phi = lambda x : gaussian_pert(x, loc = -0.5, scale = 0.75)\n",
    "\n",
    "prior_perturbation = func_sens_lib.PriorPerturbation(\n",
    "                                alpha0 = alpha0,\n",
    "                                log_phi = log_phi, \n",
    "                                logit_v_ub = 10, \n",
    "                                logit_v_lb = -10)\n",
    "\n",
    "prior_perturbation.plot_perturbation()"
   ]
  },
  {
   "cell_type": "raw",
   "metadata": {},
   "source": [
    "plt.plot(logit_v_grid, log_phi(logit_v_grid))\n",
    "plt.plot(logit_v_grid, influence_grid_x_prior * 500)\n",
    "\n",
    "plt.hlines(y = 0, xmin = -10, xmax = 10, color = 'grey')"
   ]
  },
  {
   "cell_type": "raw",
   "metadata": {},
   "source": [
    "worst_case.change_points"
   ]
  },
  {
   "cell_type": "raw",
   "metadata": {},
   "source": []
  },
  {
   "cell_type": "raw",
   "metadata": {},
   "source": []
  },
  {
   "cell_type": "raw",
   "metadata": {},
   "source": []
  },
  {
   "cell_type": "raw",
   "metadata": {},
   "source": [
    "plt.plot(logit_v_grid, \n",
    "        influence_grid_x_prior * log_phi_gauss1(logit_v_grid))"
   ]
  },
  {
   "cell_type": "raw",
   "metadata": {},
   "source": [
    "plt.plot(logit_v_grid, \n",
    "        influence_grid_x_prior * log_phi_gauss2(logit_v_grid))"
   ]
  },
  {
   "cell_type": "raw",
   "metadata": {},
   "source": [
    "plt.plot(logit_v_grid, \n",
    "        influence_grid_x_prior * log_phi_gauss3(logit_v_grid))"
   ]
  },
  {
   "cell_type": "raw",
   "metadata": {},
   "source": []
  },
  {
   "cell_type": "raw",
   "metadata": {},
   "source": []
  },
  {
   "cell_type": "raw",
   "metadata": {},
   "source": []
  },
  {
   "cell_type": "raw",
   "metadata": {},
   "source": [
    "# log_phi = lambda x : gaussian_pert(x, loc = -4, scale = 0.5)\n",
    "\n",
    "# prior_perturbation = func_sens_lib.PriorPerturbation(\n",
    "#                                 alpha0 = alpha0,\n",
    "#                                 log_phi = log_phi, \n",
    "#                                 logit_v_ub = 10, \n",
    "#                                 logit_v_lb = -10)\n",
    "\n",
    "# prior_perturbation.plot_perturbation()"
   ]
  },
  {
   "cell_type": "raw",
   "metadata": {},
   "source": [
    "log_phi = lambda x : gaussian_pert(x, loc = -3, scale = 1)\n",
    "\n",
    "prior_perturbation = func_sens_lib.PriorPerturbation(\n",
    "                                alpha0 = alpha0,\n",
    "                                log_phi = log_phi, \n",
    "                                logit_v_ub = 10, \n",
    "                                logit_v_lb = -10)\n",
    "\n",
    "prior_perturbation.plot_perturbation()"
   ]
  },
  {
   "cell_type": "raw",
   "metadata": {},
   "source": [
    "worst_case.change_points"
   ]
  },
  {
   "cell_type": "raw",
   "metadata": {},
   "source": [
    "plt.plot(logit_v_grid, log_phi(logit_v_grid))\n",
    "plt.plot(logit_v_grid, influence_grid_x_prior * 5)\n",
    "plt.hlines(y = 0, xmin = -10, xmax = 10, color = 'grey')\n",
    "plt.vlines(x=-4, ymin = -1, ymax = 1, color = 'red')\n",
    "plt.vlines(x=-2, ymin = -1, ymax = 1, color = 'red')\n",
    "plt.vlines(x=-3,ymin = -1, ymax = 1, color = 'red')"
   ]
  },
  {
   "cell_type": "raw",
   "metadata": {},
   "source": []
  },
  {
   "cell_type": "raw",
   "metadata": {},
   "source": []
  },
  {
   "cell_type": "raw",
   "metadata": {},
   "source": []
  },
  {
   "cell_type": "raw",
   "metadata": {},
   "source": []
  },
  {
   "cell_type": "raw",
   "metadata": {},
   "source": []
  }
 ],
 "metadata": {
  "kernelspec": {
   "display_name": "bnp_sensitivity_jax",
   "language": "python",
   "name": "bnp_sensitivity_jax"
  },
  "language_info": {
   "codemirror_mode": {
    "name": "ipython",
    "version": 3
   },
   "file_extension": ".py",
   "mimetype": "text/x-python",
   "name": "python",
   "nbconvert_exporter": "python",
   "pygments_lexer": "ipython3",
   "version": "3.9.1"
  }
 },
 "nbformat": 4,
 "nbformat_minor": 4
}
