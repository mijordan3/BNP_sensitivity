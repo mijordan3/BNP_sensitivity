{
 "cells": [
  {
   "cell_type": "markdown",
   "metadata": {},
   "source": [
    "This notebook demonstrates the use of our linear approximation for sensitivity with respect to the Dirichlet process $\\alpha$ parameter, in a GMM mixture model of the iris data set."
   ]
  },
  {
   "cell_type": "code",
   "execution_count": 1,
   "metadata": {},
   "outputs": [
    {
     "name": "stderr",
     "output_type": "stream",
     "text": [
      "/accounts/grad/runjing_liu/.conda/envs/bnp_sensitivity_jax/lib/python3.9/site-packages/jax/lib/xla_bridge.py:130: UserWarning: No GPU/TPU found, falling back to CPU.\n",
      "  warnings.warn('No GPU/TPU found, falling back to CPU.')\n"
     ]
    }
   ],
   "source": [
    "import jax\n",
    "from jax import numpy as np\n",
    "from jax import random\n",
    "\n",
    "import numpy as onp\n",
    "\n",
    "from numpy.polynomial.hermite import hermgauss\n",
    "\n",
    "import paragami\n",
    "\n",
    "# GMM libraries\n",
    "import bnpgmm_runjingdev.gmm_clustering_lib as gmm_lib\n",
    "import bnpgmm_runjingdev.utils_lib as utils_lib\n",
    "import bnpgmm_runjingdev.gmm_optimization_lib as gmm_optim_lib\n",
    "from bnpgmm_runjingdev import gmm_posterior_quantities_lib\n",
    "\n",
    "# BNP libraries\n",
    "from bnpmodeling_runjingdev.sensitivity_lib import HyperparameterSensitivityLinearApproximation\n",
    "from bnpmodeling_runjingdev import result_loading_utils\n",
    "\n",
    "import matplotlib.pyplot as plt\n",
    "%matplotlib inline\n",
    "import matplotlib.cm as cm\n",
    "\n",
    "from sklearn.decomposition import PCA\n",
    "\n",
    "from copy import deepcopy\n",
    "\n",
    "import time"
   ]
  },
  {
   "cell_type": "code",
   "execution_count": 2,
   "metadata": {},
   "outputs": [],
   "source": [
    "# folder to save npz files to produce our paper figures\n",
    "save_data = False\n",
    "out_datadir = '/scratch/users/genomic_times_series_bnp/bnp_sensitivity_paper_data/iris/'"
   ]
  },
  {
   "cell_type": "code",
   "execution_count": null,
   "metadata": {},
   "outputs": [],
   "source": []
  },
  {
   "cell_type": "code",
   "execution_count": null,
   "metadata": {},
   "outputs": [],
   "source": []
  },
  {
   "cell_type": "markdown",
   "metadata": {},
   "source": [
    "# Load data"
   ]
  },
  {
   "cell_type": "markdown",
   "metadata": {},
   "source": [
    "We load and plot the iris dataset"
   ]
  },
  {
   "cell_type": "code",
   "execution_count": 3,
   "metadata": {},
   "outputs": [],
   "source": [
    "# load iris data\n",
    "dataset_name = 'iris'\n",
    "iris_obs, iris_species = utils_lib.load_iris_data()\n",
    "dim = iris_obs.shape[1]\n",
    "n_obs = len(iris_species)\n",
    "\n",
    "iris_obs = np.array(iris_obs)"
   ]
  },
  {
   "cell_type": "code",
   "execution_count": 4,
   "metadata": {},
   "outputs": [
    {
     "data": {
      "text/plain": [
       "Text(0, 0.5, 'PC2')"
      ]
     },
     "execution_count": 4,
     "metadata": {},
     "output_type": "execute_result"
    },
    {
     "data": {
      "image/png": "[encoded data removed]",
      "text/plain": [
       "<Figure size 432x288 with 1 Axes>"
      ]
     },
     "metadata": {
      "needs_background": "light"
     },
     "output_type": "display_data"
    }
   ],
   "source": [
    "# run PCA\n",
    "pca_fit = PCA()\n",
    "pca_fit.fit(iris_obs)\n",
    "pc_iris_obs = pca_fit.transform(iris_obs)\n",
    "\n",
    "# plot\n",
    "cmap = cm.get_cmap(name='gist_rainbow')\n",
    "colors1 = [cmap(k * 50) for k in range(30)]\n",
    "\n",
    "fig1 = plt.figure(1)\n",
    "fig = fig1.add_subplot(111)\n",
    "utils_lib.plot_clusters(pc_iris_obs[:, 0], pc_iris_obs[:, 1], iris_species, colors1, fig)\n",
    "fig.set_xlabel('PC1')\n",
    "fig.set_ylabel('PC2')\n"
   ]
  },
  {
   "cell_type": "code",
   "execution_count": null,
   "metadata": {},
   "outputs": [],
   "source": []
  },
  {
   "cell_type": "markdown",
   "metadata": {},
   "source": [
    "# Set up model"
   ]
  },
  {
   "cell_type": "markdown",
   "metadata": {},
   "source": [
    "### Prior parameters"
   ]
  },
  {
   "cell_type": "code",
   "execution_count": 5,
   "metadata": {},
   "outputs": [
    {
     "name": "stdout",
     "output_type": "stream",
     "text": [
      "{'dp_prior_alpha': 6.0, 'prior_centroid_mean': DeviceArray([0.], dtype=float64), 'prior_lambda': DeviceArray([1.], dtype=float64), 'prior_wishart_df': DeviceArray([10.], dtype=float64), 'prior_wishart_rate': DeviceArray([[1., 0., 0., 0.],\n",
      "             [0., 1., 0., 0.],\n",
      "             [0., 0., 1., 0.],\n",
      "             [0., 0., 0., 1.]], dtype=float64)}\n"
     ]
    }
   ],
   "source": [
    "# Get priors\n",
    "prior_params_dict, prior_params_paragami = gmm_lib.get_default_prior_params(dim)\n",
    "\n",
    "# set initial alpha\n",
    "alpha0 = 6.0\n",
    "prior_params_dict['dp_prior_alpha'] = alpha0\n",
    "print(prior_params_dict)"
   ]
  },
  {
   "cell_type": "code",
   "execution_count": null,
   "metadata": {},
   "outputs": [],
   "source": []
  },
  {
   "cell_type": "markdown",
   "metadata": {},
   "source": [
    "### Variational parameters"
   ]
  },
  {
   "cell_type": "code",
   "execution_count": 6,
   "metadata": {},
   "outputs": [],
   "source": [
    "# number of clusters in variational distribution \n",
    "k_approx = 15"
   ]
  },
  {
   "cell_type": "code",
   "execution_count": 7,
   "metadata": {},
   "outputs": [],
   "source": [
    "# Gauss-Hermite points for integrating logitnormal stick-breaking prior\n",
    "gh_deg = 8\n",
    "gh_loc, gh_weights = hermgauss(gh_deg)\n",
    "\n",
    "# convert to jax arrays\n",
    "gh_loc, gh_weights = np.array(gh_loc), np.array(gh_weights)"
   ]
  },
  {
   "cell_type": "code",
   "execution_count": 8,
   "metadata": {},
   "outputs": [],
   "source": [
    "# get vb parameters\n",
    "vb_params_dict, vb_params_paragami = gmm_lib.get_vb_params_paragami_object(dim, k_approx)"
   ]
  },
  {
   "cell_type": "code",
   "execution_count": 9,
   "metadata": {},
   "outputs": [
    {
     "data": {
      "text/plain": [
       "DeviceArray(4555.14761661, dtype=float64)"
      ]
     },
     "execution_count": 9,
     "metadata": {},
     "output_type": "execute_result"
    }
   ],
   "source": [
    "# the objective \n",
    "gmm_lib.get_kl(iris_obs, vb_params_dict, prior_params_dict, gh_loc, gh_weights)"
   ]
  },
  {
   "cell_type": "code",
   "execution_count": null,
   "metadata": {},
   "outputs": [],
   "source": []
  },
  {
   "cell_type": "code",
   "execution_count": null,
   "metadata": {},
   "outputs": [],
   "source": []
  },
  {
   "cell_type": "markdown",
   "metadata": {},
   "source": [
    "# Optimize KL objective"
   ]
  },
  {
   "cell_type": "markdown",
   "metadata": {},
   "source": [
    "### Initialize with K-means"
   ]
  },
  {
   "cell_type": "code",
   "execution_count": 10,
   "metadata": {},
   "outputs": [
    {
     "name": "stdout",
     "output_type": "stream",
     "text": [
      "elapsed (secs):  4.81028938293457\n"
     ]
    }
   ],
   "source": [
    "# run a kmeans init\n",
    "t0 = time.time()\n",
    "n_kmeans_init = 10\n",
    "init_vb_free_params, init_vb_params_dict, init_ez = \\\n",
    "    gmm_optim_lib.cluster_and_get_k_means_inits(iris_obs,\n",
    "                                            vb_params_paragami, \n",
    "                                            n_kmeans_init = n_kmeans_init, \n",
    "                                            seed = 1210)\n",
    "k_means_time = time.time() - t0\n",
    "print('elapsed (secs): ', k_means_time)"
   ]
  },
  {
   "cell_type": "code",
   "execution_count": 11,
   "metadata": {},
   "outputs": [
    {
     "name": "stdout",
     "output_type": "stream",
     "text": [
      "initial kl: \n",
      "1517.9494863066338\n"
     ]
    }
   ],
   "source": [
    "print('initial kl: ')\n",
    "print(gmm_lib.get_kl(iris_obs, init_vb_params_dict, prior_params_dict, gh_loc, gh_weights))"
   ]
  },
  {
   "cell_type": "code",
   "execution_count": null,
   "metadata": {},
   "outputs": [],
   "source": []
  },
  {
   "cell_type": "code",
   "execution_count": null,
   "metadata": {},
   "outputs": [],
   "source": []
  },
  {
   "cell_type": "markdown",
   "metadata": {},
   "source": [
    "### Optimize the KL"
   ]
  },
  {
   "cell_type": "code",
   "execution_count": 12,
   "metadata": {},
   "outputs": [
    {
     "name": "stdout",
     "output_type": "stream",
     "text": [
      "compiling objective and derivatives ... \n",
      "done. Compile time: 41.884sec\n",
      "Running L-BFGS-B ...\n",
      "L-BFGS-B time: 0.717sec\n",
      "BFGS out:  CONVERGENCE: REL_REDUCTION_OF_F_<=_FACTR*EPSMCH\n",
      "Running trust-ncg ... \n",
      "Newton time: 0.269sec\n",
      "Newton out:  Optimization terminated successfully.\n",
      "done. \n"
     ]
    }
   ],
   "source": [
    "vb_opt_dict, vb_opt, e_z_opt, out, init_fit_time = gmm_optim_lib.optimize_gmm(iris_obs,\n",
    "                                                                 init_vb_params_dict,\n",
    "                                                                 vb_params_paragami,\n",
    "                                                                 prior_params_dict, \n",
    "                                                                 gh_loc, gh_weights, \n",
    "                                                                 run_newton = True)"
   ]
  },
  {
   "cell_type": "code",
   "execution_count": 13,
   "metadata": {},
   "outputs": [],
   "source": [
    "vb_opt = vb_params_paragami.flatten(vb_opt_dict, free = True)"
   ]
  },
  {
   "cell_type": "code",
   "execution_count": 14,
   "metadata": {},
   "outputs": [],
   "source": [
    "paragami.save_folded('./initial_fit', \n",
    "                     vb_opt_dict, \n",
    "                     vb_params_paragami, \n",
    "                     final_kl = out.fun, \n",
    "                     alpha0 = alpha0)"
   ]
  },
  {
   "cell_type": "code",
   "execution_count": null,
   "metadata": {},
   "outputs": [],
   "source": []
  },
  {
   "cell_type": "code",
   "execution_count": null,
   "metadata": {},
   "outputs": [],
   "source": []
  },
  {
   "cell_type": "markdown",
   "metadata": {},
   "source": [
    "### Check results"
   ]
  },
  {
   "cell_type": "code",
   "execution_count": 15,
   "metadata": {},
   "outputs": [],
   "source": [
    "def plot_results_from_vb_params_dict(pca_fit, vb_params_dict, e_z, fig): \n",
    "    \n",
    "    means = vb_params_dict['centroid_params']['means']\n",
    "    infos = np.einsum('k, kij -> kij', \n",
    "                      vb_params_dict['centroid_params']['wishart_df'], \n",
    "                      vb_params_dict['centroid_params']['wishart_scale'])\n",
    "    \n",
    "    # we plot in PCA space\n",
    "    bnp_centroids_pc, bnp_cluster_covs_pc = \\\n",
    "        utils_lib.transform_params_to_pc_space(pca_fit, means, np.linalg.inv(infos))\n",
    "    \n",
    "    bnp_clusters = np.argmax(e_z, axis = 1)\n",
    "    \n",
    "    cmap = cm.get_cmap(name='gist_rainbow')\n",
    "    colors1 = [cmap(k * 50) for k in range(30)]\n",
    "    \n",
    "    utils_lib.plot_clusters(pc_iris_obs[:, 0], pc_iris_obs[:, 1], bnp_clusters, \\\n",
    "                  colors1, fig, \\\n",
    "                  centroids = bnp_centroids_pc[np.unique(bnp_clusters), :], \n",
    "                cov = bnp_cluster_covs_pc[np.unique(bnp_clusters), :, :])\n",
    "    \n",
    "    return bnp_centroids_pc, bnp_cluster_covs_pc"
   ]
  },
  {
   "cell_type": "code",
   "execution_count": null,
   "metadata": {},
   "outputs": [],
   "source": []
  },
  {
   "cell_type": "markdown",
   "metadata": {},
   "source": [
    "### Plot centroids"
   ]
  },
  {
   "cell_type": "code",
   "execution_count": 16,
   "metadata": {},
   "outputs": [
    {
     "data": {
      "text/plain": [
       "Text(0, 0.5, 'PC2')"
      ]
     },
     "execution_count": 16,
     "metadata": {},
     "output_type": "execute_result"
    },
    {
     "data": {
      "image/png": "[encoded data removed]",
      "text/plain": [
       "<Figure size 432x288 with 1 Axes>"
      ]
     },
     "metadata": {
      "needs_background": "light"
     },
     "output_type": "display_data"
    }
   ],
   "source": [
    "fig1 = plt.figure(1)\n",
    "fig = fig1.add_subplot(111)\n",
    "\n",
    "bnp_centroids_pc, bnp_cluster_covs_pc = \\\n",
    "    plot_results_from_vb_params_dict(pca_fit, vb_opt_dict, e_z_opt, fig)\n",
    "fig.set_xlabel('PC1', fontsize = 18)\n",
    "fig.set_ylabel('PC2', fontsize = 18)\n"
   ]
  },
  {
   "cell_type": "code",
   "execution_count": 17,
   "metadata": {},
   "outputs": [],
   "source": [
    "# save the data to make the iris plot in PC space\n",
    "if save_data: \n",
    "    print(\"saving init fit plotting data\")\n",
    "    np.savez(out_datadir + 'iris_fit', \n",
    "             pc_iris_obs = pc_iris_obs, \n",
    "             pc_centroids = bnp_centroids_pc, \n",
    "             pc_cov = bnp_cluster_covs_pc, \n",
    "             cluster_memberships = e_z_opt.argmax(1))"
   ]
  },
  {
   "cell_type": "code",
   "execution_count": 18,
   "metadata": {},
   "outputs": [],
   "source": [
    "def get_e_num_obs_per_cluster(vb_params_dict): \n",
    "    ez = gmm_posterior_quantities_lib.get_optimal_z_from_vb_dict(iris_obs,\n",
    "                               vb_params_dict,\n",
    "                               gh_loc,\n",
    "                               gh_weights,\n",
    "                               use_bnp_prior = True)\n",
    "    return ez.sum(0)"
   ]
  },
  {
   "cell_type": "code",
   "execution_count": 19,
   "metadata": {},
   "outputs": [],
   "source": [
    "e_num_obs_per_cluster = get_e_num_obs_per_cluster(vb_opt_dict)\n",
    "mixture_weights = gmm_posterior_quantities_lib.get_e_mixture_weights_from_vb_dict(vb_opt_dict, gh_loc, gh_weights)"
   ]
  },
  {
   "cell_type": "code",
   "execution_count": 20,
   "metadata": {},
   "outputs": [
    {
     "data": {
      "image/png": "[encoded data removed]",
      "text/plain": [
       "<Figure size 576x216 with 2 Axes>"
      ]
     },
     "metadata": {
      "needs_background": "light"
     },
     "output_type": "display_data"
    }
   ],
   "source": [
    "fig, axarr = plt.subplots(1, 2, figsize = (8, 3))\n",
    "\n",
    "result_loading_utils._plot_weights(e_num_obs_per_cluster, \n",
    "                                   axarr[0])\n",
    "\n",
    "result_loading_utils._plot_weights(mixture_weights, \n",
    "                                   axarr[1])\n",
    "\n",
    "\n",
    "axarr[0].set_ylabel('e. num. obs.')\n",
    "axarr[1].set_ylabel('mixture weights')\n",
    "    \n",
    "fig.tight_layout()"
   ]
  },
  {
   "cell_type": "code",
   "execution_count": null,
   "metadata": {},
   "outputs": [],
   "source": []
  },
  {
   "cell_type": "markdown",
   "metadata": {},
   "source": [
    "# Parametric sensitivity"
   ]
  },
  {
   "cell_type": "markdown",
   "metadata": {},
   "source": [
    "### Compute derivatives"
   ]
  },
  {
   "cell_type": "code",
   "execution_count": 21,
   "metadata": {},
   "outputs": [],
   "source": [
    "use_free_alpha = False\n",
    "hyper_param0 = prior_params_paragami['dp_prior_alpha'].flatten(alpha0, free = use_free_alpha)"
   ]
  },
  {
   "cell_type": "code",
   "execution_count": 22,
   "metadata": {},
   "outputs": [
    {
     "data": {
      "text/plain": [
       "DeviceArray([6.], dtype=float64)"
      ]
     },
     "execution_count": 22,
     "metadata": {},
     "output_type": "execute_result"
    }
   ],
   "source": [
    "hyper_param0"
   ]
  },
  {
   "cell_type": "code",
   "execution_count": 23,
   "metadata": {},
   "outputs": [],
   "source": [
    "# set up objective as function of vb params and prior param \n",
    "\n",
    "def objective_fun(vb_params_dict, alpha): \n",
    "    \n",
    "    _prior_params_dict = deepcopy(prior_params_dict)\n",
    "    _prior_params_dict['dp_prior_alpha'] = alpha\n",
    "    \n",
    "    return gmm_lib.get_kl(iris_obs, \n",
    "                          vb_params_dict,\n",
    "                          _prior_params_dict,\n",
    "                          gh_loc, gh_weights).squeeze()\n",
    "\n",
    "\n",
    "objective_fun_free = paragami.FlattenFunctionInput(\n",
    "                                original_fun=objective_fun, \n",
    "                                patterns = [vb_params_paragami, prior_params_paragami['dp_prior_alpha']],\n",
    "                                free = [True, use_free_alpha],\n",
    "                                argnums = [0, 1])"
   ]
  },
  {
   "cell_type": "code",
   "execution_count": null,
   "metadata": {},
   "outputs": [
    {
     "name": "stdout",
     "output_type": "stream",
     "text": [
      "Compiling hessian solver ...\n"
     ]
    }
   ],
   "source": [
    "vb_sens = HyperparameterSensitivityLinearApproximation(objective_fun_free,\n",
    "                                                        vb_opt,\n",
    "                                                        hyper_param0)"
   ]
  },
  {
   "cell_type": "code",
   "execution_count": null,
   "metadata": {},
   "outputs": [],
   "source": [
    "# double check the timing ... \n",
    "\n",
    "n_trials = 10\n",
    "hess_solve_time_samples = onp.zeros(n_trials)\n",
    "for i in range(n_trials): \n",
    "    # this sets the cross-hessian and solves\n",
    "    # we call \"block_util_ready()\" inside this method\n",
    "    # so it should be a fair comparison\n",
    "    vb_sens._set_dinput_dhyper()\n",
    "    \n",
    "    hess_solve_time_samples[i] = vb_sens.lr_time\n",
    "\n",
    "hess_solve_time = hess_solve_time_samples.mean()"
   ]
  },
  {
   "cell_type": "code",
   "execution_count": null,
   "metadata": {},
   "outputs": [],
   "source": [
    "# double check the timing ... \n",
    "\n",
    "# cross hessian time\n",
    "# cross_hess = vb_sens.dobj_dhyper_dinput(vb_sens.opt_par_value, vb_sens.hyper_par_value0).block_until_ready()\n",
    "# %timeit vb_sens.dobj_dhyper_dinput(vb_sens.opt_par_value, vb_sens.hyper_par_value0).block_until_ready()"
   ]
  },
  {
   "cell_type": "code",
   "execution_count": null,
   "metadata": {},
   "outputs": [],
   "source": [
    "# solver time\n",
    "# %timeit vb_sens.hessian_solver(cross_hess.squeeze()).block_until_ready()"
   ]
  },
  {
   "cell_type": "code",
   "execution_count": null,
   "metadata": {},
   "outputs": [],
   "source": []
  },
  {
   "cell_type": "code",
   "execution_count": null,
   "metadata": {},
   "outputs": [],
   "source": []
  },
  {
   "cell_type": "markdown",
   "metadata": {},
   "source": [
    "# Fit for a range of alpha"
   ]
  },
  {
   "cell_type": "code",
   "execution_count": null,
   "metadata": {},
   "outputs": [],
   "source": [
    "alpha_list = np.arange(1, 17, dtype = float)"
   ]
  },
  {
   "cell_type": "markdown",
   "metadata": {},
   "source": [
    "### We define the loss as a function of both vb-params and alpha "
   ]
  },
  {
   "cell_type": "markdown",
   "metadata": {},
   "source": [
    "That way, we can jit the objective as a function of both vb-parameters and alpha. \n",
    "\n",
    "No need to recompile for each new alpha ... "
   ]
  },
  {
   "cell_type": "code",
   "execution_count": null,
   "metadata": {},
   "outputs": [],
   "source": [
    "def get_kl_loss(vb_params_free, alpha): \n",
    "    \n",
    "    _prior_params_dict = deepcopy(prior_params_dict)\n",
    "    _prior_params_dict['dp_prior_alpha'] = alpha\n",
    "    \n",
    "    vb_params_dict = vb_params_paragami.fold(vb_params_free, free = True)\n",
    "\n",
    "    return gmm_lib.get_kl(iris_obs,\n",
    "                  vb_params_dict,\n",
    "                  _prior_params_dict,\n",
    "                  gh_loc,\n",
    "                  gh_weights, \n",
    "                  e_log_phi = None)\n"
   ]
  },
  {
   "cell_type": "code",
   "execution_count": null,
   "metadata": {},
   "outputs": [],
   "source": []
  },
  {
   "cell_type": "code",
   "execution_count": null,
   "metadata": {},
   "outputs": [],
   "source": [
    "get_grad = jax.jit(jax.grad(get_kl_loss, argnums = 0))\n",
    "\n",
    "def _get_hvp(x, alpha, v):\n",
    "    return jax.jvp(jax.grad(get_kl_loss, argnums = 0), (x, alpha), (v, 0.))[1]\n",
    "\n",
    "get_hvp = jax.jit(_get_hvp)"
   ]
  },
  {
   "cell_type": "code",
   "execution_count": null,
   "metadata": {},
   "outputs": [],
   "source": [
    "from bnpmodeling_runjingdev.bnp_optimization_lib import optimize_kl"
   ]
  },
  {
   "cell_type": "code",
   "execution_count": null,
   "metadata": {},
   "outputs": [],
   "source": [
    "def refit_with_alpha(alpha, new_init_dict):\n",
    "    # sets new alpha, returns new vb optimum\n",
    "    \n",
    "    _, vb_opt_pert, _, refit_time = \\\n",
    "        optimize_kl(lambda x : get_kl_loss(x, alpha),\n",
    "                     new_init_dict, \n",
    "                     vb_params_paragami, \n",
    "                     get_grad = lambda x : get_grad(x, alpha),\n",
    "                     get_hvp = lambda x, v: get_hvp(x, alpha, v),\n",
    "                     run_lbfgs = False,\n",
    "                     run_newton = True)                            \n",
    "        \n",
    "    return vb_opt_pert, refit_time"
   ]
  },
  {
   "cell_type": "code",
   "execution_count": null,
   "metadata": {},
   "outputs": [],
   "source": [
    "print('alphas: ', alpha_list)"
   ]
  },
  {
   "cell_type": "code",
   "execution_count": null,
   "metadata": {},
   "outputs": [],
   "source": [
    "refit_list = []\n",
    "refit_time_vec = []\n",
    "\n",
    "new_init_dict = deepcopy(vb_opt_dict)\n",
    "\n",
    "for alpha in alpha_list: \n",
    "    print('\\n################')\n",
    "    print('re-optimzing with alpha = ', alpha)\n",
    "    print('################')\n",
    "    \n",
    "    vb_opt_pert, refit_time = refit_with_alpha(alpha, new_init_dict)\n",
    "    \n",
    "    refit_list.append(vb_opt_pert)\n",
    "    refit_time_vec.append(refit_time)\n",
    "\n",
    "\n",
    "refit_time_vec = onp.array(refit_time_vec)"
   ]
  },
  {
   "cell_type": "code",
   "execution_count": null,
   "metadata": {},
   "outputs": [],
   "source": []
  },
  {
   "cell_type": "markdown",
   "metadata": {},
   "source": [
    "### Get linear response for each alpha"
   ]
  },
  {
   "cell_type": "code",
   "execution_count": null,
   "metadata": {},
   "outputs": [],
   "source": [
    "lr_list = []\n",
    "lr_time_vec = []\n",
    "\n",
    "for alpha in alpha_list: \n",
    "    \n",
    "    t0 = time.time() \n",
    "    hyper_param_pert = prior_params_paragami['dp_prior_alpha'].flatten(alpha, free = use_free_alpha)\n",
    "    \n",
    "    # get linear response\n",
    "    lr_free_params = vb_sens.predict_opt_par_from_hyper_par(hyper_param_pert).block_until_ready()\n",
    "    lr_list.append(lr_free_params)\n",
    "    \n",
    "    lr_time_vec.append(time.time() - t0)\n",
    "    \n",
    "lr_time_vec = onp.array(lr_time_vec)"
   ]
  },
  {
   "cell_type": "code",
   "execution_count": null,
   "metadata": {},
   "outputs": [],
   "source": []
  },
  {
   "cell_type": "markdown",
   "metadata": {},
   "source": [
    "### Print results"
   ]
  },
  {
   "cell_type": "code",
   "execution_count": null,
   "metadata": {},
   "outputs": [],
   "source": [
    "for i in range(len(alpha_list)): \n",
    "    fig, ax = plt.subplots(1, 1, figsize = (5, 4))\n",
    "\n",
    "    result_loading_utils.print_diff_plot(refit_list[i], \n",
    "                    lr_list[i],\n",
    "                    vb_opt,\n",
    "                    ax, alpha = 1.)\n",
    "    \n",
    "    alpha = alpha_list[i]\n",
    "    hyper_param_pert = prior_params_paragami['dp_prior_alpha'].flatten(alpha,\n",
    "                                                              free = use_free_alpha)\n",
    "    delta = hyper_param_pert - hyper_param0\n",
    "    plt.title('alpha = ' + str(alpha) + '; delta = {:.03f}'.format(delta[0]))\n",
    "    "
   ]
  },
  {
   "cell_type": "code",
   "execution_count": null,
   "metadata": {},
   "outputs": [],
   "source": []
  },
  {
   "cell_type": "code",
   "execution_count": null,
   "metadata": {},
   "outputs": [],
   "source": []
  },
  {
   "cell_type": "markdown",
   "metadata": {},
   "source": [
    "# Check results on number of clusters"
   ]
  },
  {
   "cell_type": "markdown",
   "metadata": {},
   "source": [
    "### results on number of in-sample clusters"
   ]
  },
  {
   "cell_type": "code",
   "execution_count": null,
   "metadata": {},
   "outputs": [],
   "source": [
    "import numpy as onp"
   ]
  },
  {
   "cell_type": "code",
   "execution_count": null,
   "metadata": {},
   "outputs": [],
   "source": [
    "prng_key = jax.random.PRNGKey(223)\n",
    "\n",
    "@jax.jit\n",
    "def get_n_clusters_insample(vb_free):\n",
    "    \n",
    "    vb_params_dict = vb_params_paragami.fold(vb_free, free = True)\n",
    "    \n",
    "    return gmm_posterior_quantities_lib.get_e_num_clusters_from_vb_dict(iris_obs,\n",
    "                                                    vb_params_dict,\n",
    "                                                    gh_loc, gh_weights,\n",
    "                                                    threshold = 0,\n",
    "                                                    n_samples = 10000, \n",
    "                                                    prng_key = prng_key)\n",
    "\n",
    "@jax.jit\n",
    "def get_n_clusters_pred(vb_free):\n",
    "    \n",
    "    vb_params_dict = vb_params_paragami.fold(vb_free, free = True)\n",
    "    \n",
    "    return gmm_posterior_quantities_lib.get_e_num_pred_clusters_from_vb_dict(vb_params_dict,\n",
    "                                                               n_obs = iris_obs.shape[0],\n",
    "                                                               threshold = 0,\n",
    "                                                               prng_key = prng_key)"
   ]
  },
  {
   "cell_type": "code",
   "execution_count": null,
   "metadata": {},
   "outputs": [],
   "source": [
    "fig, axarr = plt.subplots(1, 2, figsize = (8, 3))\n",
    "\n",
    "# in sample number of clusters\n",
    "result_loading_utils.plot_post_stat_per_epsilon(get_n_clusters_insample, \n",
    "                                               refit_list,\n",
    "                                               lr_list,\n",
    "                                               alpha_list, \n",
    "                                               axarr[0])\n",
    "axarr[0].set_ylabel('num posterior clusters')\n",
    "axarr[0].set_ylabel('num posterior clusters')\n",
    "axarr[0].legend()\n",
    "\n",
    "# predictive number of clusters\n",
    "result_loading_utils.plot_post_stat_per_epsilon(get_n_clusters_pred, \n",
    "                                               refit_list,\n",
    "                                               lr_list,\n",
    "                                               alpha_list, \n",
    "                                               axarr[1])\n",
    "\n",
    "axarr[1].set_ylabel('num posterior pred clusters')\n",
    "\n",
    "for i in range(2):\n",
    "    axarr[i].axvline(alpha0, \n",
    "                     color = 'red', \n",
    "                     linestyle = '--')\n",
    "    axarr[i].set_xlabel('alpha')\n",
    "\n",
    "fig.tight_layout()"
   ]
  },
  {
   "cell_type": "code",
   "execution_count": null,
   "metadata": {},
   "outputs": [],
   "source": [
    "prng_key = jax.random.PRNGKey(223)\n",
    "threshold1 = 1\n",
    "threshold2 = 4\n",
    "\n",
    "@jax.jit\n",
    "def get_n_clusters_insample_thresh(vb_free):\n",
    "    \n",
    "    vb_params_dict = vb_params_paragami.fold(vb_free, free = True)\n",
    "    \n",
    "    return gmm_posterior_quantities_lib.get_e_num_clusters_from_vb_dict(iris_obs,\n",
    "                                                    vb_params_dict,\n",
    "                                                    gh_loc, gh_weights,\n",
    "                                                    threshold = threshold1,\n",
    "                                                    n_samples = 10000, \n",
    "                                                    prng_key = prng_key)\n",
    "\n",
    "@jax.jit\n",
    "def get_n_clusters_pred_thresh(vb_free):\n",
    "    \n",
    "    vb_params_dict = vb_params_paragami.fold(vb_free, free = True)\n",
    "    \n",
    "    return gmm_posterior_quantities_lib.get_e_num_pred_clusters_from_vb_dict(vb_params_dict,\n",
    "                                                               n_obs = iris_obs.shape[0],\n",
    "                                                               threshold = threshold2,\n",
    "                                                               prng_key = prng_key)"
   ]
  },
  {
   "cell_type": "code",
   "execution_count": null,
   "metadata": {},
   "outputs": [],
   "source": [
    "fig, axarr = plt.subplots(1, 2, figsize = (8, 3))\n",
    "\n",
    "# in sample number of clusters\n",
    "result_loading_utils.plot_post_stat_per_epsilon(get_n_clusters_insample_thresh, \n",
    "                                               refit_list,\n",
    "                                               lr_list,\n",
    "                                               alpha_list, \n",
    "                                               axarr[0])\n",
    "axarr[0].set_ylabel('num posterior clusters')\n",
    "axarr[0].legend()\n",
    "\n",
    "# predictive number of clusters\n",
    "result_loading_utils.plot_post_stat_per_epsilon(get_n_clusters_pred_thresh, \n",
    "                                               refit_list,\n",
    "                                               lr_list,\n",
    "                                               alpha_list, \n",
    "                                               axarr[1])\n",
    "\n",
    "axarr[1].set_ylabel('num posterior pred clusters')\n",
    "\n",
    "for i in range(2):\n",
    "    axarr[i].axvline(alpha0, \n",
    "                     color = 'red', \n",
    "                     linestyle = '--')\n",
    "    \n",
    "    axarr[i].set_xlabel('alpha')\n",
    "\n",
    "fig.tight_layout()"
   ]
  },
  {
   "cell_type": "code",
   "execution_count": null,
   "metadata": {},
   "outputs": [],
   "source": []
  },
  {
   "cell_type": "code",
   "execution_count": null,
   "metadata": {},
   "outputs": [],
   "source": [
    "# save data on expected number of clusters\n",
    "if save_data: \n",
    "    print('saving sensitivity results')\n",
    "    np.savez(out_datadir + 'iris_alpha_sens', \n",
    "            alpha_list = alpha_list, \n",
    "            alpha0 = alpha0, \n",
    "            threshold1 = threshold1,\n",
    "            threshold2 = threshold2,\n",
    "            # in-sample quantities\n",
    "            n_clusters_refit = result_loading_utils.get_post_stat_vec(get_n_clusters_insample, refit_list), \n",
    "            n_clusters_lr = result_loading_utils.get_post_stat_vec(get_n_clusters_insample, lr_list),\n",
    "            n_clusters_thresh_refit = result_loading_utils.get_post_stat_vec(get_n_clusters_insample_thresh, refit_list), \n",
    "            n_clusters_thresh_lr = result_loading_utils.get_post_stat_vec(get_n_clusters_insample_thresh, lr_list), \n",
    "             # predictive quantities\n",
    "            n_clusters_pred_refit = result_loading_utils.get_post_stat_vec(get_n_clusters_pred, refit_list), \n",
    "            n_clusters_pred_lr = result_loading_utils.get_post_stat_vec(get_n_clusters_pred, lr_list),\n",
    "            n_clusters_pred_thresh_refit = result_loading_utils.get_post_stat_vec(get_n_clusters_pred_thresh, refit_list), \n",
    "            n_clusters_pred_thresh_lr = result_loading_utils.get_post_stat_vec(get_n_clusters_pred_thresh, lr_list))"
   ]
  },
  {
   "cell_type": "code",
   "execution_count": null,
   "metadata": {},
   "outputs": [],
   "source": []
  },
  {
   "cell_type": "markdown",
   "metadata": {},
   "source": [
    "# save timing data"
   ]
  },
  {
   "cell_type": "code",
   "execution_count": null,
   "metadata": {},
   "outputs": [],
   "source": [
    "if save_data: \n",
    "    print('saving timing results')\n",
    "    np.savez(out_datadir + 'iris_alpha_timing', \n",
    "             k_means_time = k_means_time, \n",
    "             init_fit_time = init_fit_time, \n",
    "             refit_time_vec = refit_time_vec, \n",
    "             lr_time_vec = lr_free_params,\n",
    "             hess_solve_time = hess_solve_time)"
   ]
  },
  {
   "cell_type": "code",
   "execution_count": null,
   "metadata": {},
   "outputs": [],
   "source": []
  },
  {
   "cell_type": "code",
   "execution_count": null,
   "metadata": {},
   "outputs": [],
   "source": []
  },
  {
   "cell_type": "code",
   "execution_count": null,
   "metadata": {},
   "outputs": [],
   "source": []
  },
  {
   "cell_type": "raw",
   "metadata": {},
   "source": [
    "# Some other posterior quantities"
   ]
  },
  {
   "cell_type": "raw",
   "metadata": {},
   "source": [
    "### Coclustering"
   ]
  },
  {
   "cell_type": "raw",
   "metadata": {},
   "source": [
    "import scipy.cluster.hierarchy as sch"
   ]
  },
  {
   "cell_type": "raw",
   "metadata": {},
   "source": [
    "# for better plotting, cluster the ez's\n",
    "link = sch.linkage(e_z_opt, method='average')\n",
    "indx = sch.dendrogram(link, no_plot=True)[\"leaves\"]"
   ]
  },
  {
   "cell_type": "raw",
   "metadata": {},
   "source": [
    "@jax.jit\n",
    "def get_coclustering(vb_params_free): \n",
    "    \n",
    "    vb_params_dict = vb_params_paragami.fold(vb_params_free, \n",
    "                                             free = True)\n",
    "    \n",
    "    ez = gmm_posterior_quantities_lib.get_optimal_z_from_vb_dict(iris_obs,\n",
    "                                            vb_params_dict,\n",
    "                                            gh_loc,\n",
    "                                            gh_weights,\n",
    "                                            use_bnp_prior = True)[indx]\n",
    "    \n",
    "    return np.dot(ez, ez.transpose())"
   ]
  },
  {
   "cell_type": "raw",
   "metadata": {},
   "source": [
    "def get_coclust_mean_abs_diff(vb_params_free): \n",
    "    init_coclust = get_coclustering(vb_opt)\n",
    "    pert_coclust = get_coclustering(vb_params_free) \n",
    "    \n",
    "    return np.abs(pert_coclust - init_coclust).mean()"
   ]
  },
  {
   "cell_type": "raw",
   "metadata": {},
   "source": [
    "fig, ax = plt.subplots(1, 1, figsize = (5, 4))\n",
    "\n",
    "result_loading_utils.plot_post_stat_per_epsilon(get_coclust_mean_abs_diff, \n",
    "                                               refit_list,\n",
    "                                               lr_list,\n",
    "                                               alpha_list, \n",
    "                                               ax)\n",
    "ax.axvline(alpha0, \n",
    "           color = 'red', \n",
    "           linestyle = '--')\n",
    "\n",
    "ax.legend()"
   ]
  },
  {
   "cell_type": "raw",
   "metadata": {},
   "source": []
  },
  {
   "cell_type": "raw",
   "metadata": {},
   "source": []
  },
  {
   "cell_type": "raw",
   "metadata": {},
   "source": [
    "# pick a particular alpha\n",
    "alpha_pert = 9\n",
    "alpha_indx = np.argwhere(alpha_list == alpha_pert).squeeze()"
   ]
  },
  {
   "cell_type": "raw",
   "metadata": {},
   "source": [
    "coclust_init = get_coclustering(vb_opt)\n",
    "coclust_lr = get_coclustering(lr_list[alpha_indx])\n",
    "coclust_refit = get_coclustering(refit_list[alpha_indx])"
   ]
  },
  {
   "cell_type": "raw",
   "metadata": {},
   "source": [
    "fig, axarr = plt.subplots(2, 2, figsize = (8, 6))\n",
    "\n",
    "################\n",
    "# initial co-clustering matrix\n",
    "################\n",
    "im0 = axarr[0, 0].matshow(coclust_init, \n",
    "                 cmap = plt.get_cmap('Blues'))\n",
    "axarr[0, 0].set_title('init')\n",
    "fig.colorbar(im0, ax = axarr[0, 0])\n",
    "\n",
    "################\n",
    "# differences\n",
    "################\n",
    "result_loading_utils.print_diff_plot(coclust_refit.flatten(),\n",
    "                                     coclust_lr.flatten(), \n",
    "                                    coclust_init.flatten(), \n",
    "                                    axarr[0, 1], \n",
    "                                    alpha = 0.01)\n",
    "\n",
    "result_loading_utils.plot_colormaps(coclust_refit,\n",
    "                                   coclust_lr,\n",
    "                                   coclust_init,\n",
    "                                   fig,\n",
    "                                   axarr[1], \n",
    "                                   plot_initial = False)\n",
    "    \n",
    "fig.tight_layout()"
   ]
  },
  {
   "cell_type": "raw",
   "metadata": {},
   "source": []
  },
  {
   "cell_type": "raw",
   "metadata": {},
   "source": []
  },
  {
   "cell_type": "code",
   "execution_count": null,
   "metadata": {},
   "outputs": [],
   "source": [
    "### Mixture weights"
   ]
  },
  {
   "cell_type": "code",
   "execution_count": null,
   "metadata": {},
   "outputs": [],
   "source": [
    "@jax.jit \n",
    "def get_mixture_weights(vb_free):\n",
    "    \n",
    "    vb_params_dict = vb_params_paragami.fold(vb_free, free = True)\n",
    "    \n",
    "    ez_opt = gmm_posterior_quantities_lib.get_optimal_z_from_vb_dict(iris_obs, vb_params_dict, gh_loc, gh_weights)\n",
    "    \n",
    "    return ez_opt.sum(0)\n",
    "#     mixture_weights = gmm_posterior_quantities_lib.get_e_mixture_weights_from_vb_dict(vb_params_dict,\n",
    "#                                                                  gh_loc,\n",
    "#                                                                  gh_weights)\n",
    "    \n",
    "#     return mixture_weights"
   ]
  },
  {
   "cell_type": "code",
   "execution_count": null,
   "metadata": {},
   "outputs": [],
   "source": [
    "def plot_e_num_obs_trace(): \n",
    "    \n",
    "    # get arrays of mixture weights\n",
    "    refit_array = result_loading_utils.get_post_stat_vec(get_mixture_weights, refit_list)\n",
    "    lr_array = result_loading_utils.get_post_stat_vec(get_mixture_weights, lr_list)\n",
    "    \n",
    "        \n",
    "    fig, ax = plt.subplots(2, 4, figsize = (16, 6), sharex = True) \n",
    "    \n",
    "    for k in range(8): \n",
    "        x0 = k // 4\n",
    "        x1 = k % 4\n",
    "        ax[x0, x1].plot(alpha_list, \n",
    "                       refit_array[:, k], \n",
    "                       '-o',\n",
    "                       color = result_loading_utils.refit_color, \n",
    "                       label = 'refit')\n",
    "        \n",
    "        ax[x0, x1].plot(alpha_list, \n",
    "                       lr_array[:, k], \n",
    "                       '-o',\n",
    "                       color = result_loading_utils.lr_color, \n",
    "                       label = 'lr')\n",
    "        \n",
    "        ax[x0, x1].set_title('k = {}'.format(k))\n",
    "        ax[x0, x1].axvline(alpha0, \n",
    "                           color = 'red', \n",
    "                           linestyle = '--')\n",
    "        \n",
    "        if k == 0: \n",
    "            ax[x0, x1].legend()\n",
    "            \n",
    "    for k in range(4): \n",
    "        ax[-1, k].set_xlabel('dp_prior_alpha')\n",
    "        \n",
    "    for k in range(2): \n",
    "        ax[k, 0].set_ylabel('E(# obs)')\n",
    "    \n",
    "    fig.tight_layout()\n"
   ]
  },
  {
   "cell_type": "code",
   "execution_count": null,
   "metadata": {},
   "outputs": [],
   "source": [
    "plot_e_num_obs_trace()"
   ]
  },
  {
   "cell_type": "code",
   "execution_count": null,
   "metadata": {},
   "outputs": [],
   "source": []
  },
  {
   "cell_type": "code",
   "execution_count": null,
   "metadata": {},
   "outputs": [],
   "source": []
  },
  {
   "cell_type": "code",
   "execution_count": null,
   "metadata": {},
   "outputs": [],
   "source": [
    "fig, axarr = plt.subplots(1, 2, figsize = (8, 3))\n",
    "\n",
    "# in sample number of clusters\n",
    "result_loading_utils.plot_post_stat_per_epsilon(get_n_clusters_pred, \n",
    "                                               refit_list,\n",
    "                                               lr_list,\n",
    "                                               alpha_list, \n",
    "                                               axarr[0])\n",
    "axarr[0].set_ylabel('num posterior clusters')\n",
    "axarr[0].legend()\n",
    "\n",
    "# predictive number of clusters\n",
    "result_loading_utils.plot_post_stat_per_epsilon(get_n_clusters_pred_thresh, \n",
    "                                               refit_list,\n",
    "                                               lr_list,\n",
    "                                               alpha_list, \n",
    "                                               axarr[1])\n",
    "\n",
    "axarr[1].set_ylabel('num posterior clusters')\n",
    "\n",
    "for i in range(2):\n",
    "    axarr[i].axvline(alpha0, \n",
    "                     color = 'red', \n",
    "                     linestyle = '--')\n",
    "    \n",
    "    axarr[i].set_xlabel('alpha')\n",
    "\n",
    "fig.tight_layout()"
   ]
  },
  {
   "cell_type": "code",
   "execution_count": null,
   "metadata": {},
   "outputs": [],
   "source": []
  },
  {
   "cell_type": "raw",
   "metadata": {},
   "source": []
  },
  {
   "cell_type": "raw",
   "metadata": {},
   "source": []
  },
  {
   "cell_type": "raw",
   "metadata": {},
   "source": [
    "### Centroids"
   ]
  },
  {
   "cell_type": "raw",
   "metadata": {},
   "source": [
    "def get_centroids(vb_free): \n",
    "    vb_params_dict = vb_params_paragami.fold(vb_free, free = True)\n",
    "    centroids = vb_params_dict['cluster_params']['centroids']\n",
    "    \n",
    "    centroids_pc = pca_fit.transform(centroids)\n",
    "    \n",
    "    return centroids_pc"
   ]
  },
  {
   "cell_type": "raw",
   "metadata": {},
   "source": [
    "centroids_init = get_centroids(vb_opt)"
   ]
  },
  {
   "cell_type": "raw",
   "metadata": {},
   "source": [
    "# get arrays of mixture weights\n",
    "centroids_refit_array = result_loading_utils.get_post_stat_vec(get_centroids, refit_list)\n",
    "centroids_lr_array = result_loading_utils.get_post_stat_vec(get_centroids, lr_list)\n",
    "    \n",
    "fig, axarr = plt.subplots(2, 4, figsize = (15, 6))\n",
    "result_loading_utils.plot_centroids(centroids_refit_array, centroids_lr_array, axarr)\n",
    "fig.tight_layout()\n"
   ]
  },
  {
   "cell_type": "raw",
   "metadata": {},
   "source": []
  },
  {
   "cell_type": "raw",
   "metadata": {},
   "source": []
  },
  {
   "cell_type": "raw",
   "metadata": {},
   "source": []
  }
 ],
 "metadata": {
  "kernelspec": {
   "display_name": "bnp_sensitivity_jax",
   "language": "python",
   "name": "bnp_sensitivity_jax"
  },
  "language_info": {
   "codemirror_mode": {
    "name": "ipython",
    "version": 3
   },
   "file_extension": ".py",
   "mimetype": "text/x-python",
   "name": "python",
   "nbconvert_exporter": "python",
   "pygments_lexer": "ipython3",
   "version": "3.9.1"
  }
 },
 "nbformat": 4,
 "nbformat_minor": 4
}
