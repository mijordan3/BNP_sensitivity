{
 "cells": [
  {
   "cell_type": "code",
   "execution_count": 1,
   "metadata": {},
   "outputs": [
    {
     "name": "stderr",
     "output_type": "stream",
     "text": [
      "/accounts/grad/runjing_liu/.conda/envs/bnp_sensitivity_jax/lib/python3.9/site-packages/jax/lib/xla_bridge.py:130: UserWarning: No GPU/TPU found, falling back to CPU.\n",
      "  warnings.warn('No GPU/TPU found, falling back to CPU.')\n"
     ]
    }
   ],
   "source": [
    "import jax\n",
    "import jax.numpy as np\n",
    "\n",
    "from numpy.polynomial.hermite import hermgauss\n",
    "\n",
    "from structure_vb_lib import structure_model_lib, posterior_quantities_lib, data_utils, plotting_utils\n",
    "import structure_vb_lib.structure_optimization_lib as s_optim_lib\n",
    "\n",
    "from bnpmodeling_runjingdev.sensitivity_lib import HyperparameterSensitivityLinearApproximation\n",
    "from bnpmodeling_runjingdev.bnp_optimization_lib import optimize_kl\n",
    "from bnpmodeling_runjingdev import influence_lib, cluster_quantities_lib, result_loading_utils\n",
    "import bnpmodeling_runjingdev.functional_sensitivity_lib as func_sens_lib\n",
    "\n",
    "import paragami\n",
    "\n",
    "from copy import deepcopy\n",
    "\n",
    "import time\n",
    "\n",
    "import matplotlib.pyplot as plt\n",
    "%matplotlib inline"
   ]
  },
  {
   "cell_type": "code",
   "execution_count": 2,
   "metadata": {},
   "outputs": [],
   "source": [
    "import numpy as onp\n",
    "seed = 98765\n",
    "onp.random.seed(seed)"
   ]
  },
  {
   "cell_type": "code",
   "execution_count": 3,
   "metadata": {},
   "outputs": [],
   "source": [
    "save_data = False\n",
    "out_datadir = '/scratch/users/genomic_times_series_bnp/bnp_sensitivity_paper_data/structure/'"
   ]
  },
  {
   "cell_type": "code",
   "execution_count": null,
   "metadata": {},
   "outputs": [],
   "source": []
  },
  {
   "cell_type": "markdown",
   "metadata": {},
   "source": [
    "# Load data"
   ]
  },
  {
   "cell_type": "code",
   "execution_count": 4,
   "metadata": {},
   "outputs": [
    {
     "name": "stdout",
     "output_type": "stream",
     "text": [
      "loading thrush data from : \n",
      "../data/thrush_data/thrush-data.str\n"
     ]
    }
   ],
   "source": [
    "g_obs, _, labels, _ = data_utils.load_thrush_data()"
   ]
  },
  {
   "cell_type": "code",
   "execution_count": 5,
   "metadata": {},
   "outputs": [
    {
     "name": "stdout",
     "output_type": "stream",
     "text": [
      "(155, 7, 2, 21)\n"
     ]
    }
   ],
   "source": [
    "print(g_obs.shape)"
   ]
  },
  {
   "cell_type": "code",
   "execution_count": 6,
   "metadata": {},
   "outputs": [],
   "source": [
    "n_obs = g_obs.shape[0]\n",
    "n_loci = g_obs.shape[1]\n",
    "n_allele = g_obs.shape[-1]"
   ]
  },
  {
   "cell_type": "code",
   "execution_count": 7,
   "metadata": {},
   "outputs": [
    {
     "data": {
      "text/plain": [
       "array(['Chawia', 'Mbololo', 'Ngangao', 'Yale'], dtype='<U32')"
      ]
     },
     "execution_count": 7,
     "metadata": {},
     "output_type": "execute_result"
    }
   ],
   "source": [
    "onp.unique(labels)"
   ]
  },
  {
   "cell_type": "code",
   "execution_count": null,
   "metadata": {},
   "outputs": [],
   "source": []
  },
  {
   "cell_type": "markdown",
   "metadata": {},
   "source": [
    "# Get prior"
   ]
  },
  {
   "cell_type": "code",
   "execution_count": 8,
   "metadata": {},
   "outputs": [
    {
     "name": "stdout",
     "output_type": "stream",
     "text": [
      "{'dp_prior_alpha': 3.0, 'allele_prior_lambda_vec': DeviceArray([1., 1., 1., 1., 1., 1., 1., 1., 1., 1., 1., 1., 1., 1., 1.,\n",
      "             1., 1., 1., 1., 1., 1.], dtype=float64)}\n"
     ]
    }
   ],
   "source": [
    "prior_params_dict, prior_params_paragami = \\\n",
    "    structure_model_lib.get_default_prior_params(n_allele)\n",
    "\n",
    "alpha0 = 3.0\n",
    "prior_params_dict['dp_prior_alpha'] = alpha0\n",
    "\n",
    "print(prior_params_dict)\n",
    "\n",
    "prior_params_free = prior_params_paragami.flatten(prior_params_dict, free = True)"
   ]
  },
  {
   "cell_type": "code",
   "execution_count": null,
   "metadata": {},
   "outputs": [],
   "source": []
  },
  {
   "cell_type": "markdown",
   "metadata": {},
   "source": [
    "# Get VB params "
   ]
  },
  {
   "cell_type": "code",
   "execution_count": 9,
   "metadata": {},
   "outputs": [],
   "source": [
    "k_approx = 20"
   ]
  },
  {
   "cell_type": "code",
   "execution_count": 10,
   "metadata": {},
   "outputs": [],
   "source": [
    "gh_deg = 8\n",
    "gh_loc, gh_weights = hermgauss(8)"
   ]
  },
  {
   "cell_type": "code",
   "execution_count": 11,
   "metadata": {
    "scrolled": true
   },
   "outputs": [
    {
     "name": "stdout",
     "output_type": "stream",
     "text": [
      "OrderedDict:\n",
      "\t[pop_freq_dirichlet_params] = NumericArrayPattern (20, 7, 21) (lb=0.0, ub=inf)\n",
      "\t[ind_admix_params] = OrderedDict:\n",
      "\t[stick_means] = NumericArrayPattern (155, 19) (lb=-inf, ub=inf)\n",
      "\t[stick_infos] = NumericArrayPattern (155, 19) (lb=0.0001, ub=inf)\n"
     ]
    }
   ],
   "source": [
    "vb_params_dict, vb_params_paragami = \\\n",
    "    structure_model_lib.get_vb_params_paragami_object(n_obs = n_obs,\n",
    "                                                      n_loci = n_loci,\n",
    "                                                      n_allele = n_allele, \n",
    "                                                      k_approx = k_approx, \n",
    "                                                      prng_key = jax.random.PRNGKey(seed))\n",
    "    \n",
    "print(vb_params_paragami)"
   ]
  },
  {
   "cell_type": "code",
   "execution_count": null,
   "metadata": {},
   "outputs": [],
   "source": []
  },
  {
   "cell_type": "markdown",
   "metadata": {},
   "source": [
    "# Optimize"
   ]
  },
  {
   "cell_type": "code",
   "execution_count": 12,
   "metadata": {},
   "outputs": [],
   "source": [
    "load_saved_fit = True\n",
    "if load_saved_fit: \n",
    "    vb_opt_dict, _, init_fit_metadata = \\\n",
    "        paragami.load_folded('../fits/main_fits/structure_initial_fit.npz')\n",
    "    \n",
    "    vb_opt = vb_params_paragami.flatten(vb_opt_dict, free = True)\n",
    "    \n",
    "    # optimal z\n",
    "    ez_opt = posterior_quantities_lib.get_optimal_z_from_vb_dict(g_obs, vb_opt_dict, gh_loc, gh_weights)\n",
    "    \n",
    "    # check model matches\n",
    "    kl = structure_model_lib.get_kl(g_obs, \n",
    "                           vb_opt_dict, \n",
    "                           prior_params_dict, \n",
    "                           gh_loc, \n",
    "                           gh_weights)\n",
    "    \n",
    "    assert init_fit_metadata['alpha0'] == alpha0 \n",
    "    assert np.abs(init_fit_metadata['final_kl'] - kl) < 1e-10\n",
    "    \n",
    "else: \n",
    "    vb_params_dict = s_optim_lib.initialize_structure(g_obs, \n",
    "                                                  vb_params_dict, \n",
    "                                                  vb_params_paragami,\n",
    "                                                  prior_params_dict, \n",
    "                                                  gh_loc, \n",
    "                                                  gh_weights, \n",
    "                                                  seed = seed)\n",
    "    \n",
    "    \n",
    "    vb_opt_dict, vb_opt, ez_opt, out, _ = \\\n",
    "        s_optim_lib.optimize_structure(g_obs,\n",
    "                                       vb_params_dict,\n",
    "                                       vb_params_paragami,\n",
    "                                       prior_params_dict, \n",
    "                                       gh_loc, \n",
    "                                       gh_weights)"
   ]
  },
  {
   "cell_type": "code",
   "execution_count": null,
   "metadata": {},
   "outputs": [],
   "source": []
  },
  {
   "cell_type": "code",
   "execution_count": null,
   "metadata": {},
   "outputs": [],
   "source": []
  },
  {
   "cell_type": "markdown",
   "metadata": {},
   "source": [
    "# At the optimum, define the sensitivity object"
   ]
  },
  {
   "cell_type": "code",
   "execution_count": 13,
   "metadata": {},
   "outputs": [],
   "source": [
    "def objective_fun(vb_params_free, epsilon): \n",
    "    \n",
    "    # this actually does not depend on epsilon! \n",
    "    # we will set the perturbation later\n",
    "    \n",
    "    vb_params_dict = vb_params_paragami.fold(vb_params_free, free = True)\n",
    "    \n",
    "    return structure_model_lib.get_kl(g_obs, \n",
    "                                      vb_params_dict,\n",
    "                                      prior_params_dict,\n",
    "                                      gh_loc, \n",
    "                                      gh_weights).squeeze()"
   ]
  },
  {
   "cell_type": "code",
   "execution_count": 14,
   "metadata": {},
   "outputs": [
    {
     "name": "stdout",
     "output_type": "stream",
     "text": [
      "Compiling hessian solver ...\n",
      "Hessian solver compile time: 73.3199sec\n",
      "\n",
      "Compiling cross hessian...\n",
      "Cross-hessian compile time: 0.0494156sec\n",
      "\n",
      "LR sensitivity time: 0.0302773sec\n",
      "\n"
     ]
    }
   ],
   "source": [
    "# Define the linear sensitivity class\n",
    "vb_sens = HyperparameterSensitivityLinearApproximation(\n",
    "                    objective_fun = objective_fun, \n",
    "                    opt_par_value = vb_opt, \n",
    "                    hyper_par_value0 = np.array([0.]),\n",
    "                    # null for now. will set later\n",
    "                    hyper_par_objective_fun = lambda x, y: 0.)\n"
   ]
  },
  {
   "cell_type": "code",
   "execution_count": null,
   "metadata": {},
   "outputs": [],
   "source": []
  },
  {
   "cell_type": "markdown",
   "metadata": {},
   "source": [
    "# Define perturbation"
   ]
  },
  {
   "cell_type": "code",
   "execution_count": 15,
   "metadata": {},
   "outputs": [],
   "source": [
    "import jax.scipy as sp"
   ]
  },
  {
   "cell_type": "code",
   "execution_count": 16,
   "metadata": {},
   "outputs": [],
   "source": [
    "def gaussian_pert(x, loc, scale): \n",
    "    return sp.stats.norm.pdf(x, loc, scale) * np.sqrt(2 * np.pi) * scale"
   ]
  },
  {
   "cell_type": "code",
   "execution_count": 17,
   "metadata": {},
   "outputs": [],
   "source": [
    "log_phi = lambda x : 2 * jax.nn.sigmoid(- x) - 1\n",
    "\n",
    "f_obj = func_sens_lib.FunctionalPerturbationObjective(log_phi, \n",
    "                                                      vb_params_paragami, \n",
    "                                                      gh_loc = gh_loc, \n",
    "                                                      gh_weights = gh_weights, \n",
    "                                                      stick_key = 'ind_admix_params', \n",
    "                                                      delta = 5)"
   ]
  },
  {
   "cell_type": "code",
   "execution_count": 18,
   "metadata": {},
   "outputs": [
    {
     "name": "stderr",
     "output_type": "stream",
     "text": [
      "/accounts/grad/runjing_liu/.conda/envs/bnp_sensitivity_jax/lib/python3.9/site-packages/scipy/integrate/_quadrature.py:259: AccuracyWarning: maxiter (50) exceeded. Latest difference = 6.735899e-07\n",
      "  warnings.warn(\n"
     ]
    }
   ],
   "source": [
    "# set up prior perturbation class for plotting\n",
    "prior_perturbation = func_sens_lib.PriorPerturbation(\n",
    "                                    alpha0 = alpha0,\n",
    "                                    log_phi = f_obj.log_phi, \n",
    "                                    logit_v_ub = 10, \n",
    "                                    logit_v_lb = -10)"
   ]
  },
  {
   "cell_type": "code",
   "execution_count": 19,
   "metadata": {},
   "outputs": [
    {
     "data": {
      "image/png": "[encoded data removed]",
      "text/plain": [
       "<Figure size 1008x252 with 4 Axes>"
      ]
     },
     "metadata": {
      "needs_background": "light"
     },
     "output_type": "display_data"
    }
   ],
   "source": [
    "prior_perturbation.plot_perturbation()"
   ]
  },
  {
   "cell_type": "code",
   "execution_count": null,
   "metadata": {},
   "outputs": [],
   "source": []
  },
  {
   "cell_type": "code",
   "execution_count": null,
   "metadata": {},
   "outputs": [],
   "source": []
  },
  {
   "cell_type": "markdown",
   "metadata": {},
   "source": [
    "# Get linear response predictions"
   ]
  },
  {
   "cell_type": "code",
   "execution_count": 20,
   "metadata": {},
   "outputs": [
    {
     "name": "stdout",
     "output_type": "stream",
     "text": [
      "[0.   0.25 0.5  0.75 1.  ]\n"
     ]
    }
   ],
   "source": [
    "epsilon_vec = np.linspace(0, 1., 5) \n",
    "print(epsilon_vec)"
   ]
  },
  {
   "cell_type": "code",
   "execution_count": 21,
   "metadata": {},
   "outputs": [
    {
     "name": "stdout",
     "output_type": "stream",
     "text": [
      "Compiling cross hessian...\n",
      "Cross-hessian compile time: 0.4017sec\n",
      "\n",
      "LR sensitivity time: 0.273203sec\n",
      "\n"
     ]
    }
   ],
   "source": [
    "# set LR sensitivity class\n",
    "vb_sens._set_cross_hess_and_solve(f_obj.hyper_par_objective_fun)"
   ]
  },
  {
   "cell_type": "code",
   "execution_count": 22,
   "metadata": {},
   "outputs": [],
   "source": [
    "hess_solve_time = vb_sens.lr_time"
   ]
  },
  {
   "cell_type": "code",
   "execution_count": 23,
   "metadata": {},
   "outputs": [],
   "source": [
    "# compile for consistent timings\n",
    "_ = vb_sens.predict_opt_par_from_hyper_par(epsilon_vec[0]).block_until_ready()\n",
    "\n",
    "lr_list = []\n",
    "lr_time_vec = []\n",
    "\n",
    "for epsilon in epsilon_vec: \n",
    "        \n",
    "    # get linear response\n",
    "    t0 = time.time()\n",
    "    lr_free_params = vb_sens.predict_opt_par_from_hyper_par(epsilon).block_until_ready()\n",
    "    elapsed = time.time() - t0\n",
    "    \n",
    "    lr_list.append(lr_free_params)\n",
    "    lr_time_vec.append(elapsed)\n",
    "    \n",
    "lr_time_vec = onp.array(lr_time_vec)"
   ]
  },
  {
   "cell_type": "code",
   "execution_count": 24,
   "metadata": {},
   "outputs": [
    {
     "name": "stdout",
     "output_type": "stream",
     "text": [
      "[0.0010252  0.00095534 0.0010097  0.00097537 0.00104856]\n"
     ]
    }
   ],
   "source": [
    "print(lr_time_vec)"
   ]
  },
  {
   "cell_type": "code",
   "execution_count": null,
   "metadata": {},
   "outputs": [],
   "source": []
  },
  {
   "cell_type": "markdown",
   "metadata": {},
   "source": [
    "# Fit for a range of epsilon"
   ]
  },
  {
   "cell_type": "code",
   "execution_count": 25,
   "metadata": {},
   "outputs": [],
   "source": [
    "def get_loss(vb_params_free, epsilon): \n",
    "    \n",
    "    vb_params_dict = vb_params_paragami.fold(vb_params_free, free = True)\n",
    "    \n",
    "    # get perturbation \n",
    "    e_log_phi = lambda means, infos : f_obj.e_log_phi_epsilon(means, infos, epsilon)\n",
    "    \n",
    "    # now add the dependence on epsilon\n",
    "    return structure_model_lib.get_kl(g_obs, \n",
    "                                      vb_params_dict,\n",
    "                                      prior_params_dict,\n",
    "                                      gh_loc, \n",
    "                                      gh_weights, \n",
    "                                      e_log_phi = e_log_phi).squeeze()"
   ]
  },
  {
   "cell_type": "code",
   "execution_count": 26,
   "metadata": {},
   "outputs": [],
   "source": [
    "get_fun = jax.jit(get_loss)\n",
    "\n",
    "get_grad = jax.jit(jax.grad(get_loss, argnums = 0))\n",
    "\n",
    "def _get_hvp(x, hyper_param0, v):\n",
    "    return jax.jvp(jax.grad(get_loss, argnums = 0), (x, hyper_param0), (v, 0.))[1]\n",
    "\n",
    "get_hvp = jax.jit(_get_hvp)"
   ]
  },
  {
   "cell_type": "code",
   "execution_count": 27,
   "metadata": {},
   "outputs": [],
   "source": [
    "def refit_with_epsilon(epsilon, new_init_dict):\n",
    "    \n",
    "    _, vb_opt_pert, _, optim_time = \\\n",
    "        optimize_kl(lambda x : get_fun(x, epsilon),\n",
    "                             new_init_dict, \n",
    "                             vb_params_paragami, \n",
    "                             get_grad = lambda x : get_grad(x, epsilon),\n",
    "                             get_hvp = lambda x, v: get_hvp(x, epsilon, v),\n",
    "                             run_lbfgs = False,\n",
    "                             run_newton = True)                           \n",
    "\n",
    "    return vb_opt_pert, optim_time"
   ]
  },
  {
   "cell_type": "code",
   "execution_count": 28,
   "metadata": {},
   "outputs": [
    {
     "name": "stdout",
     "output_type": "stream",
     "text": [
      "\n",
      "################\n",
      "re-optimzing with epsilon =  0.0\n",
      "################\n",
      "compiling objective and derivatives ... \n",
      "done. Compile time: 34.572sec\n",
      "Running trust-ncg ... \n",
      "Newton time: 0.031sec\n",
      "Newton out:  Optimization terminated successfully.\n",
      "done. \n",
      "\n",
      "################\n",
      "re-optimzing with epsilon =  0.25\n",
      "################\n",
      "compiling objective and derivatives ... \n",
      "done. Compile time: 4.194sec\n",
      "Running trust-ncg ... \n",
      "Newton time: 6.490sec\n",
      "Newton out:  Optimization terminated successfully.\n",
      "done. \n",
      "\n",
      "################\n",
      "re-optimzing with epsilon =  0.5\n",
      "################\n",
      "compiling objective and derivatives ... \n",
      "done. Compile time: 4.184sec\n",
      "Running trust-ncg ... \n",
      "Newton time: 5.947sec\n",
      "Newton out:  Optimization terminated successfully.\n",
      "done. \n",
      "\n",
      "################\n",
      "re-optimzing with epsilon =  0.75\n",
      "################\n",
      "compiling objective and derivatives ... \n",
      "done. Compile time: 4.197sec\n",
      "Running trust-ncg ... \n",
      "Newton time: 6.399sec\n",
      "Newton out:  Optimization terminated successfully.\n",
      "done. \n",
      "\n",
      "################\n",
      "re-optimzing with epsilon =  1.0\n",
      "################\n",
      "compiling objective and derivatives ... \n",
      "done. Compile time: 4.196sec\n",
      "Running trust-ncg ... \n",
      "Newton time: 16.518sec\n",
      "Newton out:  Optimization terminated successfully.\n",
      "done. \n"
     ]
    }
   ],
   "source": [
    "refit_list = []\n",
    "refit_time_vec = []\n",
    "\n",
    "new_init_dict = deepcopy(vb_opt_dict)\n",
    "\n",
    "i = 0\n",
    "for epsilon in epsilon_vec: \n",
    "    \n",
    "    print('\\n################')\n",
    "    print('re-optimzing with epsilon = ', epsilon)\n",
    "    print('################')\n",
    "        \n",
    "    refit_free, optim_time = refit_with_epsilon(epsilon, new_init_dict)\n",
    "    \n",
    "    refit_list.append(refit_free)\n",
    "    refit_time_vec.append(optim_time)\n",
    "    \n",
    "refit_time_vec = onp.array(refit_time_vec)\n"
   ]
  },
  {
   "cell_type": "code",
   "execution_count": null,
   "metadata": {},
   "outputs": [],
   "source": []
  },
  {
   "cell_type": "code",
   "execution_count": 29,
   "metadata": {},
   "outputs": [],
   "source": [
    "def get_stick_locs(vb_params_free): \n",
    "    \n",
    "    # get dictionary\n",
    "    vb_params_dict = vb_params_paragami.fold(vb_params_free, free = True)\n",
    "    \n",
    "    # get sticks from these individual \n",
    "    stick_means = vb_params_dict['ind_admix_params']['stick_means']\n",
    "    stick_infos = vb_params_dict['ind_admix_params']['stick_infos']\n",
    "    \n",
    "    return stick_means\n"
   ]
  },
  {
   "cell_type": "code",
   "execution_count": 30,
   "metadata": {},
   "outputs": [],
   "source": [
    "def get_stick_infos(vb_params_free): \n",
    "    \n",
    "    # get dictionary\n",
    "    vb_params_dict = vb_params_paragami.fold(vb_params_free, free = True)\n",
    "    \n",
    "    # get sticks from these individual \n",
    "    stick_means = vb_params_dict['ind_admix_params']['stick_means']\n",
    "    stick_infos = vb_params_dict['ind_admix_params']['stick_infos']\n",
    "    \n",
    "    return stick_infos\n"
   ]
  },
  {
   "cell_type": "code",
   "execution_count": 31,
   "metadata": {},
   "outputs": [],
   "source": [
    "from bnpmodeling_runjingdev import stick_integration_lib"
   ]
  },
  {
   "cell_type": "code",
   "execution_count": 32,
   "metadata": {},
   "outputs": [],
   "source": [
    "def get_e_sticks(vb_params_free): \n",
    "    \n",
    "    # get dictionary\n",
    "    vb_params_dict = vb_params_paragami.fold(vb_params_free, free = True)\n",
    "    \n",
    "    # get sticks from these individual \n",
    "    stick_means = vb_params_dict['ind_admix_params']['stick_means']\n",
    "    stick_infos = vb_params_dict['ind_admix_params']['stick_infos']\n",
    "    \n",
    "    e_sticks = stick_integration_lib.get_e_logitnormal(\n",
    "                        stick_means, \n",
    "                        stick_infos,\n",
    "                        gh_loc,\n",
    "                        gh_weights)\n",
    "    return e_sticks\n"
   ]
  },
  {
   "cell_type": "code",
   "execution_count": 33,
   "metadata": {},
   "outputs": [],
   "source": [
    "def get_e_ind_admix(vb_params_free): \n",
    "    \n",
    "    # get dictionary\n",
    "    vb_params_dict = vb_params_paragami.fold(vb_params_free, free = True)\n",
    "    \n",
    "    # get sticks from these individual \n",
    "    stick_means = vb_params_dict['ind_admix_params']['stick_means']\n",
    "    stick_infos = vb_params_dict['ind_admix_params']['stick_infos']\n",
    "    \n",
    "    e_ind_admix = cluster_quantities_lib.get_e_cluster_probabilities(\n",
    "                        stick_means, \n",
    "                        stick_infos,\n",
    "                        gh_loc,\n",
    "                        gh_weights)\n",
    "    return e_ind_admix\n"
   ]
  },
  {
   "cell_type": "code",
   "execution_count": 34,
   "metadata": {},
   "outputs": [],
   "source": [
    "# n = onp.random.choice(g_obs.shape[0])\n",
    "n = 46"
   ]
  },
  {
   "cell_type": "code",
   "execution_count": 35,
   "metadata": {},
   "outputs": [],
   "source": [
    "# fig, axarr = plt.subplots(1, 6, figsize = (20, 4), sharey = False)\n",
    "\n",
    "# for i in range(6): \n",
    "#     axarr[i].set_title('Cluster {}'.format(i))\n",
    "    \n",
    "#     result_loading_utils.plot_post_stat_per_epsilon(lambda x : get_stick_means(x)[n, i],\n",
    "#                                                     refit_list,\n",
    "#                                                     lr_list,\n",
    "#                                                     epsilon_vec, \n",
    "#                                                     axarr[i])\n",
    "    \n",
    "#     axarr[i].axvline(0, linestyle = '--', color = 'red')\n",
    "    \n",
    "# axarr[0].set_ylabel('stick means')\n",
    "# axarr[0].legend()\n",
    "# fig.tight_layout();"
   ]
  },
  {
   "cell_type": "code",
   "execution_count": 36,
   "metadata": {},
   "outputs": [],
   "source": [
    "# fig, axarr = plt.subplots(1, 6, figsize = (20, 4), sharey = False)\n",
    "\n",
    "# for i in range(6): \n",
    "#     axarr[i].set_title('Cluster {}'.format(i))\n",
    "    \n",
    "#     result_loading_utils.plot_post_stat_per_epsilon(lambda x : get_stick_infos(x)[n, i],\n",
    "#                                                     refit_list,\n",
    "#                                                     lr_list,\n",
    "#                                                     epsilon_vec, \n",
    "#                                                     axarr[i])\n",
    "    \n",
    "#     axarr[i].axvline(0, linestyle = '--', color = 'red')\n",
    "    \n",
    "# axarr[0].set_ylabel('stick info')\n",
    "# axarr[0].legend()\n",
    "# fig.tight_layout();"
   ]
  },
  {
   "cell_type": "code",
   "execution_count": 41,
   "metadata": {},
   "outputs": [
    {
     "data": {
      "image/png": "[encoded data removed]",
      "text/plain": [
       "<Figure size 864x216 with 4 Axes>"
      ]
     },
     "metadata": {
      "needs_background": "light"
     },
     "output_type": "display_data"
    }
   ],
   "source": [
    "fig, axarr = plt.subplots(1, 4, figsize = (12, 3), sharey = False)\n",
    "\n",
    "for i in range(4): \n",
    "    axarr[i].set_title('Cluster {}'.format(i))\n",
    "    \n",
    "    result_loading_utils.plot_post_stat_per_epsilon(lambda x : get_e_sticks(x)[n, i],\n",
    "                                                    refit_list,\n",
    "                                                    lr_list,\n",
    "                                                    epsilon_vec, \n",
    "                                                    axarr[i])\n",
    "    \n",
    "    axarr[i].axvline(0, linestyle = '--', color = 'red')\n",
    "    \n",
    "axarr[0].set_ylabel('expected stick length')\n",
    "axarr[0].legend()\n",
    "fig.tight_layout();"
   ]
  },
  {
   "cell_type": "code",
   "execution_count": 42,
   "metadata": {},
   "outputs": [
    {
     "data": {
      "image/png": "[encoded data removed]",
      "text/plain": [
       "<Figure size 864x216 with 4 Axes>"
      ]
     },
     "metadata": {
      "needs_background": "light"
     },
     "output_type": "display_data"
    }
   ],
   "source": [
    "fig, axarr = plt.subplots(1, 4, figsize = (12, 3), sharey = False)\n",
    "\n",
    "for i in range(4): \n",
    "    axarr[i].set_title('Cluster {}'.format(i))\n",
    "    \n",
    "    g = lambda x : get_e_ind_admix(x)[n, i]\n",
    "    \n",
    "    grad_g = jax.jacobian(g)(vb_opt)\n",
    "    \n",
    "    dg_dinput = (grad_g * vb_sens.dinput_dhyper.squeeze()).sum()\n",
    "    \n",
    "    result_loading_utils.plot_post_stat_per_epsilon(g,\n",
    "                                                    refit_list,\n",
    "                                                    lr_list,\n",
    "                                                    epsilon_vec, \n",
    "                                                    axarr[i])\n",
    "    \n",
    "    axarr[i].plot(epsilon_vec, \n",
    "                  g(vb_opt) + dg_dinput * epsilon_vec)\n",
    "    \n",
    "    axarr[i].axvline(0, linestyle = '--', color = 'red')\n",
    "    \n",
    "axarr[0].set_ylabel('Expected admixture')\n",
    "axarr[0].legend()\n",
    "fig.tight_layout();"
   ]
  },
  {
   "cell_type": "code",
   "execution_count": null,
   "metadata": {},
   "outputs": [],
   "source": []
  },
  {
   "cell_type": "code",
   "execution_count": null,
   "metadata": {},
   "outputs": [],
   "source": []
  },
  {
   "cell_type": "raw",
   "metadata": {},
   "source": []
  },
  {
   "cell_type": "raw",
   "metadata": {},
   "source": []
  },
  {
   "cell_type": "raw",
   "metadata": {},
   "source": [
    "def get_inferred_admixture_and_plot(vb_free_params, ax): \n",
    "    # get inferred admixture\n",
    "    e_ind_admix = posterior_quantities_lib.get_vb_expectations(vb_params_paragami.fold(vb_free_params, \n",
    "                                                                                       free = True), \n",
    "                                                               gh_loc,\n",
    "                                                               gh_weights)[0]\n",
    "    \n",
    "    # plot admixtures\n",
    "    plotting_utils.plot_top_clusters(onp.array(e_ind_admix)[perm_obs], \n",
    "                                     ax,\n",
    "                                     8, \n",
    "                                     cmap_colors = plt.get_cmap('Set2').colors);\n",
    "\n",
    "    # print labels \n",
    "    plotting_utils.draw_region_separation(labels[perm_labels], ax);\n",
    "    \n",
    "    return e_ind_admix[perm_obs]"
   ]
  },
  {
   "cell_type": "raw",
   "metadata": {},
   "source": [
    "which_epsilons = [0, 2, -1]\n",
    "\n",
    "admix_lr_list = []\n",
    "admix_refit_list = []\n",
    "\n",
    "for i in which_epsilons: \n",
    "\n",
    "    fig, ax = plt.subplots(1, 2, figsize = (16, 4.5))\n",
    "    \n",
    "    ax[0].set_title('refit at epsilon = {}'.format(epsilon_vec[i]))\n",
    "    ax[1].set_title('lr at epsilon = {}'.format(epsilon_vec[i]))\n",
    "    \n",
    "    # refit\n",
    "    admix_refit = get_inferred_admixture_and_plot(refit_list[i], ax[0])\n",
    "    \n",
    "    # lr \n",
    "    admix_lr = get_inferred_admixture_and_plot(lr_list[i], ax[1])\n",
    "    \n",
    "    # just remove these labels for now\n",
    "    for j in range(2): \n",
    "        ax[j].set_xticks([]) \n",
    "\n",
    "    fig.tight_layout()\n",
    "    \n",
    "    \n",
    "    admix_refit_list.append(admix_refit)\n",
    "    admix_lr_list.append(admix_lr)"
   ]
  },
  {
   "cell_type": "raw",
   "metadata": {},
   "source": [
    "np.argwhere()"
   ]
  },
  {
   "cell_type": "raw",
   "metadata": {},
   "source": [
    "fig, axarr = plt.subplots(1, 5, figsize = (15, 4), sharey = False)\n",
    "\n",
    "n = 0\n",
    "\n",
    "def _weights_fun(x, k): \n",
    "    \n",
    "    vb_params_dict = vb_params_paragami.fold(x, free = True)\n",
    "    \n",
    "    # get sticks from these individual \n",
    "    stick_means = vb_params_dict['ind_admix_params']['stick_means']\n",
    "    stick_infos = vb_params_dict['ind_admix_params']['stick_infos']\n",
    "        \n",
    "    return stick_means[n, k]\n",
    "\n",
    "# in sample number of clusters\n",
    "for i in range(5): \n",
    "    axarr[i].set_title('Cluster {}'.format(i))\n",
    "    \n",
    "    result_loading_utils.plot_post_stat_per_epsilon(lambda x : _weights_fun(x, i),\n",
    "                                                    refit_list,\n",
    "                                                    lr_list,\n",
    "                                                    epsilon_vec, \n",
    "                                                    axarr[i])\n",
    "    \n",
    "    axarr[i].axvline(0, linestyle = '--', color = 'red')\n",
    "    \n",
    "axarr[0].set_ylabel('Expected admixture')\n",
    "axarr[0].legend()\n",
    "fig.tight_layout();"
   ]
  },
  {
   "cell_type": "raw",
   "metadata": {},
   "source": [
    "fig, axarr = plt.subplots(1, 5, figsize = (15, 4), sharey = False)\n",
    "\n",
    "def _weights_fun(x, k): \n",
    "    admix = get_e_ind_admix(x)\n",
    "        \n",
    "    return admix[n, k]\n",
    "\n",
    "# in sample number of clusters\n",
    "for i in range(5): \n",
    "    axarr[i].set_title('Cluster {}'.format(i))\n",
    "    \n",
    "    result_loading_utils.plot_post_stat_per_epsilon(lambda x : _weights_fun(x, i),\n",
    "                                                    refit_list,\n",
    "                                                    lr_list,\n",
    "                                                    epsilon_vec, \n",
    "                                                    axarr[i])\n",
    "    \n",
    "    axarr[i].axvline(0, linestyle = '--', color = 'red')\n",
    "    \n",
    "axarr[0].set_ylabel('Expected admixture')\n",
    "axarr[0].legend()\n",
    "fig.tight_layout();"
   ]
  },
  {
   "cell_type": "raw",
   "metadata": {},
   "source": []
  },
  {
   "cell_type": "raw",
   "metadata": {},
   "source": []
  },
  {
   "cell_type": "raw",
   "metadata": {},
   "source": []
  },
  {
   "cell_type": "raw",
   "metadata": {},
   "source": []
  },
  {
   "cell_type": "raw",
   "metadata": {},
   "source": [
    "e_ind_admix.mean(0)"
   ]
  },
  {
   "cell_type": "raw",
   "metadata": {},
   "source": []
  }
 ],
 "metadata": {
  "kernelspec": {
   "display_name": "bnp_sensitivity_jax",
   "language": "python",
   "name": "bnp_sensitivity_jax"
  },
  "language_info": {
   "codemirror_mode": {
    "name": "ipython",
    "version": 3
   },
   "file_extension": ".py",
   "mimetype": "text/x-python",
   "name": "python",
   "nbconvert_exporter": "python",
   "pygments_lexer": "ipython3",
   "version": "3.9.1"
  }
 },
 "nbformat": 4,
 "nbformat_minor": 4
}
