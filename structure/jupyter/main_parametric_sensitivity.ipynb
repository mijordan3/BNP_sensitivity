{
 "cells": [
  {
   "cell_type": "code",
   "execution_count": 1,
   "metadata": {},
   "outputs": [
    {
     "name": "stderr",
     "output_type": "stream",
     "text": [
      "/accounts/grad/runjing_liu/.conda/envs/bnp_sensitivity_jax/lib/python3.9/site-packages/jax/lib/xla_bridge.py:130: UserWarning: No GPU/TPU found, falling back to CPU.\n",
      "  warnings.warn('No GPU/TPU found, falling back to CPU.')\n"
     ]
    }
   ],
   "source": [
    "import jax\n",
    "import jax.numpy as np\n",
    "\n",
    "from numpy.polynomial.hermite import hermgauss\n",
    "\n",
    "from structure_vb_lib import structure_model_lib, posterior_quantities_lib, data_utils, plotting_utils\n",
    "import structure_vb_lib.structure_optimization_lib as s_optim_lib\n",
    "\n",
    "from bnpmodeling_runjingdev import result_loading_utils\n",
    "from bnpmodeling_runjingdev.sensitivity_lib import HyperparameterSensitivityLinearApproximation\n",
    "from bnpmodeling_runjingdev.bnp_optimization_lib import optimize_kl\n",
    "\n",
    "import paragami\n",
    "\n",
    "from copy import deepcopy\n",
    "\n",
    "import time\n",
    "\n",
    "import matplotlib.pyplot as plt\n",
    "%matplotlib inline  "
   ]
  },
  {
   "cell_type": "code",
   "execution_count": 2,
   "metadata": {},
   "outputs": [],
   "source": [
    "import numpy as onp\n",
    "seed = 98765\n",
    "onp.random.seed(seed)"
   ]
  },
  {
   "cell_type": "code",
   "execution_count": 3,
   "metadata": {},
   "outputs": [],
   "source": [
    "save_data = True\n",
    "out_datadir = '/scratch/users/genomic_times_series_bnp/bnp_sensitivity_paper_data/structure/'"
   ]
  },
  {
   "cell_type": "code",
   "execution_count": null,
   "metadata": {},
   "outputs": [],
   "source": []
  },
  {
   "cell_type": "markdown",
   "metadata": {},
   "source": [
    "# Load data"
   ]
  },
  {
   "cell_type": "code",
   "execution_count": 4,
   "metadata": {},
   "outputs": [
    {
     "name": "stdout",
     "output_type": "stream",
     "text": [
      "loading thrush data from : \n",
      "../data/thrush_data/thrush-data.str\n"
     ]
    }
   ],
   "source": [
    "g_obs, _, labels, _ = data_utils.load_thrush_data()"
   ]
  },
  {
   "cell_type": "code",
   "execution_count": 5,
   "metadata": {},
   "outputs": [
    {
     "name": "stdout",
     "output_type": "stream",
     "text": [
      "(155, 7, 2, 21)\n"
     ]
    }
   ],
   "source": [
    "print(g_obs.shape)"
   ]
  },
  {
   "cell_type": "code",
   "execution_count": 6,
   "metadata": {},
   "outputs": [],
   "source": [
    "n_obs = g_obs.shape[0]\n",
    "n_loci = g_obs.shape[1]\n",
    "n_allele = g_obs.shape[-1]"
   ]
  },
  {
   "cell_type": "code",
   "execution_count": 7,
   "metadata": {},
   "outputs": [
    {
     "data": {
      "text/plain": [
       "array(['Chawia', 'Mbololo', 'Ngangao', 'Yale'], dtype='<U32')"
      ]
     },
     "execution_count": 7,
     "metadata": {},
     "output_type": "execute_result"
    }
   ],
   "source": [
    "onp.unique(labels)"
   ]
  },
  {
   "cell_type": "code",
   "execution_count": null,
   "metadata": {},
   "outputs": [],
   "source": []
  },
  {
   "cell_type": "markdown",
   "metadata": {},
   "source": [
    "# Get prior"
   ]
  },
  {
   "cell_type": "code",
   "execution_count": 8,
   "metadata": {},
   "outputs": [
    {
     "name": "stdout",
     "output_type": "stream",
     "text": [
      "{'dp_prior_alpha': 3.0, 'allele_prior_lambda_vec': DeviceArray([1., 1., 1., 1., 1., 1., 1., 1., 1., 1., 1., 1., 1., 1., 1.,\n",
      "             1., 1., 1., 1., 1., 1.], dtype=float64)}\n"
     ]
    }
   ],
   "source": [
    "prior_params_dict, prior_params_paragami = \\\n",
    "    structure_model_lib.get_default_prior_params(n_allele)\n",
    "\n",
    "alpha0 = 3.0\n",
    "prior_params_dict['dp_prior_alpha'] = alpha0\n",
    "\n",
    "print(prior_params_dict)\n",
    "\n",
    "prior_params_free = prior_params_paragami.flatten(prior_params_dict, free = True)"
   ]
  },
  {
   "cell_type": "code",
   "execution_count": null,
   "metadata": {},
   "outputs": [],
   "source": []
  },
  {
   "cell_type": "markdown",
   "metadata": {},
   "source": [
    "# Get VB params "
   ]
  },
  {
   "cell_type": "code",
   "execution_count": 11,
   "metadata": {},
   "outputs": [],
   "source": [
    "k_approx = 40"
   ]
  },
  {
   "cell_type": "code",
   "execution_count": 12,
   "metadata": {},
   "outputs": [],
   "source": [
    "gh_deg = 8\n",
    "gh_loc, gh_weights = hermgauss(8)"
   ]
  },
  {
   "cell_type": "code",
   "execution_count": 13,
   "metadata": {
    "scrolled": true
   },
   "outputs": [
    {
     "name": "stdout",
     "output_type": "stream",
     "text": [
      "OrderedDict:\n",
      "\t[pop_freq_dirichlet_params] = NumericArrayPattern (40, 7, 21) (lb=0.0, ub=inf)\n",
      "\t[ind_admix_params] = OrderedDict:\n",
      "\t[stick_means] = NumericArrayPattern (155, 39) (lb=-inf, ub=inf)\n",
      "\t[stick_infos] = NumericArrayPattern (155, 39) (lb=0.0001, ub=inf)\n"
     ]
    }
   ],
   "source": [
    "vb_params_dict, vb_params_paragami = \\\n",
    "    structure_model_lib.get_vb_params_paragami_object(n_obs = n_obs,\n",
    "                                                      n_loci = n_loci,\n",
    "                                                      n_allele = n_allele, \n",
    "                                                      k_approx = k_approx, \n",
    "                                                      prng_key = jax.random.PRNGKey(seed))\n",
    "    \n",
    "print(vb_params_paragami)"
   ]
  },
  {
   "cell_type": "code",
   "execution_count": null,
   "metadata": {},
   "outputs": [],
   "source": []
  },
  {
   "cell_type": "markdown",
   "metadata": {},
   "source": [
    "# Initialize"
   ]
  },
  {
   "cell_type": "code",
   "execution_count": 14,
   "metadata": {},
   "outputs": [
    {
     "data": {
      "text/plain": [
       "DeviceArray(35101.99688425, dtype=float64)"
      ]
     },
     "execution_count": 14,
     "metadata": {},
     "output_type": "execute_result"
    }
   ],
   "source": [
    "structure_model_lib.get_kl(g_obs, \n",
    "                           vb_params_dict, \n",
    "                           prior_params_dict, \n",
    "                           gh_loc, \n",
    "                           gh_weights)"
   ]
  },
  {
   "cell_type": "code",
   "execution_count": 15,
   "metadata": {},
   "outputs": [
    {
     "name": "stdout",
     "output_type": "stream",
     "text": [
      "Initialization time: 13.038secs\n"
     ]
    }
   ],
   "source": [
    "t0 = time.time() \n",
    "\n",
    "vb_params_dict = s_optim_lib.initialize_structure(g_obs, \n",
    "                                                  vb_params_dict, \n",
    "                                                  vb_params_paragami,\n",
    "                                                  prior_params_dict, \n",
    "                                                  gh_loc, \n",
    "                                                  gh_weights, \n",
    "                                                  seed = seed)\n",
    "\n",
    "print('Initialization time: {:.03f}secs'.format(time.time() - t0))"
   ]
  },
  {
   "cell_type": "code",
   "execution_count": 16,
   "metadata": {},
   "outputs": [
    {
     "data": {
      "text/plain": [
       "DeviceArray(31297.27268427, dtype=float64)"
      ]
     },
     "execution_count": 16,
     "metadata": {},
     "output_type": "execute_result"
    }
   ],
   "source": [
    "structure_model_lib.get_kl(g_obs, \n",
    "                           vb_params_dict, \n",
    "                           prior_params_dict, \n",
    "                           gh_loc, \n",
    "                           gh_weights)"
   ]
  },
  {
   "cell_type": "code",
   "execution_count": null,
   "metadata": {},
   "outputs": [],
   "source": []
  },
  {
   "cell_type": "markdown",
   "metadata": {},
   "source": [
    "# Optimize"
   ]
  },
  {
   "cell_type": "code",
   "execution_count": null,
   "metadata": {},
   "outputs": [
    {
     "name": "stdout",
     "output_type": "stream",
     "text": [
      "compiling objective and derivatives ... \n"
     ]
    }
   ],
   "source": [
    "vb_opt_dict, vb_opt, ez_opt, out, init_optim_time = \\\n",
    "    s_optim_lib.optimize_structure(g_obs,\n",
    "                                   vb_params_dict,\n",
    "                                   vb_params_paragami,\n",
    "                                   prior_params_dict, \n",
    "                                   gh_loc, \n",
    "                                   gh_weights)"
   ]
  },
  {
   "cell_type": "code",
   "execution_count": 16,
   "metadata": {},
   "outputs": [
    {
     "data": {
      "text/plain": [
       "7.015890121459961"
      ]
     },
     "execution_count": 16,
     "metadata": {},
     "output_type": "execute_result"
    }
   ],
   "source": [
    "init_optim_time"
   ]
  },
  {
   "cell_type": "code",
   "execution_count": 17,
   "metadata": {},
   "outputs": [
    {
     "data": {
      "text/plain": [
       "array(13533.40950931)"
      ]
     },
     "execution_count": 17,
     "metadata": {},
     "output_type": "execute_result"
    }
   ],
   "source": [
    "out.fun"
   ]
  },
  {
   "cell_type": "code",
   "execution_count": 18,
   "metadata": {},
   "outputs": [],
   "source": [
    "# array(13533.40950931)"
   ]
  },
  {
   "cell_type": "code",
   "execution_count": 19,
   "metadata": {},
   "outputs": [],
   "source": [
    "# save the fit for later\n",
    "paragami.save_folded('../fits/main_fits/structure_initial_fit', \n",
    "                     vb_opt_dict, \n",
    "                     vb_params_paragami, \n",
    "                     final_kl = out.fun, \n",
    "                     alpha0 = alpha0)"
   ]
  },
  {
   "cell_type": "code",
   "execution_count": null,
   "metadata": {},
   "outputs": [],
   "source": []
  },
  {
   "cell_type": "markdown",
   "metadata": {},
   "source": [
    "# Check out the fit"
   ]
  },
  {
   "cell_type": "code",
   "execution_count": 20,
   "metadata": {},
   "outputs": [
    {
     "data": {
      "image/png": "[encoded data removed]",
      "text/plain": [
       "<Figure size 576x324 with 1 Axes>"
      ]
     },
     "metadata": {
      "needs_background": "light"
     },
     "output_type": "display_data"
    }
   ],
   "source": [
    "e_ind_admix = posterior_quantities_lib.get_vb_expectations(vb_opt_dict, gh_loc, gh_weights)[0]\n",
    "\n",
    "# sort everything within populations\n",
    "perm_obs = data_utils.cluster_admix_get_indx_within_labels(onp.array(e_ind_admix),\n",
    "                                                               labels)\n",
    "\n",
    "# now re-order populations: put chawia last\n",
    "_labels = deepcopy(labels)\n",
    "_labels[_labels == 'Chawia'] = 'z'\n",
    "perm_labels = onp.argsort(_labels)\n",
    "perm_obs = perm_obs[perm_labels]\n",
    "\n",
    "# plot admixture\n",
    "fig, ax = plt.subplots(1, 1, figsize = (8, 4.5))\n",
    "\n",
    "plotting_utils.plot_top_clusters(onp.array(e_ind_admix)[perm_obs], \n",
    "                                 ax,\n",
    "                                 8, \n",
    "                                 cmap_colors = plt.get_cmap('Set2').colors);\n",
    "\n",
    "# print labels\n",
    "plotting_utils.draw_region_separation(labels[perm_labels], ax);"
   ]
  },
  {
   "cell_type": "code",
   "execution_count": null,
   "metadata": {},
   "outputs": [],
   "source": []
  },
  {
   "cell_type": "code",
   "execution_count": null,
   "metadata": {},
   "outputs": [],
   "source": []
  },
  {
   "cell_type": "code",
   "execution_count": 21,
   "metadata": {},
   "outputs": [],
   "source": [
    "# save the intitial fit for plotting\n",
    "if save_data: \n",
    "    np.savez(out_datadir + 'init_fit', \n",
    "            e_ind_admix = e_ind_admix[perm_obs], \n",
    "            labels = labels[perm_labels])"
   ]
  },
  {
   "cell_type": "code",
   "execution_count": 22,
   "metadata": {},
   "outputs": [],
   "source": [
    "e_num_loci_per_cluster = posterior_quantities_lib.get_e_num_loci_per_cluster(g_obs, \n",
    "                                                                             vb_opt_dict,\n",
    "                                                                             gh_loc,\n",
    "                                                                             gh_weights)\n",
    "\n",
    "e_num_ind_per_cluster = posterior_quantities_lib.get_e_num_ind_per_cluster(vb_opt_dict, \n",
    "                                                                           gh_loc,\n",
    "                                                                           gh_weights)"
   ]
  },
  {
   "cell_type": "code",
   "execution_count": 23,
   "metadata": {},
   "outputs": [
    {
     "data": {
      "image/png": "[encoded data removed]",
      "text/plain": [
       "<Figure size 576x216 with 2 Axes>"
      ]
     },
     "metadata": {
      "needs_background": "light"
     },
     "output_type": "display_data"
    }
   ],
   "source": [
    "fig, axarr = plt.subplots(1, 2, figsize = (8, 3))\n",
    "\n",
    "result_loading_utils._plot_weights(e_num_loci_per_cluster, \n",
    "                                   axarr[0])\n",
    "\n",
    "result_loading_utils._plot_weights(e_num_ind_per_cluster, \n",
    "                                   axarr[1])\n",
    "\n",
    "\n",
    "axarr[0].set_ylabel('e. num. loci')\n",
    "axarr[1].set_ylabel('e. num. ind.')\n",
    "    \n",
    "fig.tight_layout()"
   ]
  },
  {
   "cell_type": "code",
   "execution_count": null,
   "metadata": {},
   "outputs": [],
   "source": []
  },
  {
   "cell_type": "code",
   "execution_count": null,
   "metadata": {},
   "outputs": [],
   "source": []
  },
  {
   "cell_type": "markdown",
   "metadata": {},
   "source": [
    "# Define sensitivity object"
   ]
  },
  {
   "cell_type": "code",
   "execution_count": 24,
   "metadata": {},
   "outputs": [
    {
     "name": "stdout",
     "output_type": "stream",
     "text": [
      "1.0986122886681098\n"
     ]
    }
   ],
   "source": [
    "# initial prior alpha\n",
    "use_free_alpha = True\n",
    "hyper_param0 = prior_params_paragami['dp_prior_alpha'].flatten(alpha0, \n",
    "                                                              free = use_free_alpha)[0]\n",
    "\n",
    "print(hyper_param0)"
   ]
  },
  {
   "cell_type": "code",
   "execution_count": 25,
   "metadata": {},
   "outputs": [],
   "source": [
    "# set up objective as function of vb params and prior param \n",
    "\n",
    "def objective_fun(vb_params_dict, alpha): \n",
    "    \n",
    "    _prior_params_dict = deepcopy(prior_params_dict)\n",
    "    _prior_params_dict['dp_prior_alpha'] = alpha\n",
    "    \n",
    "    return structure_model_lib.get_kl(g_obs, \n",
    "                          vb_params_dict,\n",
    "                          _prior_params_dict,\n",
    "                          gh_loc, \n",
    "                          gh_weights).squeeze()\n",
    "\n",
    "\n",
    "objective_fun_free = paragami.FlattenFunctionInput(\n",
    "                                original_fun=objective_fun, \n",
    "                                patterns = [vb_params_paragami, prior_params_paragami['dp_prior_alpha']],\n",
    "                                free = [True, use_free_alpha],\n",
    "                                argnums = [0, 1])"
   ]
  },
  {
   "cell_type": "code",
   "execution_count": null,
   "metadata": {},
   "outputs": [],
   "source": []
  },
  {
   "cell_type": "markdown",
   "metadata": {},
   "source": [
    "### The sensitivity object"
   ]
  },
  {
   "cell_type": "code",
   "execution_count": 26,
   "metadata": {},
   "outputs": [
    {
     "name": "stdout",
     "output_type": "stream",
     "text": [
      "Compiling hessian solver ...\n",
      "Hessian solver compile time: 71.8535sec\n",
      "\n",
      "Compiling cross hessian...\n",
      "Cross-hessian compile time: 0.560631sec\n",
      "\n",
      "LR sensitivity time: 0.341429sec\n",
      "\n"
     ]
    }
   ],
   "source": [
    "vb_sens = HyperparameterSensitivityLinearApproximation(objective_fun_free,\n",
    "                                                        vb_opt,\n",
    "                                                        hyper_param0)"
   ]
  },
  {
   "cell_type": "code",
   "execution_count": 27,
   "metadata": {},
   "outputs": [
    {
     "name": "stdout",
     "output_type": "stream",
     "text": [
      "LR sensitivity time: 0.319432sec\n",
      "\n",
      "LR sensitivity time: 0.310705sec\n",
      "\n",
      "LR sensitivity time: 0.339551sec\n",
      "\n",
      "LR sensitivity time: 0.34321sec\n",
      "\n",
      "LR sensitivity time: 0.301131sec\n",
      "\n",
      "LR sensitivity time: 0.323449sec\n",
      "\n",
      "LR sensitivity time: 0.320486sec\n",
      "\n",
      "LR sensitivity time: 0.319561sec\n",
      "\n",
      "LR sensitivity time: 0.342704sec\n",
      "\n",
      "LR sensitivity time: 0.344247sec\n",
      "\n"
     ]
    }
   ],
   "source": [
    "# double check the timing ... \n",
    "\n",
    "n_trials = 10\n",
    "hess_solve_time_samples = onp.zeros(n_trials)\n",
    "for i in range(n_trials): \n",
    "    # this sets the cross-hessian and solves\n",
    "    # we call \"block_util_ready()\" inside this method\n",
    "    # so it should be a fair comparison\n",
    "    vb_sens._set_dinput_dhyper()\n",
    "    \n",
    "    hess_solve_time_samples[i] = vb_sens.lr_time\n",
    "\n",
    "hess_solve_time = hess_solve_time_samples.mean()"
   ]
  },
  {
   "cell_type": "code",
   "execution_count": null,
   "metadata": {},
   "outputs": [],
   "source": []
  },
  {
   "cell_type": "code",
   "execution_count": null,
   "metadata": {},
   "outputs": [],
   "source": []
  },
  {
   "cell_type": "code",
   "execution_count": null,
   "metadata": {},
   "outputs": [],
   "source": []
  },
  {
   "cell_type": "markdown",
   "metadata": {},
   "source": [
    "# Fit for a range of alpha"
   ]
  },
  {
   "cell_type": "markdown",
   "metadata": {},
   "source": [
    "### Define loss as function of free params and alpha\n",
    "and we precompile its derivatives beforehand"
   ]
  },
  {
   "cell_type": "code",
   "execution_count": 28,
   "metadata": {},
   "outputs": [],
   "source": [
    "get_fun = jax.jit(objective_fun_free)\n",
    "\n",
    "get_grad = jax.jit(jax.grad(objective_fun_free, argnums = 0))\n",
    "\n",
    "def _get_hvp(x, hyper_param0, v):\n",
    "    return jax.jvp(jax.grad(objective_fun_free, argnums = 0), (x, hyper_param0), (v, 0.))[1]\n",
    "\n",
    "get_hvp = jax.jit(_get_hvp)"
   ]
  },
  {
   "cell_type": "code",
   "execution_count": 29,
   "metadata": {},
   "outputs": [],
   "source": [
    "# compile ... \n",
    "_ = get_fun(vb_opt, hyper_param0).block_until_ready()\n",
    "_ = get_grad(vb_opt, hyper_param0).block_until_ready()\n",
    "_ = get_hvp(vb_opt, hyper_param0, vb_opt).block_until_ready()"
   ]
  },
  {
   "cell_type": "code",
   "execution_count": 30,
   "metadata": {},
   "outputs": [],
   "source": [
    "def refit_with_alpha(alpha, new_init_dict):\n",
    "    # sets new alpha, returns new vb optimum\n",
    "    \n",
    "    hyper_param0 = prior_params_paragami['dp_prior_alpha'].flatten(alpha, free = use_free_alpha)[0]\n",
    "    \n",
    "    _, vb_opt_pert, _, refit_time = \\\n",
    "        optimize_kl(lambda x : get_fun(x, hyper_param0),\n",
    "                     new_init_dict, \n",
    "                     vb_params_paragami, \n",
    "                     get_grad = lambda x : get_grad(x, hyper_param0),\n",
    "                     get_hvp = lambda x, v: get_hvp(x, hyper_param0, v),\n",
    "                     run_lbfgs = False,\n",
    "                     run_newton = True)                         \n",
    "        \n",
    "    return vb_opt_pert, refit_time"
   ]
  },
  {
   "cell_type": "raw",
   "metadata": {},
   "source": [
    "alpha_list = np.arange(0, 14)\n",
    "\n",
    "refit_list = []\n",
    "refit_time_vec = []\n",
    "\n",
    "new_init_dict = deepcopy(vb_opt_dict)\n",
    "\n",
    "for alpha in alpha_list: \n",
    "    print('\\n################')\n",
    "    print('re-optimzing with alpha = ', alpha)\n",
    "    print('################')\n",
    "    \n",
    "    refit_free, refit_time = refit_with_alpha(alpha, new_init_dict)\n",
    "    \n",
    "    refit_list.append(refit_free)\n",
    "    refit_time_vec.append(refit_time)\n",
    "    \n",
    "    new_init_dict = vb_params_paragami.fold(refit_free, free = True)\n"
   ]
  },
  {
   "cell_type": "code",
   "execution_count": 31,
   "metadata": {},
   "outputs": [],
   "source": [
    "alpha_list1 = np.arange(alpha0, 0, step = -1, dtype = float)\n",
    "alpha_list2 = np.arange(alpha0 + 1, 11, step = 1, dtype = float)"
   ]
  },
  {
   "cell_type": "code",
   "execution_count": 32,
   "metadata": {},
   "outputs": [
    {
     "name": "stdout",
     "output_type": "stream",
     "text": [
      "\n",
      "################\n",
      "re-optimzing with alpha =  3.0\n",
      "################\n",
      "compiling objective and derivatives ... \n",
      "done. Compile time: 4.244sec\n",
      "Running trust-ncg ... \n",
      "Newton time: 0.035sec\n",
      "Newton out:  Optimization terminated successfully.\n",
      "done. \n",
      "\n",
      "################\n",
      "re-optimzing with alpha =  2.0\n",
      "################\n",
      "compiling objective and derivatives ... \n",
      "done. Compile time: 4.157sec\n",
      "Running trust-ncg ... \n",
      "Newton time: 5.566sec\n",
      "Newton out:  Optimization terminated successfully.\n",
      "done. \n",
      "\n",
      "################\n",
      "re-optimzing with alpha =  1.0\n",
      "################\n",
      "compiling objective and derivatives ... \n",
      "done. Compile time: 4.182sec\n",
      "Running trust-ncg ... \n",
      "Newton time: 7.430sec\n",
      "Newton out:  Optimization terminated successfully.\n",
      "done. \n",
      "\n",
      "################\n",
      "re-optimzing with alpha =  4.0\n",
      "################\n",
      "compiling objective and derivatives ... \n",
      "done. Compile time: 4.152sec\n",
      "Running trust-ncg ... \n",
      "Newton time: 5.635sec\n",
      "Newton out:  Optimization terminated successfully.\n",
      "done. \n",
      "\n",
      "################\n",
      "re-optimzing with alpha =  5.0\n",
      "################\n",
      "compiling objective and derivatives ... \n",
      "done. Compile time: 4.159sec\n",
      "Running trust-ncg ... \n",
      "Newton time: 5.089sec\n",
      "Newton out:  Optimization terminated successfully.\n",
      "done. \n",
      "\n",
      "################\n",
      "re-optimzing with alpha =  6.0\n",
      "################\n",
      "compiling objective and derivatives ... \n",
      "done. Compile time: 4.162sec\n",
      "Running trust-ncg ... \n",
      "Newton time: 4.864sec\n",
      "Newton out:  Optimization terminated successfully.\n",
      "done. \n",
      "\n",
      "################\n",
      "re-optimzing with alpha =  7.0\n",
      "################\n",
      "compiling objective and derivatives ... \n",
      "done. Compile time: 4.149sec\n",
      "Running trust-ncg ... \n",
      "Newton time: 4.329sec\n",
      "Newton out:  Optimization terminated successfully.\n",
      "done. \n",
      "\n",
      "################\n",
      "re-optimzing with alpha =  8.0\n",
      "################\n",
      "compiling objective and derivatives ... \n",
      "done. Compile time: 4.157sec\n",
      "Running trust-ncg ... \n",
      "Newton time: 4.535sec\n",
      "Newton out:  Optimization terminated successfully.\n",
      "done. \n",
      "\n",
      "################\n",
      "re-optimzing with alpha =  9.0\n",
      "################\n",
      "compiling objective and derivatives ... \n",
      "done. Compile time: 4.155sec\n",
      "Running trust-ncg ... \n",
      "Newton time: 9.362sec\n",
      "Newton out:  Optimization terminated successfully.\n",
      "done. \n",
      "\n",
      "################\n",
      "re-optimzing with alpha =  10.0\n",
      "################\n",
      "compiling objective and derivatives ... \n",
      "done. Compile time: 4.147sec\n",
      "Running trust-ncg ... \n",
      "Newton time: 5.102sec\n",
      "Newton out:  Optimization terminated successfully.\n",
      "done. \n"
     ]
    }
   ],
   "source": [
    "refit_list = []\n",
    "refit_time_vec = []\n",
    "\n",
    "new_init_dict = deepcopy(vb_opt_dict)\n",
    "\n",
    "for alpha in alpha_list1: \n",
    "    print('\\n################')\n",
    "    print('re-optimzing with alpha = ', alpha)\n",
    "    print('################')\n",
    "    \n",
    "    refit_free, refit_time = refit_with_alpha(alpha, new_init_dict)\n",
    "    \n",
    "    refit_list.append(refit_free)\n",
    "    refit_time_vec.append(refit_time)\n",
    "    \n",
    "    new_init_dict = vb_params_paragami.fold(refit_free, free = True)\n",
    "\n",
    "# continue refits with second set of alphas\n",
    "new_init_dict = deepcopy(vb_opt_dict)\n",
    "\n",
    "for alpha in alpha_list2: \n",
    "    print('\\n################')\n",
    "    print('re-optimzing with alpha = ', alpha)\n",
    "    print('################')\n",
    "    \n",
    "    refit_free, refit_time = refit_with_alpha(alpha, new_init_dict)\n",
    "    \n",
    "    refit_list.append(refit_free)\n",
    "    refit_time_vec.append(refit_time)\n",
    "    \n",
    "    new_init_dict = vb_params_paragami.fold(refit_free, free = True)\n"
   ]
  },
  {
   "cell_type": "code",
   "execution_count": 33,
   "metadata": {},
   "outputs": [
    {
     "name": "stderr",
     "output_type": "stream",
     "text": [
      "/accounts/grad/runjing_liu/.conda/envs/bnp_sensitivity_jax/lib/python3.9/site-packages/jax/numpy/lax_numpy.py:3350: UserWarning: 'kind' argument to argsort is ignored.\n",
      "  warnings.warn(\"'kind' argument to argsort is ignored.\")\n"
     ]
    }
   ],
   "source": [
    "# put everythin in order \n",
    "alpha_list = np.concatenate((alpha_list1, alpha_list2))\n",
    "alpha_perm = onp.argsort(alpha_list)\n",
    "alpha_list = alpha_list[alpha_perm]\n",
    "refit_list = np.array(refit_list)[alpha_perm]\n",
    "refit_time_vec = np.array(refit_time_vec)[alpha_perm]"
   ]
  },
  {
   "cell_type": "code",
   "execution_count": null,
   "metadata": {},
   "outputs": [],
   "source": []
  },
  {
   "cell_type": "markdown",
   "metadata": {},
   "source": [
    "# Get linear response predictions"
   ]
  },
  {
   "cell_type": "code",
   "execution_count": 34,
   "metadata": {},
   "outputs": [],
   "source": [
    "# make sure everything is compiled before we report timing\n",
    "hyper_param_pert = prior_params_paragami['dp_prior_alpha'].flatten(alpha_list[0], free = use_free_alpha)\n",
    "_ = vb_sens.predict_opt_par_from_hyper_par(hyper_param_pert).block_until_ready()"
   ]
  },
  {
   "cell_type": "code",
   "execution_count": 35,
   "metadata": {},
   "outputs": [],
   "source": [
    "lr_list = []\n",
    "lr_time_vec = []\n",
    "\n",
    "for alpha in alpha_list: \n",
    "    \n",
    "    hyper_param_pert = prior_params_paragami['dp_prior_alpha'].flatten(alpha, free = use_free_alpha)\n",
    "    \n",
    "    # get linear response\n",
    "    t0 = time.time()\n",
    "    lr_free_params = vb_sens.predict_opt_par_from_hyper_par(hyper_param_pert).block_until_ready()\n",
    "    elapsed = time.time() - t0\n",
    "    \n",
    "    lr_list.append(lr_free_params)\n",
    "    lr_time_vec.append(elapsed)\n",
    "    \n",
    "lr_time_vec = onp.array(lr_time_vec)"
   ]
  },
  {
   "cell_type": "code",
   "execution_count": null,
   "metadata": {},
   "outputs": [],
   "source": []
  },
  {
   "cell_type": "markdown",
   "metadata": {},
   "source": [
    "# Check free parameters"
   ]
  },
  {
   "cell_type": "code",
   "execution_count": 36,
   "metadata": {},
   "outputs": [
    {
     "data": {
      "image/png": "[encoded data removed]",
      "text/plain": [
       "<Figure size 360x288 with 1 Axes>"
      ]
     },
     "metadata": {
      "needs_background": "light"
     },
     "output_type": "display_data"
    },
    {
     "data": {
      "image/png": "[encoded data removed]",
      "text/plain": [
       "<Figure size 360x288 with 1 Axes>"
      ]
     },
     "metadata": {
      "needs_background": "light"
     },
     "output_type": "display_data"
    },
    {
     "data": {
      "image/png": "[encoded data removed]",
      "text/plain": [
       "<Figure size 360x288 with 1 Axes>"
      ]
     },
     "metadata": {
      "needs_background": "light"
     },
     "output_type": "display_data"
    },
    {
     "data": {
      "image/png": "[encoded data removed]",
      "text/plain": [
       "<Figure size 360x288 with 1 Axes>"
      ]
     },
     "metadata": {
      "needs_background": "light"
     },
     "output_type": "display_data"
    },
    {
     "data": {
      "image/png": "[encoded data removed]",
      "text/plain": [
       "<Figure size 360x288 with 1 Axes>"
      ]
     },
     "metadata": {
      "needs_background": "light"
     },
     "output_type": "display_data"
    },
    {
     "data": {
      "image/png": "[encoded data removed]",
      "text/plain": [
       "<Figure size 360x288 with 1 Axes>"
      ]
     },
     "metadata": {
      "needs_background": "light"
     },
     "output_type": "display_data"
    },
    {
     "data": {
      "image/png": "[encoded data removed]",
      "text/plain": [
       "<Figure size 360x288 with 1 Axes>"
      ]
     },
     "metadata": {
      "needs_background": "light"
     },
     "output_type": "display_data"
    },
    {
     "data": {
      "image/png": "[encoded data removed]",
      "text/plain": [
       "<Figure size 360x288 with 1 Axes>"
      ]
     },
     "metadata": {
      "needs_background": "light"
     },
     "output_type": "display_data"
    },
    {
     "data": {
      "image/png": "[encoded data removed]",
      "text/plain": [
       "<Figure size 360x288 with 1 Axes>"
      ]
     },
     "metadata": {
      "needs_background": "light"
     },
     "output_type": "display_data"
    },
    {
     "data": {
      "image/png": "[encoded data removed]",
      "text/plain": [
       "<Figure size 360x288 with 1 Axes>"
      ]
     },
     "metadata": {
      "needs_background": "light"
     },
     "output_type": "display_data"
    }
   ],
   "source": [
    "for i in range(len(alpha_list)): \n",
    "    fig, ax = plt.subplots(1, 1, figsize = (5, 4))\n",
    "\n",
    "    result_loading_utils.print_diff_plot(refit_list[i], \n",
    "                                         lr_list[i],\n",
    "                                         vb_opt,\n",
    "                                         ax, \n",
    "                                         alpha = 1.)\n",
    "    \n",
    "    alpha = alpha_list[i]\n",
    "    hyper_param_pert = prior_params_paragami['dp_prior_alpha'].flatten(alpha,\n",
    "                                                                       free = use_free_alpha)\n",
    "    delta = hyper_param_pert - hyper_param0\n",
    "    plt.title('alpha = ' + str(alpha) + '; delta = {:.03f}'.format(delta[0]))\n",
    "    "
   ]
  },
  {
   "cell_type": "code",
   "execution_count": 37,
   "metadata": {},
   "outputs": [],
   "source": [
    "def get_inferred_admixture_and_plot(vb_free_params, ax): \n",
    "    # get inferred admixture\n",
    "    e_ind_admix = posterior_quantities_lib.get_vb_expectations(vb_params_paragami.fold(vb_free_params, free = True), \n",
    "                                                               gh_loc,\n",
    "                                                               gh_weights)[0]\n",
    "    \n",
    "    # plot admixtures\n",
    "    plotting_utils.plot_top_clusters(onp.array(e_ind_admix)[perm_obs], \n",
    "                                     ax,\n",
    "                                     8, \n",
    "                                     cmap_colors = plt.get_cmap('Set2').colors);\n",
    "\n",
    "    # print labels \n",
    "    plotting_utils.draw_region_separation(labels[perm_labels], ax);"
   ]
  },
  {
   "cell_type": "code",
   "execution_count": 38,
   "metadata": {},
   "outputs": [
    {
     "data": {
      "text/plain": [
       "DeviceArray([ 1.,  2.,  3.,  4.,  5.,  6.,  7.,  8.,  9., 10.], dtype=float64)"
      ]
     },
     "execution_count": 38,
     "metadata": {},
     "output_type": "execute_result"
    }
   ],
   "source": [
    "alpha_list"
   ]
  },
  {
   "cell_type": "code",
   "execution_count": 39,
   "metadata": {},
   "outputs": [],
   "source": [
    "# for i in range(5): \n",
    "\n",
    "#     fig, ax = plt.subplots(1, 2, figsize = (16, 4.5))\n",
    "    \n",
    "#     # refit\n",
    "#     get_inferred_admixture_and_plot(refit_list[i], ax[0])\n",
    "#     ax[0].set_title('refit at alpha = {}'.format(alpha_list[i]))\n",
    "    \n",
    "#     # lr \n",
    "#     get_inferred_admixture_and_plot(lr_list[i], ax[1])\n",
    "#     ax[1].set_title('lr at alpha = {}'.format(alpha_list[i]))\n",
    "    \n",
    "#     fig.tight_layout()"
   ]
  },
  {
   "cell_type": "code",
   "execution_count": null,
   "metadata": {},
   "outputs": [],
   "source": []
  },
  {
   "cell_type": "markdown",
   "metadata": {},
   "source": [
    "# Number of clusters"
   ]
  },
  {
   "cell_type": "markdown",
   "metadata": {},
   "source": [
    "### In-sample quantities"
   ]
  },
  {
   "cell_type": "code",
   "execution_count": 48,
   "metadata": {},
   "outputs": [],
   "source": [
    "prng_key = jax.random.PRNGKey(223)\n",
    "\n",
    "@jax.jit\n",
    "def get_n_clusters_insample(vb_free):\n",
    "    \n",
    "    vb_params_dict = vb_params_paragami.fold(vb_free, free = True)\n",
    "    \n",
    "    return posterior_quantities_lib.get_e_num_clusters(g_obs,\n",
    "                                                       vb_params_dict,\n",
    "                                                       gh_loc,\n",
    "                                                       gh_weights,\n",
    "                                                       threshold = 0,\n",
    "                                                       n_samples = 10000, \n",
    "                                                       prng_key = prng_key)\n",
    "\n",
    "threshold1 = 20\n",
    "@jax.jit\n",
    "def get_n_clusters_insample_thresh(vb_free):\n",
    "    \n",
    "    vb_params_dict = vb_params_paragami.fold(vb_free, free = True)\n",
    "    \n",
    "    return posterior_quantities_lib.get_e_num_clusters(g_obs,\n",
    "                                                            vb_params_dict,\n",
    "                                                            gh_loc, gh_weights,\n",
    "                                                            threshold = threshold1,\n",
    "                                                            n_samples = 1000, \n",
    "                                                            prng_key = prng_key)\n",
    "\n",
    "\n",
    "threshold2 = 40\n",
    "@jax.jit\n",
    "def get_n_clusters_insample_thresh2(vb_free):\n",
    "    \n",
    "    vb_params_dict = vb_params_paragami.fold(vb_free, free = True)\n",
    "    \n",
    "    return posterior_quantities_lib.get_e_num_clusters(g_obs,\n",
    "                                                            vb_params_dict,\n",
    "                                                            gh_loc, gh_weights,\n",
    "                                                            threshold = threshold2,\n",
    "                                                            n_samples = 1000, \n",
    "                                                            prng_key = prng_key)\n"
   ]
  },
  {
   "cell_type": "code",
   "execution_count": 49,
   "metadata": {},
   "outputs": [
    {
     "data": {
      "image/png": "[encoded data removed]",
      "text/plain": [
       "<Figure size 720x288 with 3 Axes>"
      ]
     },
     "metadata": {
      "needs_background": "light"
     },
     "output_type": "display_data"
    }
   ],
   "source": [
    "fig, axarr = plt.subplots(1, 3, figsize = (10, 4))\n",
    "\n",
    "# in sample number of clusters\n",
    "result_loading_utils.plot_post_stat_per_epsilon(get_n_clusters_insample, \n",
    "                                               refit_list,\n",
    "                                               lr_list,\n",
    "                                               alpha_list, \n",
    "                                               axarr[0])\n",
    "axarr[0].legend()\n",
    "axarr[0].set_title('thresh = 0')\n",
    "axarr[0].set_ylabel('E[# clusters]')\n",
    "\n",
    "# in sample, thresholded\n",
    "result_loading_utils.plot_post_stat_per_epsilon(get_n_clusters_insample_thresh, \n",
    "                                               refit_list,\n",
    "                                               lr_list,\n",
    "                                               alpha_list, \n",
    "                                               axarr[1])\n",
    "\n",
    "axarr[1].set_title('thresh = {}'.format(threshold1))\n",
    "axarr[1].set_ylabel('E[# clusters]')\n",
    "\n",
    "# in sample, thresholded, at second threshold\n",
    "result_loading_utils.plot_post_stat_per_epsilon(get_n_clusters_insample_thresh2, \n",
    "                                               refit_list,\n",
    "                                               lr_list,\n",
    "                                               alpha_list, \n",
    "                                               axarr[2])\n",
    "\n",
    "axarr[2].set_title('thresh = {}'.format(threshold2))\n",
    "axarr[2].set_ylabel('E[# clusters]')\n",
    "\n",
    "for i in range(3):\n",
    "    axarr[i].axvline(alpha0, \n",
    "                     color = 'red', \n",
    "                     linestyle = '--')\n",
    "    axarr[i].set_xlabel('alpha')\n",
    "    \n",
    "\n",
    "\n",
    "fig.tight_layout()"
   ]
  },
  {
   "cell_type": "code",
   "execution_count": null,
   "metadata": {},
   "outputs": [],
   "source": []
  },
  {
   "cell_type": "code",
   "execution_count": null,
   "metadata": {},
   "outputs": [],
   "source": []
  },
  {
   "cell_type": "markdown",
   "metadata": {},
   "source": [
    "# Cluster weights"
   ]
  },
  {
   "cell_type": "code",
   "execution_count": 50,
   "metadata": {},
   "outputs": [],
   "source": [
    "def get_cluster_weights(vb_free): \n",
    "    vb_params_dict = vb_params_paragami.fold(vb_free, free = True)\n",
    "    \n",
    "    return posterior_quantities_lib.get_e_num_loci_per_cluster(g_obs, vb_params_dict, gh_loc, gh_weights)\n",
    "#     return posterior_quantities_lib.get_e_num_ind_per_cluster(vb_params_dict, gh_loc, gh_weights)"
   ]
  },
  {
   "cell_type": "code",
   "execution_count": 65,
   "metadata": {},
   "outputs": [],
   "source": [
    "def plot_e_num_obs_trace(): \n",
    "    \n",
    "    # get arrays of mixture weights\n",
    "    refit_array = result_loading_utils.get_post_stat_vec(get_cluster_weights, refit_list)\n",
    "    lr_array = result_loading_utils.get_post_stat_vec(get_cluster_weights, lr_list)\n",
    "    \n",
    "        \n",
    "    fig, ax = plt.subplots(2, 4, figsize = (16, 6), sharex = True) \n",
    "    \n",
    "    for k in range(8): \n",
    "        x0 = k // 4\n",
    "        x1 = k % 4\n",
    "        ax[x0, x1].plot(alpha_list, \n",
    "                       refit_array[:, -k], \n",
    "                       '-o',\n",
    "                       color = result_loading_utils.refit_color, \n",
    "                       label = 'refit')\n",
    "        \n",
    "        ax[x0, x1].plot(alpha_list, \n",
    "                       lr_array[:, -k], \n",
    "                       '-o',\n",
    "                       color = result_loading_utils.lr_color, \n",
    "                       label = 'lr')\n",
    "        \n",
    "        ax[x0, x1].set_title('k = {}'.format(k))\n",
    "        ax[x0, x1].axvline(alpha0, \n",
    "                           color = 'red', \n",
    "                           linestyle = '--')\n",
    "        \n",
    "        \n",
    "        if k == 0: \n",
    "            ax[x0, x1].legend()\n",
    "            \n",
    "    for k in range(4): \n",
    "        ax[-1, k].set_xlabel('alpha')\n",
    "        \n",
    "    for k in range(2): \n",
    "        ax[k, 0].set_ylabel('E(# loci)')\n",
    "    \n",
    "    fig.tight_layout()\n"
   ]
  },
  {
   "cell_type": "code",
   "execution_count": 66,
   "metadata": {},
   "outputs": [
    {
     "data": {
      "image/png": "[encoded data removed]",
      "text/plain": [
       "<Figure size 1152x432 with 8 Axes>"
      ]
     },
     "metadata": {
      "needs_background": "light"
     },
     "output_type": "display_data"
    }
   ],
   "source": [
    "plot_e_num_obs_trace()"
   ]
  },
  {
   "cell_type": "code",
   "execution_count": null,
   "metadata": {},
   "outputs": [],
   "source": []
  },
  {
   "cell_type": "code",
   "execution_count": null,
   "metadata": {},
   "outputs": [],
   "source": []
  },
  {
   "cell_type": "code",
   "execution_count": null,
   "metadata": {},
   "outputs": [],
   "source": []
  },
  {
   "cell_type": "code",
   "execution_count": 54,
   "metadata": {},
   "outputs": [],
   "source": [
    "ez = posterior_quantities_lib.get_optimal_z_from_vb_dict(g_obs,\n",
    "                                                         vb_params_paragami.fold(refit_list[-1], free = True),\n",
    "                                                         gh_loc,\n",
    "                                                         gh_weights)"
   ]
  },
  {
   "cell_type": "code",
   "execution_count": 58,
   "metadata": {},
   "outputs": [],
   "source": [
    "from bnpmodeling_runjingdev import cluster_quantities_lib"
   ]
  },
  {
   "cell_type": "code",
   "execution_count": 60,
   "metadata": {},
   "outputs": [],
   "source": [
    "ez_samples = cluster_quantities_lib.sample_ez(ez.reshape(-1, 20))"
   ]
  },
  {
   "cell_type": "code",
   "execution_count": 64,
   "metadata": {},
   "outputs": [
    {
     "data": {
      "text/plain": [
       "DeviceArray([[832, 641, 160,  24,  26,  15,  18,  15,   9,  15,  10,   7,\n",
       "                9,   6,   8,   4,   6,   2,   6, 357]], dtype=int64)"
      ]
     },
     "execution_count": 64,
     "metadata": {},
     "output_type": "execute_result"
    }
   ],
   "source": [
    "ez_samples.sum(1) "
   ]
  },
  {
   "cell_type": "code",
   "execution_count": null,
   "metadata": {},
   "outputs": [],
   "source": []
  },
  {
   "cell_type": "markdown",
   "metadata": {},
   "source": [
    "### Save sensitivity results"
   ]
  },
  {
   "cell_type": "code",
   "execution_count": 51,
   "metadata": {},
   "outputs": [
    {
     "name": "stdout",
     "output_type": "stream",
     "text": [
      "saving results\n",
      "done.\n"
     ]
    }
   ],
   "source": [
    "if save_data: \n",
    "    print('saving results')\n",
    "    np.savez(out_datadir + 'alpha_sens', \n",
    "            # not thresholded\n",
    "            n_clusters_refit = result_loading_utils.get_post_stat_vec(get_n_clusters_insample, \n",
    "                                                                             refit_list),\n",
    "            n_clusters_lr = result_loading_utils.get_post_stat_vec(get_n_clusters_insample, \n",
    "                                                                          lr_list),\n",
    "            # first threshold\n",
    "            n_clusters_thresh_refit = result_loading_utils.get_post_stat_vec(get_n_clusters_insample_thresh, \n",
    "                                                                             refit_list),\n",
    "            n_clusters_thresh_lr = result_loading_utils.get_post_stat_vec(get_n_clusters_insample_thresh, \n",
    "                                                                          lr_list),\n",
    "            # second threshold \n",
    "            n_clusters_thresh_refit2 = result_loading_utils.get_post_stat_vec(get_n_clusters_insample_thresh2, \n",
    "                                                                             refit_list),\n",
    "            n_clusters_thresh_lr2 = result_loading_utils.get_post_stat_vec(get_n_clusters_insample_thresh2, \n",
    "                                                                          lr_list),\n",
    "            # third threshold \n",
    "            n_clusters_thresh_refit3 = result_loading_utils.get_post_stat_vec(get_n_clusters_insample_thresh3, \n",
    "                                                                             refit_list),\n",
    "            n_clusters_thresh_lr3 = result_loading_utils.get_post_stat_vec(get_n_clusters_insample_thresh3, \n",
    "                                                                          lr_list),\n",
    "            # cluster weights\n",
    "            cluster_weights_refit = result_loading_utils.get_post_stat_vec(get_cluster_weights, refit_list),\n",
    "            cluster_weights_lr = result_loading_utils.get_post_stat_vec(get_cluster_weights, lr_list), \n",
    "            alpha_list = alpha_list, \n",
    "            threshold = threshold1, \n",
    "            threshold2 = threshold2, \n",
    "            threshold3 = threshold3,\n",
    "            alpha0 = alpha0)\n",
    "    \n",
    "print('done.')"
   ]
  },
  {
   "cell_type": "code",
   "execution_count": null,
   "metadata": {},
   "outputs": [],
   "source": []
  },
  {
   "cell_type": "code",
   "execution_count": 48,
   "metadata": {},
   "outputs": [],
   "source": [
    "# save timing results: \n",
    "if save_data: \n",
    "    np.savez(out_datadir + 'structure_alphasens_timing', \n",
    "             init_optim_time = init_optim_time, \n",
    "             hess_solve_time = hess_solve_time,\n",
    "             refit_time_vec = refit_time_vec, \n",
    "             lr_time_vec = lr_time_vec, \n",
    "             alpha_list = alpha_list)"
   ]
  },
  {
   "cell_type": "raw",
   "metadata": {},
   "source": []
  },
  {
   "cell_type": "code",
   "execution_count": 49,
   "metadata": {},
   "outputs": [],
   "source": [
    "@jax.jit\n",
    "def get_n_clusters_pred_thresh2(vb_free):\n",
    "    \n",
    "    vb_params_dict = vb_params_paragami.fold(vb_free, free = True)\n",
    "    \n",
    "    return posterior_quantities_lib.get_e_num_pred_clusters(vb_params_dict,\n",
    "                                                            gh_loc, \n",
    "                                                            gh_weights, \n",
    "                                                            n_samples = 1000,\n",
    "                                                            threshold = 100,\n",
    "                                                            prng_key = prng_key)"
   ]
  },
  {
   "cell_type": "code",
   "execution_count": 50,
   "metadata": {},
   "outputs": [
    {
     "data": {
      "image/png": "[encoded data removed]",
      "text/plain": [
       "<Figure size 720x288 with 2 Axes>"
      ]
     },
     "metadata": {
      "needs_background": "light"
     },
     "output_type": "display_data"
    }
   ],
   "source": [
    "fig, axarr = plt.subplots(1, 2, figsize = (10, 4))\n",
    "\n",
    "# in sample number of clusters\n",
    "result_loading_utils.plot_post_stat_per_epsilon(get_n_clusters_pred_thresh2, \n",
    "                                               refit_list,\n",
    "                                               lr_list,\n",
    "                                               alpha_list, \n",
    "                                               axarr[0])\n",
    "# axarr[0].legend()\n",
    "axarr[0].set_title('In-sample; threshold = {}'.format(threshold1))\n",
    "axarr[0].set_ylabel('E[# clusters]')\n",
    "\n",
    "# predictive number of clusters\n",
    "result_loading_utils.plot_post_stat_per_epsilon(lambda x : 0.,\n",
    "                                               refit_list,\n",
    "                                               lr_list,\n",
    "                                               alpha_list, \n",
    "                                               axarr[1])\n",
    "axarr[1].set_title('Predictive; threshold = {}'.format(threshold2))\n",
    "\n",
    "for i in range(2):\n",
    "    axarr[i].axvline(alpha0, \n",
    "                     color = 'red', \n",
    "                     linestyle = '--')\n",
    "    axarr[i].set_xlabel('alpha')\n",
    "\n",
    "fig.tight_layout()"
   ]
  },
  {
   "cell_type": "code",
   "execution_count": null,
   "metadata": {},
   "outputs": [],
   "source": []
  },
  {
   "cell_type": "code",
   "execution_count": null,
   "metadata": {},
   "outputs": [],
   "source": []
  },
  {
   "cell_type": "code",
   "execution_count": null,
   "metadata": {},
   "outputs": [],
   "source": []
  },
  {
   "cell_type": "code",
   "execution_count": null,
   "metadata": {},
   "outputs": [],
   "source": []
  },
  {
   "cell_type": "raw",
   "metadata": {},
   "source": [
    "### Thresholded"
   ]
  },
  {
   "cell_type": "raw",
   "metadata": {},
   "source": [
    "prng_key = jax.random.PRNGKey(223)\n",
    "\n",
    "threshold1 = 20 # np.ceil((n_obs * n_loci * 2) * 0.01)\n",
    "threshold2 = np.ceil(n_obs * 0.01)\n",
    "\n",
    "print(threshold1)\n",
    "print(threshold2)\n",
    "\n",
    "@jax.jit\n",
    "def get_n_clusters_insample_thresh(vb_free):\n",
    "    \n",
    "    vb_params_dict = vb_params_paragami.fold(vb_free, free = True)\n",
    "    \n",
    "    return posterior_quantities_lib.get_e_num_clusters(g_obs,\n",
    "                                                            vb_params_dict,\n",
    "                                                            gh_loc, gh_weights,\n",
    "                                                            threshold = threshold1,\n",
    "                                                            n_samples = 1000, \n",
    "                                                            prng_key = prng_key)\n",
    "\n",
    "@jax.jit\n",
    "def get_n_clusters_pred_thresh(vb_free):\n",
    "    \n",
    "    vb_params_dict = vb_params_paragami.fold(vb_free, free = True)\n",
    "    \n",
    "    return posterior_quantities_lib.get_e_num_pred_clusters(vb_params_dict,\n",
    "                                                            gh_loc, \n",
    "                                                            gh_weights, \n",
    "                                                            n_samples = 1000,\n",
    "                                                            threshold = threshold2,\n",
    "                                                            prng_key = prng_key)"
   ]
  },
  {
   "cell_type": "raw",
   "metadata": {},
   "source": [
    "fig, axarr = plt.subplots(1, 2, figsize = (10, 4))\n",
    "\n",
    "# in sample number of clusters\n",
    "result_loading_utils.plot_post_stat_per_epsilon(get_n_clusters_insample_thresh, \n",
    "                                               refit_list,\n",
    "                                               lr_list,\n",
    "                                               alpha_list, \n",
    "                                               axarr[0])\n",
    "# axarr[0].legend()\n",
    "axarr[0].set_title('In-sample; threshold = {}'.format(threshold1))\n",
    "axarr[0].set_ylabel('E[# clusters]')\n",
    "\n",
    "# predictive number of clusters\n",
    "result_loading_utils.plot_post_stat_per_epsilon(get_n_clusters_pred_thresh,\n",
    "                                               refit_list,\n",
    "                                               lr_list,\n",
    "                                               alpha_list, \n",
    "                                               axarr[1])\n",
    "axarr[1].set_title('Predictive; threshold = {}'.format(threshold2))\n",
    "\n",
    "for i in range(2):\n",
    "    axarr[i].axvline(alpha0, \n",
    "                     color = 'red', \n",
    "                     linestyle = '--')\n",
    "    axarr[i].set_xlabel('alpha')\n",
    "\n",
    "fig.tight_layout()"
   ]
  },
  {
   "cell_type": "raw",
   "metadata": {},
   "source": [
    "# Coclustering"
   ]
  },
  {
   "cell_type": "raw",
   "metadata": {},
   "source": [
    "@jax.jit\n",
    "def get_coclustering(vb_params_free): \n",
    "    \n",
    "    vb_params_dict = vb_params_paragami.fold(vb_params_free, \n",
    "                                             free = True)\n",
    "    \n",
    "    e_ind_admix = posterior_quantities_lib.get_vb_expectations(vb_params_dict, gh_loc, gh_weights)[0][perm_obs]\n",
    "    \n",
    "    return np.dot(e_ind_admix, e_ind_admix.transpose())"
   ]
  },
  {
   "cell_type": "raw",
   "metadata": {},
   "source": [
    "def get_coclust_mean_abs_diff(vb_params_free): \n",
    "    init_coclust = get_coclustering(vb_opt)\n",
    "    pert_coclust = get_coclustering(vb_params_free) \n",
    "    \n",
    "    return np.abs(pert_coclust - init_coclust).mean()"
   ]
  },
  {
   "cell_type": "raw",
   "metadata": {},
   "source": [
    "fig, ax = plt.subplots(1, 1, figsize = (5, 4))\n",
    "\n",
    "result_loading_utils.plot_post_stat_per_epsilon(get_coclust_mean_abs_diff, \n",
    "                                               refit_list,\n",
    "                                               lr_list,\n",
    "                                               alpha_list, \n",
    "                                               ax)\n",
    "ax.axvline(alpha0, \n",
    "           color = 'red', \n",
    "           linestyle = '--')\n",
    "\n",
    "ax.legend()"
   ]
  },
  {
   "cell_type": "raw",
   "metadata": {},
   "source": [
    "def plot_coclustering_at_alpha(alpha_pert, fig, axarr): \n",
    "    \n",
    "    alpha_indx = np.argwhere(alpha_list == alpha_pert).squeeze()\n",
    "    \n",
    "    coclust_init = get_coclustering(vb_opt)\n",
    "    coclust_lr = get_coclustering(lr_list[alpha_indx])\n",
    "    coclust_refit = get_coclustering(refit_list[alpha_indx])\n",
    "    \n",
    "    result_loading_utils.plot_colormaps(coclust_refit,\n",
    "                                   coclust_lr,\n",
    "                                   coclust_init,\n",
    "                                   fig,\n",
    "                                   axarr, \n",
    "                                   plot_initial = False)\n",
    "    \n",
    "    return coclust_init, coclust_lr, coclust_refit"
   ]
  },
  {
   "cell_type": "raw",
   "metadata": {},
   "source": [
    "alpha_pert = 1\n",
    "\n",
    "fig, axarr = plt.subplots(2, 2, figsize = (8, 6))\n",
    "\n",
    "###############\n",
    "# Get and plot co-clustering matrices\n",
    "###############\n",
    "coclust_init, coclust_lr, coclust_refit = plot_coclustering_at_alpha(alpha_pert, fig, axarr[1])\n",
    "\n",
    "################\n",
    "# initial co-clustering matrix\n",
    "################\n",
    "im0 = axarr[0, 0].matshow(coclust_init, \n",
    "                 cmap = plt.get_cmap('Blues'))\n",
    "axarr[0, 0].set_title('init')\n",
    "fig.colorbar(im0, ax = axarr[0, 0])\n",
    "\n",
    "################\n",
    "# differences\n",
    "################\n",
    "result_loading_utils.print_diff_plot(coclust_refit.flatten(),\n",
    "                                     coclust_lr.flatten(), \n",
    "                                    coclust_init.flatten(), \n",
    "                                    axarr[0, 1], \n",
    "                                    alpha = 0.01)\n",
    "\n",
    "fig.tight_layout()"
   ]
  },
  {
   "cell_type": "raw",
   "metadata": {},
   "source": []
  },
  {
   "cell_type": "raw",
   "metadata": {},
   "source": []
  },
  {
   "cell_type": "raw",
   "metadata": {},
   "source": [
    "# figures for meeting w tamara"
   ]
  },
  {
   "cell_type": "raw",
   "metadata": {},
   "source": [
    "def plot_e_num_obs_trace2(): \n",
    "    \n",
    "    # get arrays of mixture weights\n",
    "    refit_array = result_loading_utils.get_post_stat_vec(get_cluster_weights, refit_list)\n",
    "    lr_array = result_loading_utils.get_post_stat_vec(get_cluster_weights, lr_list)\n",
    "    \n",
    "        \n",
    "    fig, ax = plt.subplots(1, 4, figsize = (16, 4), sharex = True) \n",
    "    \n",
    "    for k in range(4): \n",
    "        ax[k].plot(alpha_list, \n",
    "                       refit_array[:, k], \n",
    "                       '-o',\n",
    "                       color = result_loading_utils.refit_color, \n",
    "                       label = 'refit')\n",
    "        \n",
    "        ax[k].plot(alpha_list, \n",
    "                       lr_array[:, k], \n",
    "                       '-o',\n",
    "                       color = result_loading_utils.lr_color, \n",
    "                       label = 'lr')\n",
    "        \n",
    "        ax[k].set_title('k = {}'.format(k), fontsize = title_fontsize)\n",
    "        ax[k].axvline(alpha0, \n",
    "                           color = 'red', \n",
    "                           linestyle = '--')\n",
    "        \n",
    "    ax[0].legend()\n",
    "    ax[0].set_ylabel('E(# loci)')\n",
    "    \n",
    "            \n",
    "    for k in range(4): \n",
    "        ax[k].set_xlabel('alpha')\n",
    "        \n",
    "    fig.tight_layout()\n",
    "    \n",
    "    fig.savefig('../../writing/notes_for_tamara/figures/structure_alpha_mixture_weights.png')"
   ]
  },
  {
   "cell_type": "raw",
   "metadata": {},
   "source": [
    "plot_e_num_obs_trace2()"
   ]
  },
  {
   "cell_type": "raw",
   "metadata": {},
   "source": [
    "fig, axarr = plt.subplots(4, 3, figsize = (12 * 1.2, 14 * 1.2)) \n",
    "\n",
    "alpha_pert_vec = [1, 2, 8, 12]\n",
    "\n",
    "for k in range(len(alpha_pert_vec)):\n",
    "    \n",
    "    # plot diff co-clustering matricies\n",
    "    coclust_init, coclust_lr, coclust_refit = \\\n",
    "        plot_coclustering_at_alpha(alpha_pert_vec[k],\n",
    "                                   fig,\n",
    "                                   axarr[k, 1:3]);\n",
    "    \n",
    "    \n",
    "    # print diff plot\n",
    "    result_loading_utils.print_diff_plot(coclust_refit.flatten(),\n",
    "                                     coclust_lr.flatten(), \n",
    "                                    coclust_init.flatten(), \n",
    "                                    axarr[k, 0], \n",
    "                                    alpha = 0.01, \n",
    "                                    plot_contours = True)\n",
    "    \n",
    "axarr[0, 1].set_title('refit - init', fontsize = title_fontsize)\n",
    "axarr[0, 2].set_title('lr - init', fontsize = title_fontsize)\n",
    "    \n",
    "for k in range(4): \n",
    "    \n",
    "    axarr[k, 1].set_title('', fontsize = title_fontsize)\n",
    "    axarr[k, 2].set_title('', fontsize = title_fontsize)\n",
    "    \n",
    "    axarr[k, 1].set_xticks([])\n",
    "    axarr[k, 1].set_yticks([])\n",
    "    \n",
    "    axarr[k, 2].set_xticks([])\n",
    "    axarr[k, 2].set_yticks([])\n",
    "    \n",
    "    axarr[k, 0].set_title('Diff coclust.; alpha = {}'.format(alpha_pert_vec[k]), \n",
    "                          fontsize = title_fontsize)\n",
    "\n",
    "axarr[0, 1].set_title('refit - init', fontsize = title_fontsize)\n",
    "axarr[0, 2].set_title('lr - init', fontsize = title_fontsize)\n",
    "\n",
    "fig.tight_layout();\n",
    "\n",
    "# fig.savefig('../../writing/notes_for_tamara/figures/structure_alpha_coclust.png')"
   ]
  },
  {
   "cell_type": "raw",
   "metadata": {},
   "source": []
  }
 ],
 "metadata": {
  "kernelspec": {
   "display_name": "bnp_sensitivity_jax",
   "language": "python",
   "name": "bnp_sensitivity_jax"
  },
  "language_info": {
   "codemirror_mode": {
    "name": "ipython",
    "version": 3
   },
   "file_extension": ".py",
   "mimetype": "text/x-python",
   "name": "python",
   "nbconvert_exporter": "python",
   "pygments_lexer": "ipython3",
   "version": "3.9.1"
  }
 },
 "nbformat": 4,
 "nbformat_minor": 4
}
