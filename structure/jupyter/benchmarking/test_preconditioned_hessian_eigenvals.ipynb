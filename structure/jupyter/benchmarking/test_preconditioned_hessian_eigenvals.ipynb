{
 "cells": [
  {
   "cell_type": "code",
   "execution_count": 1,
   "metadata": {},
   "outputs": [
    {
     "name": "stderr",
     "output_type": "stream",
     "text": [
      "/accounts/grad/runjing_liu/.conda/envs/bnp_sensitivity_jax/lib/python3.8/site-packages/jax/lib/xla_bridge.py:130: UserWarning: No GPU/TPU found, falling back to CPU.\n",
      "  warnings.warn('No GPU/TPU found, falling back to CPU.')\n"
     ]
    }
   ],
   "source": [
    "import jax\n",
    "\n",
    "import jax.numpy as np\n",
    "import jax.scipy as sp\n",
    "\n",
    "import scipy as osp\n",
    "\n",
    "from vb_lib import structure_model_lib, preconditioner_lib, testutils\n",
    "\n",
    "from bnpmodeling_runjingdev.sensitivity_lib import HyperparameterSensitivityLinearApproximation\n",
    "\n",
    "import unittest \n"
   ]
  },
  {
   "cell_type": "code",
   "execution_count": 2,
   "metadata": {},
   "outputs": [
    {
     "name": "stdout",
     "output_type": "stream",
     "text": [
      "Compiling cavi functions ...\n",
      "CAVI compile time: 3.66sec\n",
      "\n",
      " running CAVI ...\n",
      "iteration [1]; kl:151.878389; elapsed: 0.0235secs\n",
      "iteration [2]; kl:151.276609; elapsed: 0.1796secs\n",
      "iteration [3]; kl:151.07998; elapsed: 0.0303secs\n",
      "iteration [4]; kl:150.965841; elapsed: 0.0054secs\n",
      "iteration [5]; kl:150.884505; elapsed: 0.0057secs\n",
      "iteration [6]; kl:150.82073; elapsed: 0.0057secs\n",
      "iteration [7]; kl:150.767847; elapsed: 0.0056secs\n",
      "iteration [8]; kl:150.722519; elapsed: 0.0054secs\n",
      "iteration [9]; kl:150.683014; elapsed: 0.0054secs\n",
      "iteration [10]; kl:150.648422; elapsed: 0.0054secs\n",
      "iteration [11]; kl:150.618249; elapsed: 0.0053secs\n",
      "iteration [12]; kl:150.592179; elapsed: 0.0053secs\n",
      "iteration [13]; kl:150.569948; elapsed: 0.0052secs\n",
      "iteration [14]; kl:150.551268; elapsed: 0.0053secs\n",
      "iteration [15]; kl:150.535806; elapsed: 0.0052secs\n",
      "iteration [16]; kl:150.523189; elapsed: 0.0053secs\n",
      "iteration [17]; kl:150.51302; elapsed: 0.0053secs\n",
      "iteration [18]; kl:150.504902; elapsed: 0.0053secs\n",
      "iteration [19]; kl:150.498464; elapsed: 0.0054secs\n",
      "iteration [20]; kl:150.49337; elapsed: 0.0053secs\n",
      "iteration [21]; kl:150.489333; elapsed: 0.0053secs\n",
      "iteration [22]; kl:150.486115; elapsed: 0.0054secs\n",
      "iteration [23]; kl:150.483522; elapsed: 0.0052secs\n",
      "iteration [24]; kl:150.481406; elapsed: 0.0052secs\n",
      "iteration [25]; kl:150.479649; elapsed: 0.0053secs\n",
      "iteration [26]; kl:150.478165; elapsed: 0.0053secs\n",
      "iteration [27]; kl:150.476888; elapsed: 0.0055secs\n",
      "iteration [28]; kl:150.47577; elapsed: 0.0054secs\n",
      "iteration [29]; kl:150.474776; elapsed: 0.0055secs\n",
      "iteration [30]; kl:150.47388; elapsed: 0.0054secs\n",
      "iteration [31]; kl:150.473062; elapsed: 0.0052secs\n",
      "iteration [32]; kl:150.472308; elapsed: 0.0054secs\n",
      "iteration [33]; kl:150.471607; elapsed: 0.0053secs\n",
      "iteration [34]; kl:150.470952; elapsed: 0.0053secs\n",
      "iteration [35]; kl:150.470336; elapsed: 0.0052secs\n",
      "iteration [36]; kl:150.469755; elapsed: 0.0065secs\n",
      "iteration [37]; kl:150.469203; elapsed: 0.0058secs\n",
      "iteration [38]; kl:150.46868; elapsed: 0.0055secs\n",
      "iteration [39]; kl:150.468181; elapsed: 0.0054secs\n",
      "iteration [40]; kl:150.467704; elapsed: 0.0052secs\n",
      "iteration [41]; kl:150.467248; elapsed: 0.0052secs\n",
      "iteration [42]; kl:150.466812; elapsed: 0.0052secs\n",
      "iteration [43]; kl:150.466393; elapsed: 0.0051secs\n",
      "iteration [44]; kl:150.46599; elapsed: 0.0054secs\n",
      "iteration [45]; kl:150.465602; elapsed: 0.0054secs\n",
      "iteration [46]; kl:150.465228; elapsed: 0.0052secs\n",
      "iteration [47]; kl:150.464868; elapsed: 0.0052secs\n",
      "iteration [48]; kl:150.46452; elapsed: 0.0053secs\n",
      "iteration [49]; kl:150.464183; elapsed: 0.0052secs\n",
      "iteration [50]; kl:150.463857; elapsed: 0.0051secs\n",
      "iteration [51]; kl:150.463542; elapsed: 0.0052secs\n",
      "iteration [52]; kl:150.463235; elapsed: 0.0052secs\n",
      "iteration [53]; kl:150.462938; elapsed: 0.0052secs\n",
      "iteration [54]; kl:150.462649; elapsed: 0.0052secs\n",
      "iteration [55]; kl:150.462368; elapsed: 0.0053secs\n",
      "iteration [56]; kl:150.462095; elapsed: 0.0052secs\n",
      "iteration [57]; kl:150.461828; elapsed: 0.0051secs\n",
      "iteration [58]; kl:150.461568; elapsed: 0.0052secs\n",
      "iteration [59]; kl:150.461314; elapsed: 0.0053secs\n",
      "iteration [60]; kl:150.461066; elapsed: 0.0053secs\n",
      "iteration [61]; kl:150.460824; elapsed: 0.0053secs\n",
      "iteration [62]; kl:150.460586; elapsed: 0.0052secs\n",
      "iteration [63]; kl:150.460354; elapsed: 0.0052secs\n",
      "iteration [64]; kl:150.460126; elapsed: 0.0053secs\n",
      "iteration [65]; kl:150.459903; elapsed: 0.0052secs\n",
      "iteration [66]; kl:150.459684; elapsed: 0.0053secs\n",
      "iteration [67]; kl:150.459469; elapsed: 0.0053secs\n",
      "iteration [68]; kl:150.459257; elapsed: 0.0082secs\n",
      "iteration [69]; kl:150.459049; elapsed: 0.0053secs\n",
      "iteration [70]; kl:150.458845; elapsed: 0.0052secs\n",
      "iteration [71]; kl:150.458643; elapsed: 0.0051secs\n",
      "iteration [72]; kl:150.458445; elapsed: 0.0054secs\n",
      "iteration [73]; kl:150.458249; elapsed: 0.0053secs\n",
      "iteration [74]; kl:150.458055; elapsed: 0.0064secs\n",
      "iteration [75]; kl:150.457864; elapsed: 0.0053secs\n",
      "iteration [76]; kl:150.457676; elapsed: 0.0052secs\n",
      "iteration [77]; kl:150.45749; elapsed: 0.0052secs\n",
      "iteration [78]; kl:150.457305; elapsed: 0.0053secs\n",
      "iteration [79]; kl:150.457123; elapsed: 0.0053secs\n",
      "iteration [80]; kl:150.456942; elapsed: 0.0052secs\n",
      "iteration [81]; kl:150.456763; elapsed: 0.0052secs\n",
      "iteration [82]; kl:150.456585; elapsed: 0.0053secs\n",
      "iteration [83]; kl:150.456409; elapsed: 0.0053secs\n",
      "iteration [84]; kl:150.456234; elapsed: 0.0052secs\n",
      "iteration [85]; kl:150.456061; elapsed: 0.0052secs\n",
      "iteration [86]; kl:150.455888; elapsed: 0.0054secs\n",
      "iteration [87]; kl:150.455716; elapsed: 0.0052secs\n",
      "iteration [88]; kl:150.455546; elapsed: 0.0052secs\n",
      "iteration [89]; kl:150.455376; elapsed: 0.0053secs\n",
      "iteration [90]; kl:150.455207; elapsed: 0.0052secs\n",
      "iteration [91]; kl:150.455038; elapsed: 0.0051secs\n",
      "iteration [92]; kl:150.45487; elapsed: 0.0053secs\n",
      "iteration [93]; kl:150.454703; elapsed: 0.0052secs\n",
      "iteration [94]; kl:150.454536; elapsed: 0.0053secs\n",
      "iteration [95]; kl:150.454369; elapsed: 0.0052secs\n",
      "iteration [96]; kl:150.454202; elapsed: 0.0052secs\n",
      "iteration [97]; kl:150.454036; elapsed: 0.005secs\n",
      "iteration [98]; kl:150.45387; elapsed: 0.0051secs\n",
      "iteration [99]; kl:150.453703; elapsed: 0.0051secs\n",
      "Done. Warning, max iterations reached. \n",
      "final KL: 150.453703\n",
      "Elapsed: 99 steps in 0.75 seconds\n",
      "Stick conversion time: 1.654secs\n",
      "compiling preconditioned objective ... \n",
      "done. Elasped: 54.8972\n",
      "init kl: 150.553145\n",
      "iteration [20]; kl:150.436950; elapsed: 0.075secs\n",
      "iteration [35]; kl:150.431925; elapsed: 0.048secs\n",
      "lbfgs converged successfully\n",
      "done. Elapsed 1.86\n"
     ]
    }
   ],
   "source": [
    "# get model at optimum\n",
    "vb_opt, vb_params_paragami, precond_objective = \\\n",
    "    testutils.construct_model_and_optimize()"
   ]
  },
  {
   "cell_type": "code",
   "execution_count": 19,
   "metadata": {},
   "outputs": [],
   "source": [
    "# the hessian without preconditioning\n",
    "kl_hess = jax.lax.map(lambda v : precond_objective.hvp(vb_opt, v), \n",
    "                      np.eye(len(vb_opt)))\n",
    "\n",
    "# the preconditioned hessian \n",
    "x_c = precond_objective.precondition(vb_opt, vb_opt)\n",
    "kl_hess_precond = jax.lax.map(lambda v : \\\n",
    "                              precond_objective.hvp_precond(x_c, vb_opt, v), \n",
    "                              np.eye(len(vb_opt)))"
   ]
  },
  {
   "cell_type": "code",
   "execution_count": 20,
   "metadata": {},
   "outputs": [],
   "source": [
    "def evaluate_condition_number(kl_hess): \n",
    "    # get eigenvalues\n",
    "    kl_hess_evals = np.linalg.eigvals(kl_hess)\n",
    "\n",
    "    # all real\n",
    "    assert np.all(np.imag(kl_hess_evals) == 0.)\n",
    "    kl_hess_evals = np.real(kl_hess_evals)\n",
    "\n",
    "    # all positive \n",
    "    assert np.all(kl_hess_evals) > 0\n",
    "\n",
    "    print('Hessian eigenvalues: ')\n",
    "    print((kl_hess_evals.max(), \n",
    "           kl_hess_evals.min()))\n",
    "\n",
    "    cn_hess = kl_hess_evals.max() / \\\n",
    "                kl_hess_evals.min()\n",
    "\n",
    "    return cn_hess"
   ]
  },
  {
   "cell_type": "code",
   "execution_count": 21,
   "metadata": {},
   "outputs": [
    {
     "name": "stdout",
     "output_type": "stream",
     "text": [
      "Hessian eigenvalues: \n",
      "Hessian eigenvalues: \n",
      "(DeviceArray(5.18349375, dtype=float64), DeviceArray(0.06618864, dtype=float64))\n",
      "Precond Hessian eigenvalues: \n",
      "Hessian eigenvalues: \n",
      "(DeviceArray(1.16835871, dtype=float64), DeviceArray(0.02412579, dtype=float64))\n"
     ]
    }
   ],
   "source": [
    "print('Hessian eigenvalues: ')\n",
    "cn_hess = evaluate_condition_number(kl_hess)\n",
    "print('Precond Hessian eigenvalues: ')\n",
    "cn_hess_precond = evaluate_condition_number(kl_hess_precond)\n",
    "assert cn_hess_precond < cn_hess"
   ]
  },
  {
   "cell_type": "code",
   "execution_count": 39,
   "metadata": {},
   "outputs": [],
   "source": [
    "# now check solver\n",
    "# the preconditoined function\n",
    "vb_opt_dict = vb_params_paragami.fold(vb_opt, free = True)\n",
    "\n",
    "cg_precond = lambda v : preconditioner_lib.get_mfvb_cov_matmul(v, vb_opt_dict,\n",
    "                                    vb_params_paragami,\n",
    "                                    return_sqrt = False, \n",
    "                                    return_info = True)\n",
    "\n",
    "# define sensitivity class \n",
    "kwargs = dict(objective_fun = lambda x, y : 0., \n",
    "              opt_par_value = vb_opt, \n",
    "              hyper_par_value0 = np.array([0.]), \n",
    "              obj_fun_hvp = precond_objective.hvp, \n",
    "              # a null perturbation ... will set later\n",
    "              hyper_par_objective_fun = lambda x, y : 0.,\n",
    "              # this lets ust track the progress of the solver\n",
    "              use_scipy_cgsolve = True, \n",
    "              cg_precond = None)\n"
   ]
  },
  {
   "cell_type": "code",
   "execution_count": 40,
   "metadata": {},
   "outputs": [
    {
     "name": "stdout",
     "output_type": "stream",
     "text": [
      "NOTE: using custom hvp\n",
      "Compiling hvp ...\n",
      "hvp compile time: 5.43286sec\n",
      "\n",
      "Compiling cross hessian...\n",
      "Cross-hessian compile time: 0.00439644sec\n",
      "\n",
      "LR sensitivity time: 0.00159764sec\n",
      "\n"
     ]
    }
   ],
   "source": [
    "vb_sens = HyperparameterSensitivityLinearApproximation(**kwargs)"
   ]
  },
  {
   "cell_type": "code",
   "execution_count": 41,
   "metadata": {},
   "outputs": [
    {
     "name": "stdout",
     "output_type": "stream",
     "text": [
      "NOTE: using custom hvp\n",
      "Compiling hvp ...\n",
      "hvp compile time: 5.38759sec\n",
      "\n",
      "Compiling preconditioner ...\n",
      "preconditioner compile time: 1.29937sec\n",
      "\n",
      "Compiling cross hessian...\n",
      "Cross-hessian compile time: 0.0043776sec\n",
      "\n",
      "LR sensitivity time: 0.00134945sec\n",
      "\n"
     ]
    }
   ],
   "source": [
    "kwargs.update({'cg_precond': cg_precond})\n",
    "vb_sens_precond = HyperparameterSensitivityLinearApproximation(**kwargs)"
   ]
  },
  {
   "cell_type": "code",
   "execution_count": 42,
   "metadata": {},
   "outputs": [],
   "source": [
    "b = jax.random.normal(key = jax.random.PRNGKey(443), shape = (len(vb_opt), ))"
   ]
  },
  {
   "cell_type": "code",
   "execution_count": 43,
   "metadata": {},
   "outputs": [
    {
     "name": "stdout",
     "output_type": "stream",
     "text": [
      "Iter [1]; elapsed 0.001sec; diff: 9.618408597646873\n",
      "Iter [2]; elapsed 0.001sec; diff: 4.4078535876488525\n",
      "Iter [3]; elapsed 0.001sec; diff: 2.771605525355097\n",
      "Iter [4]; elapsed 0.001sec; diff: 1.9565825818799134\n",
      "Iter [5]; elapsed 0.001sec; diff: 1.2979479019174516\n",
      "Iter [6]; elapsed 0.0sec; diff: 1.3516364601385733\n",
      "Iter [7]; elapsed 0.001sec; diff: 1.0287958713081684\n",
      "Iter [8]; elapsed 0.001sec; diff: 0.8546277342587844\n",
      "Iter [9]; elapsed 0.001sec; diff: 0.8049913666440518\n",
      "Iter [10]; elapsed 0.001sec; diff: 0.49648247938920964\n",
      "Iter [11]; elapsed 0.001sec; diff: 0.3521193870599186\n",
      "Iter [12]; elapsed 0.001sec; diff: 0.2284653207940656\n",
      "Iter [13]; elapsed 0.001sec; diff: 0.149397026952766\n",
      "Iter [14]; elapsed 0.001sec; diff: 0.15323158864962438\n",
      "Iter [15]; elapsed 0.001sec; diff: 0.08236512278335736\n",
      "Iter [16]; elapsed 0.001sec; diff: 0.06547674414610535\n",
      "Iter [17]; elapsed 0.001sec; diff: 0.06377983164335647\n",
      "Iter [18]; elapsed 0.001sec; diff: 0.04085591060768166\n",
      "Iter [19]; elapsed 0.001sec; diff: 0.05686565115746011\n",
      "Iter [20]; elapsed 0.001sec; diff: 0.030501884586663496\n",
      "Iter [21]; elapsed 0.001sec; diff: 0.030751283514478957\n",
      "Iter [22]; elapsed 0.001sec; diff: 0.022401702514074914\n",
      "Iter [23]; elapsed 0.001sec; diff: 0.02030474292198435\n",
      "Iter [24]; elapsed 0.001sec; diff: 0.00935829625181086\n",
      "Iter [25]; elapsed 0.001sec; diff: 0.009452944457452019\n",
      "Iter [26]; elapsed 0.001sec; diff: 0.0022713050501035064\n",
      "Iter [27]; elapsed 0.001sec; diff: 0.0022442745115932054\n",
      "Iter [28]; elapsed 0.001sec; diff: 0.0007664187428137654\n",
      "Iter [29]; elapsed 0.001sec; diff: 0.0006156167792973446\n",
      "Iter [30]; elapsed 0.001sec; diff: 0.00027649784399279206\n",
      "Iter [31]; elapsed 0.001sec; diff: 0.0001996423634062096\n",
      "Iter [32]; elapsed 0.001sec; diff: 0.00012159482869899708\n",
      "Iter [33]; elapsed 0.001sec; diff: 4.0310735529484994e-05\n"
     ]
    }
   ],
   "source": [
    "out1 = vb_sens.hessian_solver(b)"
   ]
  },
  {
   "cell_type": "code",
   "execution_count": 44,
   "metadata": {},
   "outputs": [
    {
     "name": "stdout",
     "output_type": "stream",
     "text": [
      "Iter [1]; elapsed 0.002sec; diff: 2.332343027521112\n",
      "Iter [2]; elapsed 0.001sec; diff: 1.5666595443002211\n",
      "Iter [3]; elapsed 0.001sec; diff: 1.3444100080155763\n",
      "Iter [4]; elapsed 0.001sec; diff: 1.130718475172583\n",
      "Iter [5]; elapsed 0.001sec; diff: 0.7869283138418265\n",
      "Iter [6]; elapsed 0.001sec; diff: 0.6711221969261818\n",
      "Iter [7]; elapsed 0.001sec; diff: 0.36922920675220683\n",
      "Iter [8]; elapsed 0.001sec; diff: 0.20947676025084536\n",
      "Iter [9]; elapsed 0.001sec; diff: 0.15179745241993142\n",
      "Iter [10]; elapsed 0.001sec; diff: 0.12207459936224838\n",
      "Iter [11]; elapsed 0.001sec; diff: 0.13862285141683076\n",
      "Iter [12]; elapsed 0.001sec; diff: 0.10790235871605819\n",
      "Iter [13]; elapsed 0.001sec; diff: 0.0576105423722407\n",
      "Iter [14]; elapsed 0.001sec; diff: 0.035972536780313924\n",
      "Iter [15]; elapsed 0.001sec; diff: 0.021525549533695957\n",
      "Iter [16]; elapsed 0.001sec; diff: 0.0159552181215984\n",
      "Iter [17]; elapsed 0.001sec; diff: 0.004853000009076802\n",
      "Iter [18]; elapsed 0.001sec; diff: 0.002108486011389165\n",
      "Iter [19]; elapsed 0.001sec; diff: 0.001335899722437741\n",
      "Iter [20]; elapsed 0.001sec; diff: 0.0007887684627116965\n",
      "Iter [21]; elapsed 0.001sec; diff: 0.00024152850814071833\n",
      "Iter [22]; elapsed 0.002sec; diff: 9.910553009785592e-05\n"
     ]
    }
   ],
   "source": [
    "out2 = vb_sens_precond.hessian_solver(b)"
   ]
  },
  {
   "cell_type": "code",
   "execution_count": 47,
   "metadata": {},
   "outputs": [
    {
     "data": {
      "text/plain": [
       "DeviceArray(True, dtype=bool)"
      ]
     },
     "execution_count": 47,
     "metadata": {},
     "output_type": "execute_result"
    }
   ],
   "source": [
    "np.abs(out1 - out2).max() < 1e-3"
   ]
  },
  {
   "cell_type": "code",
   "execution_count": 51,
   "metadata": {},
   "outputs": [],
   "source": [
    "assert vb_sens.cg_solver.iter > vb_sens_precond.cg_solver.iter"
   ]
  }
 ],
 "metadata": {
  "kernelspec": {
   "display_name": "bnp_sensitivity_jax",
   "language": "python",
   "name": "bnp_sensitivity_jax"
  },
  "language_info": {
   "codemirror_mode": {
    "name": "ipython",
    "version": 3
   },
   "file_extension": ".py",
   "mimetype": "text/x-python",
   "name": "python",
   "nbconvert_exporter": "python",
   "pygments_lexer": "ipython3",
   "version": "3.9.1"
  }
 },
 "nbformat": 4,
 "nbformat_minor": 4
}
