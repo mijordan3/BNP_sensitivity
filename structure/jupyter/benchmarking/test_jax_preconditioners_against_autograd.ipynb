{
 "cells": [
  {
   "cell_type": "code",
   "execution_count": 1,
   "metadata": {
    "scrolled": true
   },
   "outputs": [
    {
     "name": "stderr",
     "output_type": "stream",
     "text": [
      "/accounts/grad/runjing_liu/.conda/envs/bnp_sensitivity_jax/lib/python3.8/site-packages/jax/lib/xla_bridge.py:130: UserWarning: No GPU/TPU found, falling back to CPU.\n",
      "  warnings.warn('No GPU/TPU found, falling back to CPU.')\n"
     ]
    }
   ],
   "source": [
    "import jax\n",
    "\n",
    "import jax.numpy as np\n",
    "import jax.scipy as sp\n",
    "from numpy.polynomial.hermite import hermgauss\n",
    "\n",
    "from vb_lib import structure_model_lib, data_utils, cavi_lib\n",
    "\n",
    "import paragami\n",
    "\n",
    "from copy import deepcopy\n",
    "\n",
    "import time\n",
    "\n",
    "import matplotlib.pyplot as plt\n",
    "%matplotlib inline  \n"
   ]
  },
  {
   "cell_type": "code",
   "execution_count": 2,
   "metadata": {},
   "outputs": [],
   "source": [
    "import numpy as onp\n",
    "onp.random.seed(53453)"
   ]
  },
  {
   "cell_type": "markdown",
   "metadata": {},
   "source": [
    "# Draw data"
   ]
  },
  {
   "cell_type": "code",
   "execution_count": 3,
   "metadata": {},
   "outputs": [],
   "source": [
    "n_obs = 40\n",
    "n_loci = 50\n",
    "n_pop = 4"
   ]
  },
  {
   "cell_type": "code",
   "execution_count": 4,
   "metadata": {},
   "outputs": [
    {
     "name": "stdout",
     "output_type": "stream",
     "text": [
      "Generating datapoints  0  to  40\n"
     ]
    }
   ],
   "source": [
    "g_obs, true_pop_allele_freq, true_ind_admix_propn = \\\n",
    "    data_utils.draw_data(n_obs, n_loci, n_pop)"
   ]
  },
  {
   "cell_type": "code",
   "execution_count": null,
   "metadata": {},
   "outputs": [],
   "source": []
  },
  {
   "cell_type": "code",
   "execution_count": 5,
   "metadata": {
    "scrolled": true
   },
   "outputs": [
    {
     "data": {
      "text/plain": [
       "(40, 50, 3)"
      ]
     },
     "execution_count": 5,
     "metadata": {},
     "output_type": "execute_result"
    }
   ],
   "source": [
    "g_obs.shape"
   ]
  },
  {
   "cell_type": "markdown",
   "metadata": {},
   "source": [
    "# Get prior"
   ]
  },
  {
   "cell_type": "code",
   "execution_count": 6,
   "metadata": {},
   "outputs": [
    {
     "name": "stdout",
     "output_type": "stream",
     "text": [
      "{'dp_prior_alpha': DeviceArray([3.], dtype=float64), 'allele_prior_alpha': DeviceArray([1.], dtype=float64), 'allele_prior_beta': DeviceArray([1.], dtype=float64)}\n"
     ]
    }
   ],
   "source": [
    "prior_params_dict, prior_params_paragami = \\\n",
    "    structure_model_lib.get_default_prior_params()\n",
    "\n",
    "print(prior_params_dict)\n",
    "\n",
    "prior_params_free = prior_params_paragami.flatten(prior_params_dict, free = True)"
   ]
  },
  {
   "cell_type": "code",
   "execution_count": null,
   "metadata": {},
   "outputs": [],
   "source": []
  },
  {
   "cell_type": "markdown",
   "metadata": {},
   "source": [
    "# Get VB params "
   ]
  },
  {
   "cell_type": "code",
   "execution_count": 7,
   "metadata": {},
   "outputs": [],
   "source": [
    "k_approx = 8"
   ]
  },
  {
   "cell_type": "code",
   "execution_count": 8,
   "metadata": {},
   "outputs": [],
   "source": [
    "gh_deg = 8\n",
    "gh_loc, gh_weights = hermgauss(8)"
   ]
  },
  {
   "cell_type": "code",
   "execution_count": 9,
   "metadata": {
    "scrolled": true
   },
   "outputs": [],
   "source": [
    "use_logitnormal_sticks = False\n",
    "\n",
    "_, vb_params_paragami = \\\n",
    "    structure_model_lib.get_vb_params_paragami_object(n_obs, n_loci, k_approx,\n",
    "                                    use_logitnormal_sticks = use_logitnormal_sticks)\n",
    "\n",
    "vb_params_dict = vb_params_paragami.random()"
   ]
  },
  {
   "cell_type": "code",
   "execution_count": 10,
   "metadata": {},
   "outputs": [],
   "source": [
    "vb_params_free = vb_params_paragami.flatten(vb_params_dict, free = True)"
   ]
  },
  {
   "cell_type": "code",
   "execution_count": null,
   "metadata": {},
   "outputs": [],
   "source": []
  },
  {
   "cell_type": "markdown",
   "metadata": {},
   "source": [
    "# Check preconditioners"
   ]
  },
  {
   "cell_type": "code",
   "execution_count": 11,
   "metadata": {},
   "outputs": [],
   "source": [
    "import numpy as onp\n",
    "import vb_lib.preconditioner_lib as preconditioner_lib\n",
    "import vb_lib.preconditioner_lib_autograd as preconditioner_lib_autograd"
   ]
  },
  {
   "cell_type": "code",
   "execution_count": 12,
   "metadata": {},
   "outputs": [],
   "source": [
    "# autograd results\n",
    "cov_ag = preconditioner_lib_autograd.get_mfvb_cov(vb_params_dict, vb_params_paragami,\n",
    "                    use_logitnormal_sticks,\n",
    "                    return_info = False)\n",
    "\n",
    "info_ag = preconditioner_lib_autograd.get_mfvb_cov(vb_params_dict, vb_params_paragami,\n",
    "                    use_logitnormal_sticks,\n",
    "                    return_info = True)"
   ]
  },
  {
   "cell_type": "code",
   "execution_count": 13,
   "metadata": {},
   "outputs": [],
   "source": [
    "# jax results\n",
    "cov_jax = jax.jit(lambda v : preconditioner_lib.get_mfvb_cov_matmul(v, \n",
    "                                    vb_params_dict,\n",
    "                                    vb_params_paragami,\n",
    "                                    return_info = False))\n",
    "\n",
    "info_jax = jax.jit(lambda v : preconditioner_lib.get_mfvb_cov_matmul(v, \n",
    "                                    vb_params_dict,\n",
    "                                    vb_params_paragami,\n",
    "                                    return_info = True))"
   ]
  },
  {
   "cell_type": "markdown",
   "metadata": {},
   "source": [
    "# Check covariances / Infos"
   ]
  },
  {
   "cell_type": "code",
   "execution_count": 15,
   "metadata": {},
   "outputs": [],
   "source": [
    "# check covariances\n",
    "\n",
    "for i in range(len(vb_params_free)): \n",
    "    \n",
    "    e_i = onp.zeros(len(vb_params_free))\n",
    "    e_i[i] = 1.\n",
    "    \n",
    "    out1 = cov_jax(e_i)\n",
    "    out2 = cov_ag.dot(e_i)\n",
    "\n",
    "    assert np.abs(out2 - out1).max() < 1e-8"
   ]
  },
  {
   "cell_type": "code",
   "execution_count": 16,
   "metadata": {},
   "outputs": [],
   "source": [
    "# check infos\n",
    "\n",
    "for i in range(len(vb_params_free)): \n",
    "    \n",
    "    e_i = onp.zeros(len(vb_params_free))\n",
    "    e_i[i] = 1.\n",
    "    \n",
    "    out1 = info_jax(e_i)\n",
    "    out2 = info_ag.dot(e_i)\n",
    "\n",
    "    assert np.abs(out2 - out1).max() < 1e-8"
   ]
  },
  {
   "cell_type": "code",
   "execution_count": null,
   "metadata": {},
   "outputs": [],
   "source": []
  },
  {
   "cell_type": "markdown",
   "metadata": {},
   "source": [
    "# Check square roots"
   ]
  },
  {
   "cell_type": "code",
   "execution_count": 17,
   "metadata": {},
   "outputs": [],
   "source": [
    "from paragami.optimization_lib import _get_sym_matrix_inv_sqrt_funcs"
   ]
  },
  {
   "cell_type": "code",
   "execution_count": 18,
   "metadata": {},
   "outputs": [],
   "source": [
    "cov_sqrt_ag = _get_sym_matrix_inv_sqrt_funcs(np.array(cov_ag.todense()))[0]\n",
    "info_sqrt_ag = _get_sym_matrix_inv_sqrt_funcs(np.array(info_ag.todense()))[0]"
   ]
  },
  {
   "cell_type": "code",
   "execution_count": 19,
   "metadata": {},
   "outputs": [],
   "source": [
    "# jax results\n",
    "cov_sqrt_jax = jax.jit(lambda v : preconditioner_lib.get_mfvb_cov_matmul(v, \n",
    "                                    vb_params_dict,\n",
    "                                    vb_params_paragami,\n",
    "                                    return_info = False, \n",
    "                                    return_sqrt = True))\n",
    "\n",
    "info_sqrt_jax = jax.jit(lambda v : preconditioner_lib.get_mfvb_cov_matmul(v, \n",
    "                                    vb_params_dict,\n",
    "                                    vb_params_paragami,\n",
    "                                    return_info = True, \n",
    "                                    return_sqrt = True))"
   ]
  },
  {
   "cell_type": "code",
   "execution_count": null,
   "metadata": {},
   "outputs": [],
   "source": []
  },
  {
   "cell_type": "code",
   "execution_count": 20,
   "metadata": {},
   "outputs": [],
   "source": [
    "# check covariances\n",
    "\n",
    "for i in range(len(vb_params_free)): \n",
    "    \n",
    "    e_i = onp.zeros(len(vb_params_free))\n",
    "    e_i[i] = 1.\n",
    "    \n",
    "    out1 = cov_sqrt_ag(e_i)\n",
    "    out2 = cov_sqrt_jax(e_i)\n",
    "\n",
    "    assert np.abs(out2 - out1).max() < 1e-8\n"
   ]
  },
  {
   "cell_type": "code",
   "execution_count": 21,
   "metadata": {},
   "outputs": [],
   "source": [
    "# check infos\n",
    "\n",
    "for i in range(len(vb_params_free)): \n",
    "    \n",
    "    e_i = onp.zeros(len(vb_params_free))\n",
    "    e_i[i] = 1.\n",
    "    \n",
    "    out1 = info_sqrt_ag(e_i)\n",
    "    out2 = info_sqrt_jax(e_i)\n",
    "\n",
    "    assert np.abs(out2 - out1).max() < 1e-8"
   ]
  },
  {
   "cell_type": "code",
   "execution_count": null,
   "metadata": {},
   "outputs": [],
   "source": []
  },
  {
   "cell_type": "code",
   "execution_count": null,
   "metadata": {},
   "outputs": [],
   "source": []
  },
  {
   "cell_type": "code",
   "execution_count": null,
   "metadata": {},
   "outputs": [],
   "source": []
  }
 ],
 "metadata": {
  "kernelspec": {
   "display_name": "bnp_sensitivity_jax",
   "language": "python",
   "name": "bnp_sensitivity_jax"
  },
  "language_info": {
   "codemirror_mode": {
    "name": "ipython",
    "version": 3
   },
   "file_extension": ".py",
   "mimetype": "text/x-python",
   "name": "python",
   "nbconvert_exporter": "python",
   "pygments_lexer": "ipython3",
   "version": "3.9.1"
  }
 },
 "nbformat": 4,
 "nbformat_minor": 4
}
