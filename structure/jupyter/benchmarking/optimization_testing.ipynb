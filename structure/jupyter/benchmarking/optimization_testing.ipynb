{
 "cells": [
  {
   "cell_type": "code",
   "execution_count": 1,
   "metadata": {},
   "outputs": [
    {
     "name": "stderr",
     "output_type": "stream",
     "text": [
      "/accounts/grad/runjing_liu/.conda/envs/bnp_sensitivity_testing/lib/python3.9/site-packages/jax/lib/xla_bridge.py:130: UserWarning: No GPU/TPU found, falling back to CPU.\n",
      "  warnings.warn('No GPU/TPU found, falling back to CPU.')\n"
     ]
    }
   ],
   "source": [
    "import jax\n",
    "\n",
    "import jax.numpy as np\n",
    "import jax.scipy as sp\n",
    "\n",
    "import numpy as onp\n",
    "from numpy.polynomial.hermite import hermgauss\n",
    "\n",
    "import structure_vb_lib.structure_model_lib as structure_model_lib\n",
    "import structure_vb_lib.cavi_lib as cavi_lib\n",
    "import structure_vb_lib.structure_optimization_lib as s_optim_lib\n",
    "\n",
    "import paragami\n",
    "\n",
    "import argparse\n",
    "import distutils.util\n",
    "\n",
    "import os\n",
    "\n",
    "import time\n"
   ]
  },
  {
   "cell_type": "code",
   "execution_count": 2,
   "metadata": {},
   "outputs": [
    {
     "name": "stdout",
     "output_type": "stream",
     "text": [
      "g_obs.shape (25, 75, 3)\n"
     ]
    }
   ],
   "source": [
    "######################\n",
    "# Load Data\n",
    "######################\n",
    "data = np.load('../../data/huang2011_sub_nobs25_nloci75.npz')\n",
    "g_obs = np.array(data['g_obs'], dtype = int)\n",
    "\n",
    "n_obs = g_obs.shape[0]\n",
    "n_loci = g_obs.shape[1]\n",
    "\n",
    "print('g_obs.shape', g_obs.shape)\n"
   ]
  },
  {
   "cell_type": "code",
   "execution_count": 3,
   "metadata": {},
   "outputs": [
    {
     "name": "stdout",
     "output_type": "stream",
     "text": [
      "prior params: \n",
      "{'dp_prior_alpha': DeviceArray([3.], dtype=float64), 'allele_prior_alpha': DeviceArray([1.], dtype=float64), 'allele_prior_beta': DeviceArray([1.], dtype=float64)}\n"
     ]
    }
   ],
   "source": [
    "######################\n",
    "# GET PRIOR\n",
    "######################\n",
    "prior_params_dict, prior_params_paragami = \\\n",
    "    structure_model_lib.get_default_prior_params()\n",
    "\n",
    "print('prior params: ')\n",
    "print(prior_params_dict)\n"
   ]
  },
  {
   "cell_type": "code",
   "execution_count": 4,
   "metadata": {},
   "outputs": [
    {
     "name": "stdout",
     "output_type": "stream",
     "text": [
      "Compiling cavi functions ...\n",
      "CAVI compile time: 5.32sec\n",
      "\n",
      " running CAVI ...\n",
      "iteration [20]; kl:2819.874336; elapsed: 0.2569secs\n",
      "iteration [40]; kl:2802.364975; elapsed: 0.2358secs\n",
      "iteration [60]; kl:2797.128753; elapsed: 0.1448secs\n",
      "iteration [80]; kl:2794.480526; elapsed: 0.1442secs\n",
      "iteration [100]; kl:2792.529562; elapsed: 0.1442secs\n",
      "iteration [120]; kl:2790.915119; elapsed: 0.1457secs\n",
      "iteration [140]; kl:2790.511899; elapsed: 0.1448secs\n",
      "iteration [160]; kl:2790.431946; elapsed: 0.1446secs\n",
      "iteration [180]; kl:2790.392637; elapsed: 0.1476secs\n",
      "Done. Warning, max iterations reached. \n",
      "final KL: 2790.366780\n",
      "Elapsed: 199 steps in 1.64 seconds\n",
      "Stick conversion time: 1.913secs\n"
     ]
    }
   ],
   "source": [
    "######################\n",
    "# GET VB PARAMS AND INITIALIZE\n",
    "######################\n",
    "k_approx = 20\n",
    "gh_deg = 8\n",
    "gh_loc, gh_weights = hermgauss(gh_deg)\n",
    "\n",
    "init_optim_time = time.time() \n",
    "\n",
    "cavi_init_time = 0.\n",
    "\n",
    "_, vb_params_paragami = \\\n",
    "    structure_model_lib.\\\n",
    "        get_vb_params_paragami_object(n_obs, \n",
    "                                      n_loci,\n",
    "                                      k_approx,\n",
    "                                      use_logitnormal_sticks = True, \n",
    "                                      seed = 3453)\n",
    "vb_params_dict, cavi_init_time = \\\n",
    "    s_optim_lib.initialize_with_cavi(g_obs, \n",
    "                         vb_params_paragami, \n",
    "                         prior_params_dict, \n",
    "                         gh_loc, gh_weights, \n",
    "                         print_every = 20, \n",
    "                         max_iter = 200, \n",
    "                         seed = 1232)\n"
   ]
  },
  {
   "cell_type": "code",
   "execution_count": 5,
   "metadata": {},
   "outputs": [],
   "source": [
    "vb_cavi_free = vb_params_paragami.flatten(vb_params_dict, free = True)"
   ]
  },
  {
   "cell_type": "code",
   "execution_count": 6,
   "metadata": {},
   "outputs": [
    {
     "data": {
      "text/plain": [
       "DeviceArray([0., 0., 0., ..., 0., 0., 0.], dtype=float64)"
      ]
     },
     "execution_count": 6,
     "metadata": {},
     "output_type": "execute_result"
    }
   ],
   "source": [
    "vb_cavi_free - np.load('./testing.npz')['vb_cavi_free']"
   ]
  },
  {
   "cell_type": "code",
   "execution_count": 7,
   "metadata": {},
   "outputs": [
    {
     "name": "stdout",
     "output_type": "stream",
     "text": [
      "def get_e_loglik_gene_nk(g_obs_l, e_log_pop_freq_l, e_log_1m_pop_freq_l):\n",
      "\n",
      "    g_obs_l0 = g_obs_l[:, 0]\n",
      "    g_obs_l1 = g_obs_l[:, 1]\n",
      "    g_obs_l2 = g_obs_l[:, 2]\n",
      "\n",
      "    loglik_a = \\\n",
      "        np.outer(g_obs_l0, e_log_1m_pop_freq_l) + \\\n",
      "            np.outer(g_obs_l1 + g_obs_l2, e_log_pop_freq_l)\n",
      "\n",
      "    loglik_b = \\\n",
      "        np.outer(g_obs_l0 + g_obs_l1, e_log_1m_pop_freq_l) + \\\n",
      "            np.outer(g_obs_l2, e_log_pop_freq_l)\n",
      "\n",
      "\n",
      "    return np.stack((loglik_a, loglik_b), axis = -1)\n",
      "\n"
     ]
    }
   ],
   "source": [
    "import inspect\n",
    "lines = inspect.getsource(structure_model_lib.get_e_loglik_gene_nk)\n",
    "print(lines)"
   ]
  },
  {
   "cell_type": "code",
   "execution_count": null,
   "metadata": {},
   "outputs": [],
   "source": []
  },
  {
   "cell_type": "code",
   "execution_count": null,
   "metadata": {},
   "outputs": [],
   "source": []
  },
  {
   "cell_type": "code",
   "execution_count": 8,
   "metadata": {},
   "outputs": [
    {
     "name": "stdout",
     "output_type": "stream",
     "text": [
      "compiling preconditioned objective ... \n",
      "done. Elasped: 33.6212\n",
      "init kl: 2801.014344\n",
      "iteration [20]; kl:2799.961902; elapsed: 1.075secs\n",
      "iteration [37]; kl:2799.841273; elapsed: 1.025secs\n",
      "lbfgs converged successfully\n",
      "done. Elapsed 2.6482\n"
     ]
    }
   ],
   "source": [
    "vb_opt_dict, vb_opt, out, precond_objective, lbfgs_time = \\\n",
    "    s_optim_lib.run_preconditioned_lbfgs(g_obs, \n",
    "                        vb_params_dict, \n",
    "                        vb_params_paragami,\n",
    "                        prior_params_dict,\n",
    "                        gh_loc, gh_weights)\n"
   ]
  },
  {
   "cell_type": "code",
   "execution_count": 9,
   "metadata": {},
   "outputs": [
    {
     "data": {
      "text/plain": [
       "DeviceArray(4.85051999e-11, dtype=float64)"
      ]
     },
     "execution_count": 9,
     "metadata": {},
     "output_type": "execute_result"
    }
   ],
   "source": [
    "np.abs(vb_opt - np.load('./testing.npz')['vb_opt']).max()"
   ]
  },
  {
   "cell_type": "code",
   "execution_count": 10,
   "metadata": {},
   "outputs": [
    {
     "data": {
      "text/plain": [
       "<function bnpmodeling_runjingdev.cluster_quantities_lib._cumprod_through_log(x, axis=None)>"
      ]
     },
     "execution_count": 10,
     "metadata": {},
     "output_type": "execute_result"
    }
   ],
   "source": [
    "import bnpmodeling_runjingdev.cluster_quantities_lib as cluster_quantities_lib\n",
    "cluster_quantities_lib._cumprod_through_log"
   ]
  },
  {
   "cell_type": "code",
   "execution_count": null,
   "metadata": {},
   "outputs": [],
   "source": [
    "import inspect\n",
    "lines = inspect.getsource(cluster_quantities_lib._cumprod_through_log)\n",
    "print(lines)"
   ]
  },
  {
   "cell_type": "code",
   "execution_count": null,
   "metadata": {},
   "outputs": [],
   "source": []
  }
 ],
 "metadata": {
  "kernelspec": {
   "display_name": "bnp_sensitivity_testing",
   "language": "python",
   "name": "bnp_sensitivity_testing"
  },
  "language_info": {
   "codemirror_mode": {
    "name": "ipython",
    "version": 3
   },
   "file_extension": ".py",
   "mimetype": "text/x-python",
   "name": "python",
   "nbconvert_exporter": "python",
   "pygments_lexer": "ipython3",
   "version": "3.9.1"
  }
 },
 "nbformat": 4,
 "nbformat_minor": 4
}
